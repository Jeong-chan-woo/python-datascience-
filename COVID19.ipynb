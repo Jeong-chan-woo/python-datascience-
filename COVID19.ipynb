{
  "nbformat": 4,
  "nbformat_minor": 0,
  "metadata": {
    "colab": {
      "name": "MidtermExam_19011712.ipynb",
      "provenance": [],
      "collapsed_sections": []
    },
    "kernelspec": {
      "name": "python3",
      "display_name": "Python 3"
    }
  },
  "cells": [
    {
      "cell_type": "markdown",
      "metadata": {
        "id": "Rx9rqo4lqL86",
        "colab_type": "text"
      },
      "source": [
        "Problem 2."
      ]
    },
    {
      "cell_type": "code",
      "metadata": {
        "id": "DRmdIBJaqM3v",
        "colab_type": "code",
        "colab": {}
      },
      "source": [
        "import pandas as pd\n",
        "import numpy as np\n",
        "import matplotlib.pyplot as plt"
      ],
      "execution_count": 0,
      "outputs": []
    },
    {
      "cell_type": "markdown",
      "metadata": {
        "id": "SXbFMVWCqNBE",
        "colab_type": "text"
      },
      "source": [
        "Problem 3."
      ]
    },
    {
      "cell_type": "code",
      "metadata": {
        "id": "9mpmFRPwqNJc",
        "colab_type": "code",
        "outputId": "2b02a042-83d1-487b-c732-066f8b731f54",
        "colab": {
          "base_uri": "https://localhost:8080/",
          "height": 35
        }
      },
      "source": [
        "from google.colab import drive\n",
        "drive.mount('/content/gdrive')"
      ],
      "execution_count": 0,
      "outputs": [
        {
          "output_type": "stream",
          "text": [
            "Drive already mounted at /content/gdrive; to attempt to forcibly remount, call drive.mount(\"/content/gdrive\", force_remount=True).\n"
          ],
          "name": "stdout"
        }
      ]
    },
    {
      "cell_type": "code",
      "metadata": {
        "id": "CR79a735rpxy",
        "colab_type": "code",
        "colab": {}
      },
      "source": [
        "file_path = \"/content/gdrive/My Drive/Colab Notebooks/PatientDataCOVID19.csv\"\n",
        "data = pd.read_csv(file_path, na_values=['NotAvailable'])"
      ],
      "execution_count": 0,
      "outputs": []
    },
    {
      "cell_type": "markdown",
      "metadata": {
        "id": "LH_gIWGYqNR2",
        "colab_type": "text"
      },
      "source": [
        "Problem 4."
      ]
    },
    {
      "cell_type": "code",
      "metadata": {
        "id": "cadpOehdqNZz",
        "colab_type": "code",
        "outputId": "61cd952b-8436-4161-8220-71788734da83",
        "colab": {
          "base_uri": "https://localhost:8080/",
          "height": 379
        }
      },
      "source": [
        "data.tail(10)"
      ],
      "execution_count": 0,
      "outputs": [
        {
          "output_type": "execute_result",
          "data": {
            "text/html": [
              "<div>\n",
              "<style scoped>\n",
              "    .dataframe tbody tr th:only-of-type {\n",
              "        vertical-align: middle;\n",
              "    }\n",
              "\n",
              "    .dataframe tbody tr th {\n",
              "        vertical-align: top;\n",
              "    }\n",
              "\n",
              "    .dataframe thead th {\n",
              "        text-align: right;\n",
              "    }\n",
              "</style>\n",
              "<table border=\"1\" class=\"dataframe\">\n",
              "  <thead>\n",
              "    <tr style=\"text-align: right;\">\n",
              "      <th></th>\n",
              "      <th>Age</th>\n",
              "      <th>Sex</th>\n",
              "      <th>City</th>\n",
              "      <th>State</th>\n",
              "      <th>AdminDivision</th>\n",
              "      <th>Country</th>\n",
              "      <th>GeoPosX</th>\n",
              "      <th>GeoPosY</th>\n",
              "      <th>DateOfOnsetSymptoms</th>\n",
              "      <th>DateOfAdmissionHospital</th>\n",
              "      <th>DateOfConfirmation</th>\n",
              "      <th>Symptoms</th>\n",
              "      <th>LivesInWuhan</th>\n",
              "      <th>LivesInWuhanComment</th>\n",
              "      <th>TravelHistoryDateStart</th>\n",
              "      <th>TravelHistoryDateEnd</th>\n",
              "      <th>ReportedMarketExposure</th>\n",
              "      <th>ReportedMarketExposureComment</th>\n",
              "      <th>ChronicDisease</th>\n",
              "      <th>ChronicDiseaseTypes</th>\n",
              "      <th>SequenceAvailable</th>\n",
              "      <th>Discharged</th>\n",
              "      <th>Death</th>\n",
              "      <th>DateOfDeath</th>\n",
              "      <th>DateOfDischarge</th>\n",
              "    </tr>\n",
              "  </thead>\n",
              "  <tbody>\n",
              "    <tr>\n",
              "      <th>17724</th>\n",
              "      <td>70.0</td>\n",
              "      <td>Female</td>\n",
              "      <td>NaN</td>\n",
              "      <td>NaN</td>\n",
              "      <td>Washington</td>\n",
              "      <td>UnitedStates</td>\n",
              "      <td>47.491332</td>\n",
              "      <td>-121.803640</td>\n",
              "      <td>NaN</td>\n",
              "      <td>NaN</td>\n",
              "      <td>03-04-2020</td>\n",
              "      <td>NaN</td>\n",
              "      <td>NaN</td>\n",
              "      <td>NaN</td>\n",
              "      <td>NaN</td>\n",
              "      <td>NaN</td>\n",
              "      <td>NaN</td>\n",
              "      <td>NaN</td>\n",
              "      <td>FALSE</td>\n",
              "      <td>NaN</td>\n",
              "      <td>NaN</td>\n",
              "      <td>NaN</td>\n",
              "      <td>NaN</td>\n",
              "      <td>NaN</td>\n",
              "      <td>NaN</td>\n",
              "    </tr>\n",
              "    <tr>\n",
              "      <th>17725</th>\n",
              "      <td>50.0</td>\n",
              "      <td>NaN</td>\n",
              "      <td>NaN</td>\n",
              "      <td>NaN</td>\n",
              "      <td>Washington</td>\n",
              "      <td>UnitedStates</td>\n",
              "      <td>46.920447</td>\n",
              "      <td>-122.830710</td>\n",
              "      <td>NaN</td>\n",
              "      <td>NaN</td>\n",
              "      <td>03-11-2020</td>\n",
              "      <td>NaN</td>\n",
              "      <td>NaN</td>\n",
              "      <td>NaN</td>\n",
              "      <td>NaN</td>\n",
              "      <td>NaN</td>\n",
              "      <td>NaN</td>\n",
              "      <td>NaN</td>\n",
              "      <td>FALSE</td>\n",
              "      <td>NaN</td>\n",
              "      <td>NaN</td>\n",
              "      <td>NaN</td>\n",
              "      <td>NaN</td>\n",
              "      <td>NaN</td>\n",
              "      <td>NaN</td>\n",
              "    </tr>\n",
              "    <tr>\n",
              "      <th>17726</th>\n",
              "      <td>80.0</td>\n",
              "      <td>NaN</td>\n",
              "      <td>NaN</td>\n",
              "      <td>NaN</td>\n",
              "      <td>Washington</td>\n",
              "      <td>UnitedStates</td>\n",
              "      <td>47.209186</td>\n",
              "      <td>-119.450230</td>\n",
              "      <td>NaN</td>\n",
              "      <td>02-29-2020</td>\n",
              "      <td>03-04-2020</td>\n",
              "      <td>NaN</td>\n",
              "      <td>NaN</td>\n",
              "      <td>NaN</td>\n",
              "      <td>NaN</td>\n",
              "      <td>NaN</td>\n",
              "      <td>NaN</td>\n",
              "      <td>NaN</td>\n",
              "      <td>FALSE</td>\n",
              "      <td>NaN</td>\n",
              "      <td>NaN</td>\n",
              "      <td>NaN</td>\n",
              "      <td>NaN</td>\n",
              "      <td>NaN</td>\n",
              "      <td>03-08-2020</td>\n",
              "    </tr>\n",
              "    <tr>\n",
              "      <th>17727</th>\n",
              "      <td>20.0</td>\n",
              "      <td>Male</td>\n",
              "      <td>NaN</td>\n",
              "      <td>NaN</td>\n",
              "      <td>Washington</td>\n",
              "      <td>UnitedStates</td>\n",
              "      <td>48.479711</td>\n",
              "      <td>-121.727390</td>\n",
              "      <td>NaN</td>\n",
              "      <td>NaN</td>\n",
              "      <td>03-11-2020</td>\n",
              "      <td>NaN</td>\n",
              "      <td>NaN</td>\n",
              "      <td>NaN</td>\n",
              "      <td>NaN</td>\n",
              "      <td>NaN</td>\n",
              "      <td>NaN</td>\n",
              "      <td>NaN</td>\n",
              "      <td>FALSE</td>\n",
              "      <td>NaN</td>\n",
              "      <td>NaN</td>\n",
              "      <td>NaN</td>\n",
              "      <td>NaN</td>\n",
              "      <td>NaN</td>\n",
              "      <td>NaN</td>\n",
              "    </tr>\n",
              "    <tr>\n",
              "      <th>17728</th>\n",
              "      <td>60.0</td>\n",
              "      <td>Male</td>\n",
              "      <td>NaN</td>\n",
              "      <td>NaN</td>\n",
              "      <td>Nevada</td>\n",
              "      <td>UnitedStates</td>\n",
              "      <td>36.219214</td>\n",
              "      <td>-115.018570</td>\n",
              "      <td>NaN</td>\n",
              "      <td>NaN</td>\n",
              "      <td>03-11-2020</td>\n",
              "      <td>NaN</td>\n",
              "      <td>NaN</td>\n",
              "      <td>NaN</td>\n",
              "      <td>NaN</td>\n",
              "      <td>NaN</td>\n",
              "      <td>NaN</td>\n",
              "      <td>NaN</td>\n",
              "      <td>FALSE</td>\n",
              "      <td>NaN</td>\n",
              "      <td>NaN</td>\n",
              "      <td>NaN</td>\n",
              "      <td>NaN</td>\n",
              "      <td>NaN</td>\n",
              "      <td>NaN</td>\n",
              "    </tr>\n",
              "    <tr>\n",
              "      <th>17729</th>\n",
              "      <td>39.0</td>\n",
              "      <td>Female</td>\n",
              "      <td>NewYork</td>\n",
              "      <td>NewYork</td>\n",
              "      <td>NewYork</td>\n",
              "      <td>UnitedStates</td>\n",
              "      <td>40.661000</td>\n",
              "      <td>-73.944000</td>\n",
              "      <td>NaN</td>\n",
              "      <td>NaN</td>\n",
              "      <td>03-02-2020</td>\n",
              "      <td>mildsymptoms</td>\n",
              "      <td>NaN</td>\n",
              "      <td>NaN</td>\n",
              "      <td>02-25-2020</td>\n",
              "      <td>02-25-2020</td>\n",
              "      <td>NaN</td>\n",
              "      <td>NaN</td>\n",
              "      <td>FALSE</td>\n",
              "      <td>NaN</td>\n",
              "      <td>NaN</td>\n",
              "      <td>NaN</td>\n",
              "      <td>NaN</td>\n",
              "      <td>NaN</td>\n",
              "      <td>NaN</td>\n",
              "    </tr>\n",
              "    <tr>\n",
              "      <th>17730</th>\n",
              "      <td>40.0</td>\n",
              "      <td>Male</td>\n",
              "      <td>NaN</td>\n",
              "      <td>NaN</td>\n",
              "      <td>NewYork</td>\n",
              "      <td>UnitedStates</td>\n",
              "      <td>40.876838</td>\n",
              "      <td>-72.858595</td>\n",
              "      <td>NaN</td>\n",
              "      <td>NaN</td>\n",
              "      <td>03-08-2020</td>\n",
              "      <td>NaN</td>\n",
              "      <td>NaN</td>\n",
              "      <td>NaN</td>\n",
              "      <td>NaN</td>\n",
              "      <td>NaN</td>\n",
              "      <td>NaN</td>\n",
              "      <td>NaN</td>\n",
              "      <td>FALSE</td>\n",
              "      <td>NaN</td>\n",
              "      <td>NaN</td>\n",
              "      <td>NaN</td>\n",
              "      <td>NaN</td>\n",
              "      <td>NaN</td>\n",
              "      <td>NaN</td>\n",
              "    </tr>\n",
              "    <tr>\n",
              "      <th>17731</th>\n",
              "      <td>46.0</td>\n",
              "      <td>Female</td>\n",
              "      <td>NewRochelle</td>\n",
              "      <td>NewYork</td>\n",
              "      <td>NewYork</td>\n",
              "      <td>UnitedStates</td>\n",
              "      <td>40.908610</td>\n",
              "      <td>-73.781900</td>\n",
              "      <td>NaN</td>\n",
              "      <td>NaN</td>\n",
              "      <td>03-04-2020</td>\n",
              "      <td>NaN</td>\n",
              "      <td>NaN</td>\n",
              "      <td>NaN</td>\n",
              "      <td>NaN</td>\n",
              "      <td>NaN</td>\n",
              "      <td>NaN</td>\n",
              "      <td>NaN</td>\n",
              "      <td>FALSE</td>\n",
              "      <td>NaN</td>\n",
              "      <td>NaN</td>\n",
              "      <td>NaN</td>\n",
              "      <td>NaN</td>\n",
              "      <td>NaN</td>\n",
              "      <td>NaN</td>\n",
              "    </tr>\n",
              "    <tr>\n",
              "      <th>17732</th>\n",
              "      <td>45.0</td>\n",
              "      <td>Male</td>\n",
              "      <td>NewRochelle</td>\n",
              "      <td>NewYork</td>\n",
              "      <td>NewYork</td>\n",
              "      <td>UnitedStates</td>\n",
              "      <td>40.908610</td>\n",
              "      <td>-73.781900</td>\n",
              "      <td>NaN</td>\n",
              "      <td>NaN</td>\n",
              "      <td>03-04-2020</td>\n",
              "      <td>NaN</td>\n",
              "      <td>NaN</td>\n",
              "      <td>NaN</td>\n",
              "      <td>NaN</td>\n",
              "      <td>NaN</td>\n",
              "      <td>NaN</td>\n",
              "      <td>NaN</td>\n",
              "      <td>FALSE</td>\n",
              "      <td>NaN</td>\n",
              "      <td>NaN</td>\n",
              "      <td>NaN</td>\n",
              "      <td>NaN</td>\n",
              "      <td>NaN</td>\n",
              "      <td>NaN</td>\n",
              "    </tr>\n",
              "    <tr>\n",
              "      <th>17733</th>\n",
              "      <td>NaN</td>\n",
              "      <td>NaN</td>\n",
              "      <td>NaN</td>\n",
              "      <td>NaN</td>\n",
              "      <td>NaN</td>\n",
              "      <td>NaN</td>\n",
              "      <td>NaN</td>\n",
              "      <td>NaN</td>\n",
              "      <td>NaN</td>\n",
              "      <td>NaN</td>\n",
              "      <td>NaN</td>\n",
              "      <td>NaN</td>\n",
              "      <td>NaN</td>\n",
              "      <td>NaN</td>\n",
              "      <td>NaN</td>\n",
              "      <td>NaN</td>\n",
              "      <td>NaN</td>\n",
              "      <td>NaN</td>\n",
              "      <td>NaN</td>\n",
              "      <td>NaN</td>\n",
              "      <td>NaN</td>\n",
              "      <td>NaN</td>\n",
              "      <td>NaN</td>\n",
              "      <td>NaN</td>\n",
              "      <td>NaN</td>\n",
              "    </tr>\n",
              "  </tbody>\n",
              "</table>\n",
              "</div>"
            ],
            "text/plain": [
              "        Age     Sex         City  ... Death DateOfDeath DateOfDischarge\n",
              "17724  70.0  Female          NaN  ...   NaN         NaN             NaN\n",
              "17725  50.0     NaN          NaN  ...   NaN         NaN             NaN\n",
              "17726  80.0     NaN          NaN  ...   NaN         NaN      03-08-2020\n",
              "17727  20.0    Male          NaN  ...   NaN         NaN             NaN\n",
              "17728  60.0    Male          NaN  ...   NaN         NaN             NaN\n",
              "17729  39.0  Female      NewYork  ...   NaN         NaN             NaN\n",
              "17730  40.0    Male          NaN  ...   NaN         NaN             NaN\n",
              "17731  46.0  Female  NewRochelle  ...   NaN         NaN             NaN\n",
              "17732  45.0    Male  NewRochelle  ...   NaN         NaN             NaN\n",
              "17733   NaN     NaN          NaN  ...   NaN         NaN             NaN\n",
              "\n",
              "[10 rows x 25 columns]"
            ]
          },
          "metadata": {
            "tags": []
          },
          "execution_count": 4
        }
      ]
    },
    {
      "cell_type": "markdown",
      "metadata": {
        "id": "82FpvcZsqNgg",
        "colab_type": "text"
      },
      "source": [
        "Problem 5."
      ]
    },
    {
      "cell_type": "code",
      "metadata": {
        "id": "xyI57iteuDqZ",
        "colab_type": "code",
        "colab": {}
      },
      "source": [
        "data5 = data['Country'].dropna()"
      ],
      "execution_count": 0,
      "outputs": []
    },
    {
      "cell_type": "code",
      "metadata": {
        "id": "iNoahQ87ty-m",
        "colab_type": "code",
        "outputId": "68247545-5762-460b-afc0-303887766ad5",
        "colab": {
          "base_uri": "https://localhost:8080/",
          "height": 35
        }
      },
      "source": [
        "len(data5.unique())"
      ],
      "execution_count": 0,
      "outputs": [
        {
          "output_type": "execute_result",
          "data": {
            "text/plain": [
              "109"
            ]
          },
          "metadata": {
            "tags": []
          },
          "execution_count": 6
        }
      ]
    },
    {
      "cell_type": "code",
      "metadata": {
        "id": "u_RjjGhWqNnT",
        "colab_type": "code",
        "outputId": "d5ab3350-0e16-4e6c-ad41-d3c59289b2e6",
        "colab": {
          "base_uri": "https://localhost:8080/",
          "height": 395
        }
      },
      "source": [
        "data5.unique()"
      ],
      "execution_count": 0,
      "outputs": [
        {
          "output_type": "execute_result",
          "data": {
            "text/plain": [
              "array(['China', 'Japan', 'Thailand', 'Nepal', 'SouthKorea', 'Australia',\n",
              "       'UnitedStates', 'Vietnam', 'Philippines', 'France', 'Singapore',\n",
              "       'Canada', 'Germany', 'Finland', 'Cambodia', 'Mexico', 'Malaysia',\n",
              "       'Italy', 'Pakistan', 'Brazil', 'Croatia', 'Spain', 'Switzerland',\n",
              "       'Romania', 'Portugal', 'Tunisia', 'Iceland', 'Chile',\n",
              "       'SouthAfrica', 'Bhutan', 'Argentina', 'Malta', 'Bolivia',\n",
              "       'Nigeria', 'Namibia', 'Guatemala', 'Algeria', 'Gambia',\n",
              "       'UnitedKingdom', 'UnitedArabEmirates', 'Lebanon', 'Macedonia',\n",
              "       'Kuwait', 'Greece', 'Oman', 'Afghanistan', 'Austria', 'SanMarino',\n",
              "       'Norway', 'Georgia', 'Iraq', 'Bahrain', 'Netherlands', 'Estonia',\n",
              "       'Sweden', 'Israel', 'Lithuania', 'Ecuador', 'Senegal', 'Latvia',\n",
              "       'SaudiArabia', 'Russia', 'Qatar', 'Jordan', 'Belgium', 'Andorra',\n",
              "       'India', 'CzechRepublic', 'Ukraine', 'Morocco', 'Ireland',\n",
              "       'NewZealand', 'Liechtenstein', 'Gibraltar', 'Poland', 'Slovenia',\n",
              "       'Azerbaijan', 'Armenia', 'SriLanka', 'Cameroon', 'Serbia',\n",
              "       'Colombia', 'BosniaHerzegovina', 'Slovakia', 'Guyana', 'Moldova',\n",
              "       'Bulgaria', 'Luxembourg', 'Peru', 'Panama', 'Mongolia',\n",
              "       'Venezuela', 'Kenya', 'Ethiopia', 'Kosovo',\n",
              "       'SaintVincentGrenadines', 'Cuba', 'Reunion', 'PuertoRico', 'Egypt',\n",
              "       'Iran', 'Niger', 'Ghana', 'Rwanda', 'Zimbabwe', 'Benin',\n",
              "       'Kazakhstan', 'Uruguay', 'Paraguay'], dtype=object)"
            ]
          },
          "metadata": {
            "tags": []
          },
          "execution_count": 7
        }
      ]
    },
    {
      "cell_type": "markdown",
      "metadata": {
        "id": "R9au5QksqNtD",
        "colab_type": "text"
      },
      "source": [
        "Problem 6."
      ]
    },
    {
      "cell_type": "code",
      "metadata": {
        "id": "HhOMCNDYqN1m",
        "colab_type": "code",
        "outputId": "967bff64-8f70-40b1-afd2-dce2ff4de383",
        "colab": {
          "base_uri": "https://localhost:8080/",
          "height": 35
        }
      },
      "source": [
        "data_male = data[data['Sex']=='Male']\n",
        "data_male.shape[0]"
      ],
      "execution_count": 0,
      "outputs": [
        {
          "output_type": "execute_result",
          "data": {
            "text/plain": [
              "8896"
            ]
          },
          "metadata": {
            "tags": []
          },
          "execution_count": 8
        }
      ]
    },
    {
      "cell_type": "code",
      "metadata": {
        "id": "eJeFDvkZujf5",
        "colab_type": "code",
        "outputId": "7c2037ed-824f-4953-ec2f-b8711be1bc42",
        "colab": {
          "base_uri": "https://localhost:8080/",
          "height": 35
        }
      },
      "source": [
        "data_female = data[data['Sex']=='Female']\n",
        "data_female.shape[0]"
      ],
      "execution_count": 0,
      "outputs": [
        {
          "output_type": "execute_result",
          "data": {
            "text/plain": [
              "6906"
            ]
          },
          "metadata": {
            "tags": []
          },
          "execution_count": 9
        }
      ]
    },
    {
      "cell_type": "markdown",
      "metadata": {
        "id": "HI8OolMfqN8a",
        "colab_type": "text"
      },
      "source": [
        "Problem 7."
      ]
    },
    {
      "cell_type": "code",
      "metadata": {
        "id": "g_WcgnHfqODA",
        "colab_type": "code",
        "outputId": "17fc15a2-410c-46ae-bebc-9f7a6b4539a0",
        "colab": {
          "base_uri": "https://localhost:8080/",
          "height": 35
        }
      },
      "source": [
        "data7 = data[data['Country']=='SouthKorea']\n",
        "data7 = data7.dropna(subset=['Symptoms'])\n",
        "data7 = data7[data7['Symptoms'].str.contains('fever')]\n",
        "data7.shape[0]"
      ],
      "execution_count": 0,
      "outputs": [
        {
          "output_type": "execute_result",
          "data": {
            "text/plain": [
              "24"
            ]
          },
          "metadata": {
            "tags": []
          },
          "execution_count": 10
        }
      ]
    },
    {
      "cell_type": "markdown",
      "metadata": {
        "id": "TqOEyEmpqOJz",
        "colab_type": "text"
      },
      "source": [
        "Problem 8."
      ]
    },
    {
      "cell_type": "code",
      "metadata": {
        "id": "KRWT1hHXaiAS",
        "colab_type": "code",
        "outputId": "5d5231bd-5fcc-4ffe-8c6b-b0d4e8f32738",
        "colab": {
          "base_uri": "https://localhost:8080/",
          "height": 107
        }
      },
      "source": [
        "data8 = data.dropna(subset=['Symptoms'])\n",
        "\n",
        "cough = data8[data8['Symptoms'].str.contains('cough')]\n",
        "fever = data8[data8['Symptoms'].str.contains('fever')]\n",
        "fatigue = data8[data8['Symptoms'].str.contains('fatigue')]\n",
        "shortnessofbreath = data8[data8['Symptoms'].str.contains('shortnessofbreath')]\n",
        "chestpain = data8[data8['Symptoms'].str.contains('chestpain')]\n",
        "\n",
        "print('cough:', len(cough))\n",
        "print('fever:', len(fever))\n",
        "print('fatigue:', len(fatigue))\n",
        "print('shortnessofbreath:', len(shortnessofbreath))\n",
        "print('chestpain:', len(chestpain))"
      ],
      "execution_count": 0,
      "outputs": [
        {
          "output_type": "stream",
          "text": [
            "cough: 571\n",
            "fever: 1007\n",
            "fatigue: 78\n",
            "shortnessofbreath: 63\n",
            "chestpain: 28\n"
          ],
          "name": "stdout"
        }
      ]
    },
    {
      "cell_type": "markdown",
      "metadata": {
        "id": "rc7tzuHrn2Zx",
        "colab_type": "text"
      },
      "source": [
        "cough, fever, fatigue, shortnessofbreath, chestpain 중에 가장 많이 관찰되는 증상의 종류는 fever이고 수는 1007이다."
      ]
    },
    {
      "cell_type": "markdown",
      "metadata": {
        "id": "VyU_4Q_LqOXJ",
        "colab_type": "text"
      },
      "source": [
        "Problem 9."
      ]
    },
    {
      "cell_type": "code",
      "metadata": {
        "id": "rA_BSU5eqOhd",
        "colab_type": "code",
        "outputId": "102b93d8-88f6-443f-964d-49b4f2415f95",
        "colab": {
          "base_uri": "https://localhost:8080/",
          "height": 35
        }
      },
      "source": [
        "only_one_symptoms = data8[~data8['Symptoms'].str.contains('-')]\n",
        "\n",
        "len(only_one_symptoms)"
      ],
      "execution_count": 0,
      "outputs": [
        {
          "output_type": "execute_result",
          "data": {
            "text/plain": [
              "770"
            ]
          },
          "metadata": {
            "tags": []
          },
          "execution_count": 12
        }
      ]
    },
    {
      "cell_type": "code",
      "metadata": {
        "id": "RH952dfCZbpy",
        "colab_type": "code",
        "outputId": "af29454e-b3d6-442a-8a8a-0a97ab038326",
        "colab": {
          "base_uri": "https://localhost:8080/",
          "height": 665
        }
      },
      "source": [
        "only_one_symptoms['Symptoms'].value_counts()"
      ],
      "execution_count": 0,
      "outputs": [
        {
          "output_type": "execute_result",
          "data": {
            "text/plain": [
              "fever                                344\n",
              "mildsymptoms                         182\n",
              "cough                                 59\n",
              "pneumonitis                           38\n",
              "asymptomatic                          28\n",
              "pneumonia                             24\n",
              "respiratorysymptoms                   11\n",
              "fatigue                               11\n",
              "sorethroat                            10\n",
              "malaise                                8\n",
              "shortnessofbreath                      5\n",
              "rhinorrhea                             4\n",
              "diarrhea                               4\n",
              "pharyngalgia                           4\n",
              "acuterespiratorydistresssyndrome       4\n",
              "lesionsonchestradiographs              2\n",
              "anorexia                               2\n",
              "weakness                               2\n",
              "drythroat                              2\n",
              "backpain                               2\n",
              "headache                               2\n",
              "chestpain                              2\n",
              "acutepharyngitis                       2\n",
              "poorphysicalcondition                  2\n",
              "acuterespiratoryfailure                2\n",
              "nausea                                 2\n",
              "sneezing                               2\n",
              "myalgias                               2\n",
              "aggressivepulmonarysymptomatology      2\n",
              "similartoarespiratoryinfection         1\n",
              "acuterespiratorydisease                1\n",
              "acutemyocardialinfarction              1\n",
              "kidneyfailure                          1\n",
              "acuterespiratoryviralinfection         1\n",
              "primarymyelofibrosis                   1\n",
              "Name: Symptoms, dtype: int64"
            ]
          },
          "metadata": {
            "tags": []
          },
          "execution_count": 13
        }
      ]
    },
    {
      "cell_type": "markdown",
      "metadata": {
        "id": "LAn5M3m6qOnv",
        "colab_type": "text"
      },
      "source": [
        "Problem 10."
      ]
    },
    {
      "cell_type": "code",
      "metadata": {
        "id": "RXr7AEzpqOtw",
        "colab_type": "code",
        "outputId": "88ec44a2-ea7c-4d8c-8742-2d2db09f175c",
        "colab": {
          "base_uri": "https://localhost:8080/",
          "height": 413
        }
      },
      "source": [
        "data10 = data[data['Country']=='China']\n",
        "data10 = data10.groupby(by='City')['City'].count()\n",
        "data10 = data10.sort_values(ascending=False)\n",
        "data10 = data10.head(20)\n",
        "data10"
      ],
      "execution_count": 0,
      "outputs": [
        {
          "output_type": "execute_result",
          "data": {
            "text/plain": [
              "City\n",
              "Wuhan            176\n",
              "Hefei            118\n",
              "Xian             100\n",
              "Beijing           76\n",
              "HongKong          68\n",
              "Lanzhou           52\n",
              "Xuzhou            42\n",
              "Fangchenggang     38\n",
              "Changchun         34\n",
              "Kunming           32\n",
              "Wuxi              32\n",
              "Siping            32\n",
              "Sanya             30\n",
              "Ankang            30\n",
              "Nanjing           30\n",
              "Bijie             30\n",
              "Xining            30\n",
              "Guiyang           28\n",
              "Tianjin           26\n",
              "Changzhou         26\n",
              "Name: City, dtype: int64"
            ]
          },
          "metadata": {
            "tags": []
          },
          "execution_count": 14
        }
      ]
    },
    {
      "cell_type": "code",
      "metadata": {
        "id": "mv0vVpRrfQha",
        "colab_type": "code",
        "outputId": "57f3f271-75f7-447c-8cf3-128e7009bd69",
        "colab": {
          "base_uri": "https://localhost:8080/",
          "height": 367
        }
      },
      "source": [
        "data10.plot(kind='bar')"
      ],
      "execution_count": 0,
      "outputs": [
        {
          "output_type": "execute_result",
          "data": {
            "text/plain": [
              "<matplotlib.axes._subplots.AxesSubplot at 0x7f3103674908>"
            ]
          },
          "metadata": {
            "tags": []
          },
          "execution_count": 15
        },
        {
          "output_type": "display_data",
          "data": {
            "image/png": "[encoded data removed]",
            "text/plain": [
              "<Figure size 432x288 with 1 Axes>"
            ]
          },
          "metadata": {
            "tags": [],
            "needs_background": "light"
          }
        }
      ]
    },
    {
      "cell_type": "markdown",
      "metadata": {
        "id": "U4sw8sttqO0O",
        "colab_type": "text"
      },
      "source": [
        "Problem 11."
      ]
    },
    {
      "cell_type": "code",
      "metadata": {
        "id": "dAVkqcxyqO6c",
        "colab_type": "code",
        "outputId": "c86cfdc5-22ed-4a80-a0d0-76a7fb202cb1",
        "colab": {
          "base_uri": "https://localhost:8080/",
          "height": 35
        }
      },
      "source": [
        "data['LivesInWuhan'].unique()"
      ],
      "execution_count": 0,
      "outputs": [
        {
          "output_type": "execute_result",
          "data": {
            "text/plain": [
              "array(['TRUE', nan, 't', 'FALSE', 'f', 'F', 'T', '1', '0'], dtype=object)"
            ]
          },
          "metadata": {
            "tags": []
          },
          "execution_count": 16
        }
      ]
    },
    {
      "cell_type": "code",
      "metadata": {
        "id": "Y_GDRpbkIFi7",
        "colab_type": "code",
        "colab": {}
      },
      "source": [
        "data['LivesInWuhan'] = data['LivesInWuhan'].replace('TRUE', True)\n",
        "data['LivesInWuhan'] = data['LivesInWuhan'].replace('True', True)\n",
        "data['LivesInWuhan'] = data['LivesInWuhan'].replace('T', True)\n",
        "data['LivesInWuhan'] = data['LivesInWuhan'].replace('t', True)\n",
        "data['LivesInWuhan'] = data['LivesInWuhan'].replace('1', True)\n",
        "\n",
        "data['LivesInWuhan'] = data['LivesInWuhan'].replace('FALSE', False)\n",
        "data['LivesInWuhan'] = data['LivesInWuhan'].replace('False', False)\n",
        "data['LivesInWuhan'] = data['LivesInWuhan'].replace('F', False)\n",
        "data['LivesInWuhan'] = data['LivesInWuhan'].replace('f', False)\n",
        "data['LivesInWuhan'] = data['LivesInWuhan'].replace('0', False)"
      ],
      "execution_count": 0,
      "outputs": []
    },
    {
      "cell_type": "code",
      "metadata": {
        "id": "ZyS-huWeJW7m",
        "colab_type": "code",
        "outputId": "ccc13257-f648-427d-ea3d-1a5cc485d5c9",
        "colab": {
          "base_uri": "https://localhost:8080/",
          "height": 35
        }
      },
      "source": [
        "data['LivesInWuhan'].unique()"
      ],
      "execution_count": 0,
      "outputs": [
        {
          "output_type": "execute_result",
          "data": {
            "text/plain": [
              "array([True, nan, False], dtype=object)"
            ]
          },
          "metadata": {
            "tags": []
          },
          "execution_count": 18
        }
      ]
    },
    {
      "cell_type": "code",
      "metadata": {
        "id": "Z9q_m_eNLEbc",
        "colab_type": "code",
        "outputId": "2bd72edd-be89-4bf3-b815-debe8ca4a28c",
        "colab": {
          "base_uri": "https://localhost:8080/",
          "height": 35
        }
      },
      "source": [
        "data['ChronicDisease'].unique()"
      ],
      "execution_count": 0,
      "outputs": [
        {
          "output_type": "execute_result",
          "data": {
            "text/plain": [
              "array(['TRUE', 'F', 'FALSE', '1', '0', 'f', 't', 'T', nan], dtype=object)"
            ]
          },
          "metadata": {
            "tags": []
          },
          "execution_count": 19
        }
      ]
    },
    {
      "cell_type": "code",
      "metadata": {
        "id": "7cIq2sJJLEil",
        "colab_type": "code",
        "colab": {}
      },
      "source": [
        "data['ChronicDisease'] = data['ChronicDisease'].replace('TRUE', True)\n",
        "data['ChronicDisease'] = data['ChronicDisease'].replace('True', True)\n",
        "data['ChronicDisease'] = data['ChronicDisease'].replace('T', True)\n",
        "data['ChronicDisease'] = data['ChronicDisease'].replace('t', True)\n",
        "data['ChronicDisease'] = data['ChronicDisease'].replace('1', True)\n",
        "\n",
        "data['ChronicDisease'] = data['ChronicDisease'].replace('FALSE', False)\n",
        "data['ChronicDisease'] = data['ChronicDisease'].replace('False', False)\n",
        "data['ChronicDisease'] = data['ChronicDisease'].replace('F', False)\n",
        "data['ChronicDisease'] = data['ChronicDisease'].replace('f', False)\n",
        "data['ChronicDisease'] = data['ChronicDisease'].replace('0', False)"
      ],
      "execution_count": 0,
      "outputs": []
    },
    {
      "cell_type": "code",
      "metadata": {
        "id": "wxZXX2miLEnd",
        "colab_type": "code",
        "outputId": "f27af68e-9453-4e83-84ef-97e92633a46a",
        "colab": {
          "base_uri": "https://localhost:8080/",
          "height": 35
        }
      },
      "source": [
        "data['ChronicDisease'].unique()"
      ],
      "execution_count": 0,
      "outputs": [
        {
          "output_type": "execute_result",
          "data": {
            "text/plain": [
              "array([True, False, nan], dtype=object)"
            ]
          },
          "metadata": {
            "tags": []
          },
          "execution_count": 21
        }
      ]
    },
    {
      "cell_type": "code",
      "metadata": {
        "id": "bac_SGa2LElc",
        "colab_type": "code",
        "outputId": "07e864b8-8b60-4b26-fd8b-2d5e4a9f12b4",
        "colab": {
          "base_uri": "https://localhost:8080/",
          "height": 35
        }
      },
      "source": [
        "data['Death'].unique()"
      ],
      "execution_count": 0,
      "outputs": [
        {
          "output_type": "execute_result",
          "data": {
            "text/plain": [
              "array(['TRUE', nan, 'T'], dtype=object)"
            ]
          },
          "metadata": {
            "tags": []
          },
          "execution_count": 22
        }
      ]
    },
    {
      "cell_type": "code",
      "metadata": {
        "id": "xKhxVuKzL7kr",
        "colab_type": "code",
        "colab": {}
      },
      "source": [
        "data['Death'] = data['Death'].replace('TRUE', True)\n",
        "data['Death'] = data['Death'].replace('T', True)"
      ],
      "execution_count": 0,
      "outputs": []
    },
    {
      "cell_type": "code",
      "metadata": {
        "id": "-pbhYpiEL7qd",
        "colab_type": "code",
        "outputId": "ba2fcbdd-66a7-4e08-b4e0-8fa8ed7bf1f1",
        "colab": {
          "base_uri": "https://localhost:8080/",
          "height": 35
        }
      },
      "source": [
        "data['Death'].unique()"
      ],
      "execution_count": 0,
      "outputs": [
        {
          "output_type": "execute_result",
          "data": {
            "text/plain": [
              "array([True, nan], dtype=object)"
            ]
          },
          "metadata": {
            "tags": []
          },
          "execution_count": 24
        }
      ]
    },
    {
      "cell_type": "markdown",
      "metadata": {
        "id": "MNqCl2eLqjoS",
        "colab_type": "text"
      },
      "source": [
        "Problem 12."
      ]
    },
    {
      "cell_type": "code",
      "metadata": {
        "id": "avWJtAVAqkxv",
        "colab_type": "code",
        "outputId": "c7dfaa59-7aaa-4c99-8d18-3ff33452740e",
        "colab": {
          "base_uri": "https://localhost:8080/",
          "height": 305
        }
      },
      "source": [
        "data12 = data[(data['LivesInWuhan']==True) & (data['Country']!='China')]\n",
        "data12 = data12['Country'].value_counts()\n",
        "data12 = data12.sort_values(ascending=False)\n",
        "data12"
      ],
      "execution_count": 0,
      "outputs": [
        {
          "output_type": "execute_result",
          "data": {
            "text/plain": [
              "Singapore             24\n",
              "Japan                 20\n",
              "Australia             12\n",
              "UnitedArabEmirates     8\n",
              "Canada                 4\n",
              "Philippines            4\n",
              "Thailand               4\n",
              "SouthKorea             4\n",
              "UnitedStates           2\n",
              "Cambodia               2\n",
              "India                  2\n",
              "Malaysia               2\n",
              "Nepal                  2\n",
              "France                 2\n",
              "Malta                  1\n",
              "Name: Country, dtype: int64"
            ]
          },
          "metadata": {
            "tags": []
          },
          "execution_count": 25
        }
      ]
    },
    {
      "cell_type": "code",
      "metadata": {
        "id": "voa_9_sZSR7U",
        "colab_type": "code",
        "outputId": "5105b29f-340d-4a84-b0d7-9306be4226e6",
        "colab": {
          "base_uri": "https://localhost:8080/",
          "height": 593
        }
      },
      "source": [
        "data12.plot.pie(figsize=(10,10), fontsize=10, legend=True)"
      ],
      "execution_count": 0,
      "outputs": [
        {
          "output_type": "execute_result",
          "data": {
            "text/plain": [
              "<matplotlib.axes._subplots.AxesSubplot at 0x7f310353b160>"
            ]
          },
          "metadata": {
            "tags": []
          },
          "execution_count": 26
        },
        {
          "output_type": "display_data",
          "data": {
            "image/png": "[encoded data removed]",
            "text/plain": [
              "<Figure size 720x720 with 1 Axes>"
            ]
          },
          "metadata": {
            "tags": []
          }
        }
      ]
    },
    {
      "cell_type": "markdown",
      "metadata": {
        "id": "tM1kdWGwqlFP",
        "colab_type": "text"
      },
      "source": [
        "Problem 13."
      ]
    },
    {
      "cell_type": "code",
      "metadata": {
        "id": "_WXc1UK_qlPG",
        "colab_type": "code",
        "colab": {}
      },
      "source": [
        "data13 = data.dropna(subset=['Age'])"
      ],
      "execution_count": 0,
      "outputs": []
    },
    {
      "cell_type": "code",
      "metadata": {
        "id": "U5q8f6ivUUjH",
        "colab_type": "code",
        "outputId": "d6718034-7eff-4ee7-e1fc-c05e42b1427b",
        "colab": {
          "base_uri": "https://localhost:8080/",
          "height": 283
        }
      },
      "source": [
        "data13.boxplot(column='Age')"
      ],
      "execution_count": 0,
      "outputs": [
        {
          "output_type": "execute_result",
          "data": {
            "text/plain": [
              "<matplotlib.axes._subplots.AxesSubplot at 0x7f3103034fd0>"
            ]
          },
          "metadata": {
            "tags": []
          },
          "execution_count": 28
        },
        {
          "output_type": "display_data",
          "data": {
            "image/png": "[encoded data removed]",
            "text/plain": [
              "<Figure size 432x288 with 1 Axes>"
            ]
          },
          "metadata": {
            "tags": [],
            "needs_background": "light"
          }
        }
      ]
    },
    {
      "cell_type": "markdown",
      "metadata": {
        "id": "nsTeIoLuqlYS",
        "colab_type": "text"
      },
      "source": [
        "Problem 14."
      ]
    },
    {
      "cell_type": "code",
      "metadata": {
        "id": "DRQ-AX-iqlge",
        "colab_type": "code",
        "outputId": "62fe92f5-dbb1-4d38-a52d-d27bd3c4fe6b",
        "colab": {
          "base_uri": "https://localhost:8080/",
          "height": 319
        }
      },
      "source": [
        "data13.boxplot(column='Age', by='Sex')"
      ],
      "execution_count": 0,
      "outputs": [
        {
          "output_type": "execute_result",
          "data": {
            "text/plain": [
              "<matplotlib.axes._subplots.AxesSubplot at 0x7f3101808208>"
            ]
          },
          "metadata": {
            "tags": []
          },
          "execution_count": 29
        },
        {
          "output_type": "display_data",
          "data": {
            "image/png": "[encoded data removed]",
            "text/plain": [
              "<Figure size 432x288 with 1 Axes>"
            ]
          },
          "metadata": {
            "tags": [],
            "needs_background": "light"
          }
        }
      ]
    },
    {
      "cell_type": "markdown",
      "metadata": {
        "id": "Yan3Wr7PbsHh",
        "colab_type": "text"
      },
      "source": [
        "나이에 따른 남성과 여성 간 차이가 거의 존재 하지 않는 것 같다."
      ]
    },
    {
      "cell_type": "markdown",
      "metadata": {
        "id": "tRKwNaANqlpg",
        "colab_type": "text"
      },
      "source": [
        "Problem 15."
      ]
    },
    {
      "cell_type": "code",
      "metadata": {
        "id": "iNLQtl0VqlyC",
        "colab_type": "code",
        "outputId": "790f142b-82ae-4d7f-9585-d2adc5cef08f",
        "colab": {
          "base_uri": "https://localhost:8080/",
          "height": 125
        }
      },
      "source": [
        "data15 = data[data['Death']==True]\n",
        "data15 = data15.groupby(by='Country').count()\n",
        "data15 = data15[data15['Death']!=0]\n",
        "data15 = data15['Death']\n",
        "data15 = data15.sort_values(ascending=False)\n",
        "data15"
      ],
      "execution_count": 0,
      "outputs": [
        {
          "output_type": "execute_result",
          "data": {
            "text/plain": [
              "Country\n",
              "Philippines     89\n",
              "China           43\n",
              "UnitedStates    16\n",
              "France           1\n",
              "Name: Death, dtype: int64"
            ]
          },
          "metadata": {
            "tags": []
          },
          "execution_count": 30
        }
      ]
    },
    {
      "cell_type": "code",
      "metadata": {
        "id": "jRbtG1ymWNj_",
        "colab_type": "code",
        "outputId": "bf5efbf3-4f66-48d8-ca52-1a80f779ade2",
        "colab": {
          "base_uri": "https://localhost:8080/",
          "height": 283
        }
      },
      "source": [
        "data15 = data15.head(3)\n",
        "data15.plot(kind='barh')"
      ],
      "execution_count": 0,
      "outputs": [
        {
          "output_type": "execute_result",
          "data": {
            "text/plain": [
              "<matplotlib.axes._subplots.AxesSubplot at 0x7f3101730898>"
            ]
          },
          "metadata": {
            "tags": []
          },
          "execution_count": 31
        },
        {
          "output_type": "display_data",
          "data": {
            "image/png": "[encoded data removed]",
            "text/plain": [
              "<Figure size 432x288 with 1 Axes>"
            ]
          },
          "metadata": {
            "tags": [],
            "needs_background": "light"
          }
        }
      ]
    },
    {
      "cell_type": "markdown",
      "metadata": {
        "id": "WIPzTf26ql7V",
        "colab_type": "text"
      },
      "source": [
        "Problem 16."
      ]
    },
    {
      "cell_type": "code",
      "metadata": {
        "id": "TNsBz0MKqmDd",
        "colab_type": "code",
        "outputId": "8b735418-ae3e-4ca7-c956-8c5343b043f2",
        "colab": {
          "base_uri": "https://localhost:8080/",
          "height": 287
        }
      },
      "source": [
        "data16 = data[(data['Age']>=60) & (data['Age']<70)]\n",
        "data16 = data16[data16['ChronicDisease']==True]\n",
        "data16 = data16.groupby(by='Country')['ChronicDisease'].count()\n",
        "data16 = data16.sort_values(ascending=False)\n",
        "data16"
      ],
      "execution_count": 0,
      "outputs": [
        {
          "output_type": "execute_result",
          "data": {
            "text/plain": [
              "Country\n",
              "Singapore       36\n",
              "UnitedStates    35\n",
              "Philippines     26\n",
              "SouthKorea      22\n",
              "Canada           8\n",
              "China            7\n",
              "Brazil           6\n",
              "Australia        6\n",
              "Vietnam          2\n",
              "Malta            2\n",
              "Japan            2\n",
              "Bolivia          2\n",
              "Nigeria          1\n",
              "Name: ChronicDisease, dtype: int64"
            ]
          },
          "metadata": {
            "tags": []
          },
          "execution_count": 32
        }
      ]
    },
    {
      "cell_type": "code",
      "metadata": {
        "id": "uqsamfj08N_2",
        "colab_type": "code",
        "outputId": "c70747dd-26a7-40aa-955c-84397fec2e99",
        "colab": {
          "base_uri": "https://localhost:8080/",
          "height": 283
        }
      },
      "source": [
        "data16 = data16.head(10)\n",
        "data16.plot(kind='barh')"
      ],
      "execution_count": 0,
      "outputs": [
        {
          "output_type": "execute_result",
          "data": {
            "text/plain": [
              "<matplotlib.axes._subplots.AxesSubplot at 0x7f3101691978>"
            ]
          },
          "metadata": {
            "tags": []
          },
          "execution_count": 33
        },
        {
          "output_type": "display_data",
          "data": {
            "image/png": "[encoded data removed]",
            "text/plain": [
              "<Figure size 432x288 with 1 Axes>"
            ]
          },
          "metadata": {
            "tags": [],
            "needs_background": "light"
          }
        }
      ]
    },
    {
      "cell_type": "markdown",
      "metadata": {
        "id": "aqDYTiezqmL7",
        "colab_type": "text"
      },
      "source": [
        "Problem 17."
      ]
    },
    {
      "cell_type": "code",
      "metadata": {
        "id": "jyf3TLQHJrkA",
        "colab_type": "code",
        "outputId": "0dc5e01e-3a4a-42af-adc0-73feb1ade1e0",
        "colab": {
          "base_uri": "https://localhost:8080/",
          "height": 71
        }
      },
      "source": [
        "data17 = data.dropna(subset=['DateOfConfirmation'])\n",
        "data17 = data17[data17['DateOfConfirmation'].str.contains('2020')]\n",
        "\n",
        "month_1 = len(data17[data17['DateOfConfirmation'].str.slice(0,2)=='01'])\n",
        "month_2 = len(data17[data17['DateOfConfirmation'].str.slice(0,2)=='02'])\n",
        "month_3 = len(data17[data17['DateOfConfirmation'].str.slice(0,2)=='03'])\n",
        "\n",
        "print('1월:', month_1)\n",
        "print('2월:', month_2)\n",
        "print('3월:', month_3)"
      ],
      "execution_count": 0,
      "outputs": [
        {
          "output_type": "stream",
          "text": [
            "1월: 1104\n",
            "2월: 2289\n",
            "3월: 12594\n"
          ],
          "name": "stdout"
        }
      ]
    },
    {
      "cell_type": "code",
      "metadata": {
        "id": "2b6fE7LFKebP",
        "colab_type": "code",
        "outputId": "440af6de-8246-4c4c-c7bf-4b95e5a2084c",
        "colab": {
          "base_uri": "https://localhost:8080/",
          "height": 284
        }
      },
      "source": [
        "data_17 = pd.Series({'month_1':month_1,\n",
        "                     'month_2':month_2,\n",
        "                     'month_3':month_3})\n",
        "\n",
        "data_17.plot(linestyle='dashed', marker='o')"
      ],
      "execution_count": 0,
      "outputs": [
        {
          "output_type": "execute_result",
          "data": {
            "text/plain": [
              "<matplotlib.axes._subplots.AxesSubplot at 0x7f3101617c88>"
            ]
          },
          "metadata": {
            "tags": []
          },
          "execution_count": 35
        },
        {
          "output_type": "display_data",
          "data": {
            "image/png": "[encoded data removed]",
            "text/plain": [
              "<Figure size 432x288 with 1 Axes>"
            ]
          },
          "metadata": {
            "tags": [],
            "needs_background": "light"
          }
        }
      ]
    },
    {
      "cell_type": "markdown",
      "metadata": {
        "id": "kvGTeKu_qmcl",
        "colab_type": "text"
      },
      "source": [
        "Problem 18."
      ]
    },
    {
      "cell_type": "code",
      "metadata": {
        "id": "yYpcUFszTqG-",
        "colab_type": "code",
        "outputId": "8510b199-88df-446d-df5b-7e9a11978bcc",
        "colab": {
          "base_uri": "https://localhost:8080/",
          "height": 89
        }
      },
      "source": [
        "data18 = data.dropna(subset=['DateOfConfirmation'])\n",
        "data18 = data18[data18['DateOfConfirmation'].str.contains('2020')]\n",
        "data18 = data18[data18['DateOfConfirmation'].str.slice(0,2)=='02']\n",
        "\n",
        "data18 = data18.groupby(by='Country')['DateOfConfirmation'].count()\n",
        "\n",
        "print('2020년도 2월달에 코로나19 감염자로 확진된 중국, 한국, 미국의 환자 수')\n",
        "print('중국:', data18['China'])\n",
        "print('한국:', data18['SouthKorea'])\n",
        "print('미국:', data18['UnitedStates'])"
      ],
      "execution_count": 0,
      "outputs": [
        {
          "output_type": "stream",
          "text": [
            "2020년도 2월달에 코로나19 감염자로 확진된 중국, 한국, 미국의 환자 수\n",
            "중국: 1122\n",
            "한국: 110\n",
            "미국: 30\n"
          ],
          "name": "stdout"
        }
      ]
    },
    {
      "cell_type": "markdown",
      "metadata": {
        "id": "pFHsevonqmu4",
        "colab_type": "text"
      },
      "source": [
        "Problem 19."
      ]
    },
    {
      "cell_type": "code",
      "metadata": {
        "id": "bkkCuwpnqm8D",
        "colab_type": "code",
        "colab": {}
      },
      "source": [
        "data19 = data.dropna(subset=['DateOfConfirmation'])\n",
        "data19 = data19[data19['DateOfConfirmation'].str.contains('2020')]\n",
        "\n",
        "country_month_1 = data19[data19['DateOfConfirmation'].str.slice(0,2)=='01']\n",
        "country_month_2 = data19[data19['DateOfConfirmation'].str.slice(0,2)=='02']\n",
        "country_month_3 = data19[data19['DateOfConfirmation'].str.slice(0,2)=='03']\n",
        "\n",
        "country_month_1 = country_month_1.groupby(by='Country')['DateOfConfirmation'].count()\n",
        "country_month_2 = country_month_2.groupby(by='Country')['DateOfConfirmation'].count()\n",
        "country_month_3 = country_month_3.groupby(by='Country')['DateOfConfirmation'].count()\n",
        "\n",
        "country_month_1 = country_month_1.sort_values(ascending=False)\n",
        "country_month_2 = country_month_2.sort_values(ascending=False)\n",
        "country_month_3 = country_month_3.sort_values(ascending=False)\n",
        "\n",
        "data_19 = pd.DataFrame({'month_1':country_month_1,\n",
        "                       'month_2':country_month_2,\n",
        "                       'month_3':country_month_3})"
      ],
      "execution_count": 0,
      "outputs": []
    },
    {
      "cell_type": "code",
      "metadata": {
        "id": "SpxwDTbYpvkh",
        "colab_type": "code",
        "outputId": "2f364412-3253-4951-d59d-33029902c868",
        "colab": {
          "base_uri": "https://localhost:8080/",
          "height": 283
        }
      },
      "source": [
        "data_19_1 = data_19.sort_values(by='month_1', ascending=False)\n",
        "data_19_1 = data_19_1.head(5)\n",
        "data_19_1.plot(kind='barh', stacked=True)"
      ],
      "execution_count": 0,
      "outputs": [
        {
          "output_type": "execute_result",
          "data": {
            "text/plain": [
              "<matplotlib.axes._subplots.AxesSubplot at 0x7f3101617d30>"
            ]
          },
          "metadata": {
            "tags": []
          },
          "execution_count": 38
        },
        {
          "output_type": "display_data",
          "data": {
            "image/png": "[encoded data removed]",
            "text/plain": [
              "<Figure size 432x288 with 1 Axes>"
            ]
          },
          "metadata": {
            "tags": [],
            "needs_background": "light"
          }
        }
      ]
    },
    {
      "cell_type": "code",
      "metadata": {
        "id": "fYiQsGaErXwb",
        "colab_type": "code",
        "outputId": "7876e1af-b102-407c-bae1-f6e4d535d02f",
        "colab": {
          "base_uri": "https://localhost:8080/",
          "height": 283
        }
      },
      "source": [
        "data_19_2 = data_19.sort_values(by='month_2', ascending=False)\n",
        "data_19_2 = data_19_2.head(5)\n",
        "data_19_2.plot(kind='barh', stacked=True)"
      ],
      "execution_count": 0,
      "outputs": [
        {
          "output_type": "execute_result",
          "data": {
            "text/plain": [
              "<matplotlib.axes._subplots.AxesSubplot at 0x7f3101728ef0>"
            ]
          },
          "metadata": {
            "tags": []
          },
          "execution_count": 39
        },
        {
          "output_type": "display_data",
          "data": {
            "image/png": "[encoded data removed]",
            "text/plain": [
              "<Figure size 432x288 with 1 Axes>"
            ]
          },
          "metadata": {
            "tags": [],
            "needs_background": "light"
          }
        }
      ]
    },
    {
      "cell_type": "code",
      "metadata": {
        "id": "MJzNsfYprX4i",
        "colab_type": "code",
        "outputId": "7473dded-1c89-466a-99b8-2f956ab2dc98",
        "colab": {
          "base_uri": "https://localhost:8080/",
          "height": 283
        }
      },
      "source": [
        "data_19_3 = data_19.sort_values(by='month_3', ascending=False)\n",
        "data_19_3 = data_19_3.head(5)\n",
        "data_19_3.plot(kind='barh', stacked=True)"
      ],
      "execution_count": 0,
      "outputs": [
        {
          "output_type": "execute_result",
          "data": {
            "text/plain": [
              "<matplotlib.axes._subplots.AxesSubplot at 0x7f31014a1128>"
            ]
          },
          "metadata": {
            "tags": []
          },
          "execution_count": 40
        },
        {
          "output_type": "display_data",
          "data": {
            "image/png": "[encoded data removed]",
            "text/plain": [
              "<Figure size 432x288 with 1 Axes>"
            ]
          },
          "metadata": {
            "tags": [],
            "needs_background": "light"
          }
        }
      ]
    }
  ]
}