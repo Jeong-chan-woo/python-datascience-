{
 "cells": [
  {
   "cell_type": "code",
   "execution_count": 1,
   "metadata": {},
   "outputs": [],
   "source": [
    "import pandas as pd\n",
    "import matplotlib.pyplot as plt"
   ]
  },
  {
   "cell_type": "code",
   "execution_count": 2,
   "metadata": {},
   "outputs": [],
   "source": [
    "df_2017 = pd.read_csv('2017_movie.csv')\n",
    "df_2018 = pd.read_csv('2018_movie111.csv')\n",
    "df_2019 = pd.read_csv('2019_movie.csv')"
   ]
  },
  {
   "cell_type": "markdown",
   "metadata": {},
   "source": [
    "# 2017년 영화 분석"
   ]
  },
  {
   "cell_type": "code",
   "execution_count": 3,
   "metadata": {
    "scrolled": true
   },
   "outputs": [
    {
     "data": {
      "text/html": [
       "<div>\n",
       "<style scoped>\n",
       "    .dataframe tbody tr th:only-of-type {\n",
       "        vertical-align: middle;\n",
       "    }\n",
       "\n",
       "    .dataframe tbody tr th {\n",
       "        vertical-align: top;\n",
       "    }\n",
       "\n",
       "    .dataframe thead th {\n",
       "        text-align: right;\n",
       "    }\n",
       "</style>\n",
       "<table border=\"1\" class=\"dataframe\">\n",
       "  <thead>\n",
       "    <tr style=\"text-align: right;\">\n",
       "      <th></th>\n",
       "      <th>영화명</th>\n",
       "      <th>감독</th>\n",
       "      <th>제작사</th>\n",
       "      <th>배급사</th>\n",
       "      <th>개봉일</th>\n",
       "      <th>등급</th>\n",
       "      <th>전국 스크\\n린수</th>\n",
       "      <th>매출액</th>\n",
       "      <th>관객수</th>\n",
       "      <th>상영횟수</th>\n",
       "      <th>독립/예술영 화   세부</th>\n",
       "      <th>모태펀드 자조합\\n투자여부</th>\n",
       "      <th>주요 해외영화제 수상 및 초청\\n실적</th>\n",
       "      <th>위원회 사업\\n지원여부</th>\n",
       "      <th>장르</th>\n",
       "    </tr>\n",
       "  </thead>\n",
       "  <tbody>\n",
       "    <tr>\n",
       "      <td>0</td>\n",
       "      <td>사랑하기 때문에</td>\n",
       "      <td>주지홍</td>\n",
       "      <td>㈜에이디사공육</td>\n",
       "      <td>㈜넥스트엔터테인먼트월드(NEW)</td>\n",
       "      <td>2017-01-04</td>\n",
       "      <td>12세</td>\n",
       "      <td>542</td>\n",
       "      <td>2.538805e+09</td>\n",
       "      <td>324526</td>\n",
       "      <td>30,428</td>\n",
       "      <td>NaN</td>\n",
       "      <td>문화계정</td>\n",
       "      <td>NaN</td>\n",
       "      <td>적립식</td>\n",
       "      <td>코미디</td>\n",
       "    </tr>\n",
       "    <tr>\n",
       "      <td>1</td>\n",
       "      <td>여교사</td>\n",
       "      <td>김태용</td>\n",
       "      <td>㈜외유내강</td>\n",
       "      <td>필라멘트픽쳐스</td>\n",
       "      <td>2017-01-04</td>\n",
       "      <td>청불</td>\n",
       "      <td>393</td>\n",
       "      <td>9.471925e+08</td>\n",
       "      <td>116851</td>\n",
       "      <td>6,659</td>\n",
       "      <td>예술(심사)</td>\n",
       "      <td>문화계정</td>\n",
       "      <td>NaN</td>\n",
       "      <td>NaN</td>\n",
       "      <td>드라마</td>\n",
       "    </tr>\n",
       "    <tr>\n",
       "      <td>2</td>\n",
       "      <td>걱정말아요</td>\n",
       "      <td>소준문, 김대견,\\n신종훈</td>\n",
       "      <td>㈜레인보우팩토리</td>\n",
       "      <td>㈜레인보우팩토리</td>\n",
       "      <td>2017-01-05</td>\n",
       "      <td>청불</td>\n",
       "      <td>15</td>\n",
       "      <td>4.320500e+06</td>\n",
       "      <td>594</td>\n",
       "      <td>189</td>\n",
       "      <td>독립영화</td>\n",
       "      <td>NaN</td>\n",
       "      <td>NaN</td>\n",
       "      <td>NaN</td>\n",
       "      <td>드라마</td>\n",
       "    </tr>\n",
       "    <tr>\n",
       "      <td>3</td>\n",
       "      <td>소시민</td>\n",
       "      <td>김병준</td>\n",
       "      <td>영화사 새삶</td>\n",
       "      <td>홀리가든</td>\n",
       "      <td>2017-01-12</td>\n",
       "      <td>15세</td>\n",
       "      <td>10</td>\n",
       "      <td>5.585800e+06</td>\n",
       "      <td>760</td>\n",
       "      <td>75</td>\n",
       "      <td>예술(승인),\\n독립영화</td>\n",
       "      <td>NaN</td>\n",
       "      <td>NaN</td>\n",
       "      <td>독립영화\\n후반</td>\n",
       "      <td>드라마</td>\n",
       "    </tr>\n",
       "    <tr>\n",
       "      <td>4</td>\n",
       "      <td>문영</td>\n",
       "      <td>김소연</td>\n",
       "      <td>NaN</td>\n",
       "      <td>KT&amp;G 상상마당 영화사업팀\\n컴퍼니에스에스㈜</td>\n",
       "      <td>2017-01-12</td>\n",
       "      <td>15세</td>\n",
       "      <td>23</td>\n",
       "      <td>5.765190e+07</td>\n",
       "      <td>7530</td>\n",
       "      <td>1,228</td>\n",
       "      <td>예술(승인),\\n독립영화</td>\n",
       "      <td>NaN</td>\n",
       "      <td>NaN</td>\n",
       "      <td>NaN</td>\n",
       "      <td>드라마</td>\n",
       "    </tr>\n",
       "    <tr>\n",
       "      <td>...</td>\n",
       "      <td>...</td>\n",
       "      <td>...</td>\n",
       "      <td>...</td>\n",
       "      <td>...</td>\n",
       "      <td>...</td>\n",
       "      <td>...</td>\n",
       "      <td>...</td>\n",
       "      <td>...</td>\n",
       "      <td>...</td>\n",
       "      <td>...</td>\n",
       "      <td>...</td>\n",
       "      <td>...</td>\n",
       "      <td>...</td>\n",
       "      <td>...</td>\n",
       "      <td>...</td>\n",
       "    </tr>\n",
       "    <tr>\n",
       "      <td>159</td>\n",
       "      <td>메리 크리스마스 미스터 모</td>\n",
       "      <td>임대형</td>\n",
       "      <td>영화사 달리기</td>\n",
       "      <td>㈜인디스토리</td>\n",
       "      <td>2017-12-14</td>\n",
       "      <td>12세</td>\n",
       "      <td>31</td>\n",
       "      <td>2.447680e+07</td>\n",
       "      <td>3465</td>\n",
       "      <td>928</td>\n",
       "      <td>예술(승인),\\n독립영화</td>\n",
       "      <td>NaN</td>\n",
       "      <td>NaN</td>\n",
       "      <td>독립영화,\\n개봉지원</td>\n",
       "      <td>블랙코미디</td>\n",
       "    </tr>\n",
       "    <tr>\n",
       "      <td>160</td>\n",
       "      <td>신과함께-죄와 벌</td>\n",
       "      <td>김용화</td>\n",
       "      <td>리얼라이즈픽쳐스㈜,\\n㈜덱스터스튜디오</td>\n",
       "      <td>롯데쇼핑㈜롯데엔터테인먼트</td>\n",
       "      <td>2017-12-20</td>\n",
       "      <td>12세</td>\n",
       "      <td>1,912</td>\n",
       "      <td>1.160000e+11</td>\n",
       "      <td>14410721</td>\n",
       "      <td>91,302</td>\n",
       "      <td>NaN</td>\n",
       "      <td>문화계정,\\n영화계정</td>\n",
       "      <td>NaN</td>\n",
       "      <td>응급의료</td>\n",
       "      <td>드라마</td>\n",
       "    </tr>\n",
       "    <tr>\n",
       "      <td>161</td>\n",
       "      <td>1987</td>\n",
       "      <td>장준환</td>\n",
       "      <td>㈜우정필름</td>\n",
       "      <td>씨제이이앤엠㈜</td>\n",
       "      <td>2017-12-27</td>\n",
       "      <td>15세</td>\n",
       "      <td>1,299</td>\n",
       "      <td>5.793629e+10</td>\n",
       "      <td>7201370</td>\n",
       "      <td>27,620</td>\n",
       "      <td>NaN</td>\n",
       "      <td>영화계정</td>\n",
       "      <td>NaN</td>\n",
       "      <td>첨단영화,\\n응급의료</td>\n",
       "      <td>드라마</td>\n",
       "    </tr>\n",
       "    <tr>\n",
       "      <td>162</td>\n",
       "      <td>광인옥한흠</td>\n",
       "      <td>김상철</td>\n",
       "      <td>파이오니아21</td>\n",
       "      <td>파이오니아21</td>\n",
       "      <td>2017-12-28</td>\n",
       "      <td>전체</td>\n",
       "      <td>18</td>\n",
       "      <td>1.206550e+07</td>\n",
       "      <td>1637</td>\n",
       "      <td>81</td>\n",
       "      <td>NaN</td>\n",
       "      <td>NaN</td>\n",
       "      <td>NaN</td>\n",
       "      <td>NaN</td>\n",
       "      <td>다큐멘터리</td>\n",
       "    </tr>\n",
       "    <tr>\n",
       "      <td>163</td>\n",
       "      <td>나의 연기 워크샵</td>\n",
       "      <td>안선경</td>\n",
       "      <td>궁금단영화</td>\n",
       "      <td>무브먼트</td>\n",
       "      <td>2017-12-28</td>\n",
       "      <td>15세</td>\n",
       "      <td>12</td>\n",
       "      <td>5.306000e+06</td>\n",
       "      <td>673</td>\n",
       "      <td>132</td>\n",
       "      <td>예술(승인),\\n독립영화</td>\n",
       "      <td>NaN</td>\n",
       "      <td>NaN</td>\n",
       "      <td>개봉지원</td>\n",
       "      <td>드라마</td>\n",
       "    </tr>\n",
       "  </tbody>\n",
       "</table>\n",
       "<p>164 rows × 15 columns</p>\n",
       "</div>"
      ],
      "text/plain": [
       "                영화명              감독                   제작사  \\\n",
       "0          사랑하기 때문에             주지홍               ㈜에이디사공육   \n",
       "1               여교사             김태용                 ㈜외유내강   \n",
       "2             걱정말아요  소준문, 김대견,\\n신종훈              ㈜레인보우팩토리   \n",
       "3               소시민             김병준                영화사 새삶   \n",
       "4                문영             김소연                   NaN   \n",
       "..              ...             ...                   ...   \n",
       "159  메리 크리스마스 미스터 모             임대형               영화사 달리기   \n",
       "160       신과함께-죄와 벌             김용화  리얼라이즈픽쳐스㈜,\\n㈜덱스터스튜디오   \n",
       "161            1987             장준환                 ㈜우정필름   \n",
       "162           광인옥한흠             김상철               파이오니아21   \n",
       "163       나의 연기 워크샵             안선경                 궁금단영화   \n",
       "\n",
       "                           배급사         개봉일   등급 전국 스크\\n린수           매출액  \\\n",
       "0            ㈜넥스트엔터테인먼트월드(NEW)  2017-01-04  12세       542  2.538805e+09   \n",
       "1                      필라멘트픽쳐스  2017-01-04   청불       393  9.471925e+08   \n",
       "2                     ㈜레인보우팩토리  2017-01-05   청불        15  4.320500e+06   \n",
       "3                         홀리가든  2017-01-12  15세        10  5.585800e+06   \n",
       "4    KT&G 상상마당 영화사업팀\\n컴퍼니에스에스㈜  2017-01-12  15세        23  5.765190e+07   \n",
       "..                         ...         ...  ...       ...           ...   \n",
       "159                     ㈜인디스토리  2017-12-14  12세        31  2.447680e+07   \n",
       "160              롯데쇼핑㈜롯데엔터테인먼트  2017-12-20  12세     1,912  1.160000e+11   \n",
       "161                    씨제이이앤엠㈜  2017-12-27  15세     1,299  5.793629e+10   \n",
       "162                    파이오니아21  2017-12-28   전체        18  1.206550e+07   \n",
       "163                       무브먼트  2017-12-28  15세        12  5.306000e+06   \n",
       "\n",
       "          관객수    상영횟수  독립/예술영 화   세부 모태펀드 자조합\\n투자여부 주요 해외영화제 수상 및 초청\\n실적  \\\n",
       "0      324526  30,428            NaN           문화계정                  NaN   \n",
       "1      116851   6,659         예술(심사)           문화계정                  NaN   \n",
       "2         594     189           독립영화            NaN                  NaN   \n",
       "3         760      75  예술(승인),\\n독립영화            NaN                  NaN   \n",
       "4        7530   1,228  예술(승인),\\n독립영화            NaN                  NaN   \n",
       "..        ...     ...            ...            ...                  ...   \n",
       "159      3465     928  예술(승인),\\n독립영화            NaN                  NaN   \n",
       "160  14410721  91,302            NaN    문화계정,\\n영화계정                  NaN   \n",
       "161   7201370  27,620            NaN           영화계정                  NaN   \n",
       "162      1637      81            NaN            NaN                  NaN   \n",
       "163       673     132  예술(승인),\\n독립영화            NaN                  NaN   \n",
       "\n",
       "    위원회 사업\\n지원여부     장르  \n",
       "0            적립식    코미디  \n",
       "1            NaN    드라마  \n",
       "2            NaN    드라마  \n",
       "3       독립영화\\n후반    드라마  \n",
       "4            NaN    드라마  \n",
       "..           ...    ...  \n",
       "159  독립영화,\\n개봉지원  블랙코미디  \n",
       "160         응급의료    드라마  \n",
       "161  첨단영화,\\n응급의료    드라마  \n",
       "162          NaN  다큐멘터리  \n",
       "163         개봉지원    드라마  \n",
       "\n",
       "[164 rows x 15 columns]"
      ]
     },
     "execution_count": 3,
     "metadata": {},
     "output_type": "execute_result"
    }
   ],
   "source": [
    "df_2017"
   ]
  },
  {
   "cell_type": "code",
   "execution_count": 4,
   "metadata": {
    "scrolled": true
   },
   "outputs": [
    {
     "data": {
      "text/html": [
       "<div>\n",
       "<style scoped>\n",
       "    .dataframe tbody tr th:only-of-type {\n",
       "        vertical-align: middle;\n",
       "    }\n",
       "\n",
       "    .dataframe tbody tr th {\n",
       "        vertical-align: top;\n",
       "    }\n",
       "\n",
       "    .dataframe thead th {\n",
       "        text-align: right;\n",
       "    }\n",
       "</style>\n",
       "<table border=\"1\" class=\"dataframe\">\n",
       "  <thead>\n",
       "    <tr style=\"text-align: right;\">\n",
       "      <th></th>\n",
       "      <th>영화명</th>\n",
       "      <th>개봉일</th>\n",
       "      <th>관객수</th>\n",
       "      <th>매출액</th>\n",
       "      <th>장르</th>\n",
       "    </tr>\n",
       "  </thead>\n",
       "  <tbody>\n",
       "    <tr>\n",
       "      <td>0</td>\n",
       "      <td>사랑하기 때문에</td>\n",
       "      <td>2017-01-04</td>\n",
       "      <td>324526</td>\n",
       "      <td>2.538805e+09</td>\n",
       "      <td>코미디</td>\n",
       "    </tr>\n",
       "    <tr>\n",
       "      <td>1</td>\n",
       "      <td>여교사</td>\n",
       "      <td>2017-01-04</td>\n",
       "      <td>116851</td>\n",
       "      <td>9.471925e+08</td>\n",
       "      <td>드라마</td>\n",
       "    </tr>\n",
       "    <tr>\n",
       "      <td>2</td>\n",
       "      <td>걱정말아요</td>\n",
       "      <td>2017-01-05</td>\n",
       "      <td>594</td>\n",
       "      <td>4.320500e+06</td>\n",
       "      <td>드라마</td>\n",
       "    </tr>\n",
       "    <tr>\n",
       "      <td>3</td>\n",
       "      <td>소시민</td>\n",
       "      <td>2017-01-12</td>\n",
       "      <td>760</td>\n",
       "      <td>5.585800e+06</td>\n",
       "      <td>드라마</td>\n",
       "    </tr>\n",
       "    <tr>\n",
       "      <td>4</td>\n",
       "      <td>문영</td>\n",
       "      <td>2017-01-12</td>\n",
       "      <td>7530</td>\n",
       "      <td>5.765190e+07</td>\n",
       "      <td>드라마</td>\n",
       "    </tr>\n",
       "    <tr>\n",
       "      <td>...</td>\n",
       "      <td>...</td>\n",
       "      <td>...</td>\n",
       "      <td>...</td>\n",
       "      <td>...</td>\n",
       "      <td>...</td>\n",
       "    </tr>\n",
       "    <tr>\n",
       "      <td>159</td>\n",
       "      <td>메리 크리스마스 미스터 모</td>\n",
       "      <td>2017-12-14</td>\n",
       "      <td>3465</td>\n",
       "      <td>2.447680e+07</td>\n",
       "      <td>블랙코미디</td>\n",
       "    </tr>\n",
       "    <tr>\n",
       "      <td>160</td>\n",
       "      <td>신과함께-죄와 벌</td>\n",
       "      <td>2017-12-20</td>\n",
       "      <td>14410721</td>\n",
       "      <td>1.160000e+11</td>\n",
       "      <td>드라마</td>\n",
       "    </tr>\n",
       "    <tr>\n",
       "      <td>161</td>\n",
       "      <td>1987</td>\n",
       "      <td>2017-12-27</td>\n",
       "      <td>7201370</td>\n",
       "      <td>5.793629e+10</td>\n",
       "      <td>드라마</td>\n",
       "    </tr>\n",
       "    <tr>\n",
       "      <td>162</td>\n",
       "      <td>광인옥한흠</td>\n",
       "      <td>2017-12-28</td>\n",
       "      <td>1637</td>\n",
       "      <td>1.206550e+07</td>\n",
       "      <td>다큐멘터리</td>\n",
       "    </tr>\n",
       "    <tr>\n",
       "      <td>163</td>\n",
       "      <td>나의 연기 워크샵</td>\n",
       "      <td>2017-12-28</td>\n",
       "      <td>673</td>\n",
       "      <td>5.306000e+06</td>\n",
       "      <td>드라마</td>\n",
       "    </tr>\n",
       "  </tbody>\n",
       "</table>\n",
       "<p>164 rows × 5 columns</p>\n",
       "</div>"
      ],
      "text/plain": [
       "                영화명         개봉일       관객수           매출액     장르\n",
       "0          사랑하기 때문에  2017-01-04    324526  2.538805e+09    코미디\n",
       "1               여교사  2017-01-04    116851  9.471925e+08    드라마\n",
       "2             걱정말아요  2017-01-05       594  4.320500e+06    드라마\n",
       "3               소시민  2017-01-12       760  5.585800e+06    드라마\n",
       "4                문영  2017-01-12      7530  5.765190e+07    드라마\n",
       "..              ...         ...       ...           ...    ...\n",
       "159  메리 크리스마스 미스터 모  2017-12-14      3465  2.447680e+07  블랙코미디\n",
       "160       신과함께-죄와 벌  2017-12-20  14410721  1.160000e+11    드라마\n",
       "161            1987  2017-12-27   7201370  5.793629e+10    드라마\n",
       "162           광인옥한흠  2017-12-28      1637  1.206550e+07  다큐멘터리\n",
       "163       나의 연기 워크샵  2017-12-28       673  5.306000e+06    드라마\n",
       "\n",
       "[164 rows x 5 columns]"
      ]
     },
     "execution_count": 4,
     "metadata": {},
     "output_type": "execute_result"
    }
   ],
   "source": [
    "df_2017[['영화명', '개봉일', '관객수', '매출액', '장르']]"
   ]
  },
  {
   "cell_type": "code",
   "execution_count": 5,
   "metadata": {
    "scrolled": true
   },
   "outputs": [
    {
     "data": {
      "text/html": [
       "<div>\n",
       "<style scoped>\n",
       "    .dataframe tbody tr th:only-of-type {\n",
       "        vertical-align: middle;\n",
       "    }\n",
       "\n",
       "    .dataframe tbody tr th {\n",
       "        vertical-align: top;\n",
       "    }\n",
       "\n",
       "    .dataframe thead th {\n",
       "        text-align: right;\n",
       "    }\n",
       "</style>\n",
       "<table border=\"1\" class=\"dataframe\">\n",
       "  <thead>\n",
       "    <tr style=\"text-align: right;\">\n",
       "      <th></th>\n",
       "      <th>영화명</th>\n",
       "      <th>개봉일</th>\n",
       "      <th>관객수</th>\n",
       "      <th>매출액</th>\n",
       "      <th>장르</th>\n",
       "    </tr>\n",
       "  </thead>\n",
       "  <tbody>\n",
       "    <tr>\n",
       "      <td>0</td>\n",
       "      <td>신과함께-죄와 벌</td>\n",
       "      <td>2017-12-20</td>\n",
       "      <td>14410721</td>\n",
       "      <td>1.160000e+11</td>\n",
       "      <td>드라마</td>\n",
       "    </tr>\n",
       "    <tr>\n",
       "      <td>1</td>\n",
       "      <td>택시운전사</td>\n",
       "      <td>2017-08-02</td>\n",
       "      <td>12186205</td>\n",
       "      <td>9.585365e+10</td>\n",
       "      <td>드라마</td>\n",
       "    </tr>\n",
       "    <tr>\n",
       "      <td>2</td>\n",
       "      <td>공조</td>\n",
       "      <td>2017-01-18</td>\n",
       "      <td>7817631</td>\n",
       "      <td>6.378314e+10</td>\n",
       "      <td>액션</td>\n",
       "    </tr>\n",
       "    <tr>\n",
       "      <td>3</td>\n",
       "      <td>1987</td>\n",
       "      <td>2017-12-27</td>\n",
       "      <td>7201370</td>\n",
       "      <td>5.793629e+10</td>\n",
       "      <td>드라마</td>\n",
       "    </tr>\n",
       "    <tr>\n",
       "      <td>4</td>\n",
       "      <td>범죄도시</td>\n",
       "      <td>2017-10-03</td>\n",
       "      <td>6879844</td>\n",
       "      <td>5.631804e+10</td>\n",
       "      <td>액션</td>\n",
       "    </tr>\n",
       "    <tr>\n",
       "      <td>...</td>\n",
       "      <td>...</td>\n",
       "      <td>...</td>\n",
       "      <td>...</td>\n",
       "      <td>...</td>\n",
       "      <td>...</td>\n",
       "    </tr>\n",
       "    <tr>\n",
       "      <td>159</td>\n",
       "      <td>일본 엄마 2</td>\n",
       "      <td>2017-11-02</td>\n",
       "      <td>133</td>\n",
       "      <td>7.910000e+05</td>\n",
       "      <td>로맨스</td>\n",
       "    </tr>\n",
       "    <tr>\n",
       "      <td>160</td>\n",
       "      <td>처제의 유혹</td>\n",
       "      <td>2017-05-23</td>\n",
       "      <td>122</td>\n",
       "      <td>6.260000e+05</td>\n",
       "      <td>로맨스</td>\n",
       "    </tr>\n",
       "    <tr>\n",
       "      <td>161</td>\n",
       "      <td>옆집소녀</td>\n",
       "      <td>2017-03-21</td>\n",
       "      <td>118</td>\n",
       "      <td>6.010000e+05</td>\n",
       "      <td>로맨스</td>\n",
       "    </tr>\n",
       "    <tr>\n",
       "      <td>162</td>\n",
       "      <td>빈센트</td>\n",
       "      <td>2017-12-14</td>\n",
       "      <td>120</td>\n",
       "      <td>4.405000e+05</td>\n",
       "      <td>드라마</td>\n",
       "    </tr>\n",
       "    <tr>\n",
       "      <td>163</td>\n",
       "      <td>침입자</td>\n",
       "      <td>2017-12-14</td>\n",
       "      <td>53</td>\n",
       "      <td>1.295000e+05</td>\n",
       "      <td>범죄</td>\n",
       "    </tr>\n",
       "  </tbody>\n",
       "</table>\n",
       "<p>164 rows × 5 columns</p>\n",
       "</div>"
      ],
      "text/plain": [
       "           영화명         개봉일       관객수           매출액   장르\n",
       "0    신과함께-죄와 벌  2017-12-20  14410721  1.160000e+11  드라마\n",
       "1        택시운전사  2017-08-02  12186205  9.585365e+10  드라마\n",
       "2           공조  2017-01-18   7817631  6.378314e+10   액션\n",
       "3         1987  2017-12-27   7201370  5.793629e+10  드라마\n",
       "4         범죄도시  2017-10-03   6879844  5.631804e+10   액션\n",
       "..         ...         ...       ...           ...  ...\n",
       "159    일본 엄마 2  2017-11-02       133  7.910000e+05  로맨스\n",
       "160     처제의 유혹  2017-05-23       122  6.260000e+05  로맨스\n",
       "161       옆집소녀  2017-03-21       118  6.010000e+05  로맨스\n",
       "162        빈센트  2017-12-14       120  4.405000e+05  드라마\n",
       "163        침입자  2017-12-14        53  1.295000e+05   범죄\n",
       "\n",
       "[164 rows x 5 columns]"
      ]
     },
     "execution_count": 5,
     "metadata": {},
     "output_type": "execute_result"
    }
   ],
   "source": [
    "df_2017_won = df_2017.sort_values(by = \"매출액\", ascending = False)\n",
    "df_2017_won = df_2017_won.reset_index(drop = True)\n",
    "df_2017_won[['영화명', '개봉일', '관객수', '매출액', '장르']]"
   ]
  },
  {
   "cell_type": "code",
   "execution_count": 6,
   "metadata": {},
   "outputs": [
    {
     "data": {
      "text/plain": [
       "14.2"
      ]
     },
     "execution_count": 6,
     "metadata": {},
     "output_type": "execute_result"
    }
   ],
   "source": [
    "df_drama_2017 = df_2017_won[df_2017_won['장르'] == '드라마']\n",
    "df_drama_2017 = df_drama_2017[['영화명', '개봉일', '관객수','매출액', '장르']] #이거는 모든 In에서 다 빼도 될거같음.\n",
    "df_drama_2017_1 = df_drama_2017.head(10)\n",
    "avg_drama_2017 = sum(df_drama_2017_1.index) / len(df_drama_2017_1)\n",
    "avg_drama_2017"
   ]
  },
  {
   "cell_type": "code",
   "execution_count": 7,
   "metadata": {},
   "outputs": [
    {
     "data": {
      "text/html": [
       "<div>\n",
       "<style scoped>\n",
       "    .dataframe tbody tr th:only-of-type {\n",
       "        vertical-align: middle;\n",
       "    }\n",
       "\n",
       "    .dataframe tbody tr th {\n",
       "        vertical-align: top;\n",
       "    }\n",
       "\n",
       "    .dataframe thead th {\n",
       "        text-align: right;\n",
       "    }\n",
       "</style>\n",
       "<table border=\"1\" class=\"dataframe\">\n",
       "  <thead>\n",
       "    <tr style=\"text-align: right;\">\n",
       "      <th></th>\n",
       "      <th>영화명</th>\n",
       "      <th>개봉일</th>\n",
       "      <th>관객수</th>\n",
       "      <th>매출액</th>\n",
       "      <th>장르</th>\n",
       "    </tr>\n",
       "  </thead>\n",
       "  <tbody>\n",
       "    <tr>\n",
       "      <td>0</td>\n",
       "      <td>신과함께-죄와 벌</td>\n",
       "      <td>2017-12-20</td>\n",
       "      <td>14410721</td>\n",
       "      <td>1.160000e+11</td>\n",
       "      <td>드라마</td>\n",
       "    </tr>\n",
       "    <tr>\n",
       "      <td>1</td>\n",
       "      <td>택시운전사</td>\n",
       "      <td>2017-08-02</td>\n",
       "      <td>12186205</td>\n",
       "      <td>9.585365e+10</td>\n",
       "      <td>드라마</td>\n",
       "    </tr>\n",
       "    <tr>\n",
       "      <td>3</td>\n",
       "      <td>1987</td>\n",
       "      <td>2017-12-27</td>\n",
       "      <td>7201370</td>\n",
       "      <td>5.793629e+10</td>\n",
       "      <td>드라마</td>\n",
       "    </tr>\n",
       "    <tr>\n",
       "      <td>10</td>\n",
       "      <td>남한산성</td>\n",
       "      <td>2017-10-03</td>\n",
       "      <td>3849087</td>\n",
       "      <td>3.122508e+10</td>\n",
       "      <td>드라마</td>\n",
       "    </tr>\n",
       "    <tr>\n",
       "      <td>11</td>\n",
       "      <td>아이 캔 스피크</td>\n",
       "      <td>2017-09-21</td>\n",
       "      <td>3279296</td>\n",
       "      <td>2.552645e+10</td>\n",
       "      <td>드라마</td>\n",
       "    </tr>\n",
       "    <tr>\n",
       "      <td>16</td>\n",
       "      <td>재심</td>\n",
       "      <td>2017-02-15</td>\n",
       "      <td>2421197</td>\n",
       "      <td>1.926632e+10</td>\n",
       "      <td>드라마</td>\n",
       "    </tr>\n",
       "    <tr>\n",
       "      <td>17</td>\n",
       "      <td>박열</td>\n",
       "      <td>2017-06-28</td>\n",
       "      <td>2359206</td>\n",
       "      <td>1.809364e+10</td>\n",
       "      <td>드라마</td>\n",
       "    </tr>\n",
       "    <tr>\n",
       "      <td>23</td>\n",
       "      <td>특별시민</td>\n",
       "      <td>2017-04-26</td>\n",
       "      <td>1362634</td>\n",
       "      <td>1.049477e+10</td>\n",
       "      <td>드라마</td>\n",
       "    </tr>\n",
       "    <tr>\n",
       "      <td>29</td>\n",
       "      <td>대립군</td>\n",
       "      <td>2017-05-31</td>\n",
       "      <td>837500</td>\n",
       "      <td>6.276963e+09</td>\n",
       "      <td>드라마</td>\n",
       "    </tr>\n",
       "    <tr>\n",
       "      <td>32</td>\n",
       "      <td>침묵</td>\n",
       "      <td>2017-11-02</td>\n",
       "      <td>494097</td>\n",
       "      <td>3.930219e+09</td>\n",
       "      <td>드라마</td>\n",
       "    </tr>\n",
       "    <tr>\n",
       "      <td>38</td>\n",
       "      <td>보통사람</td>\n",
       "      <td>2017-03-23</td>\n",
       "      <td>383336</td>\n",
       "      <td>2.956398e+09</td>\n",
       "      <td>드라마</td>\n",
       "    </tr>\n",
       "    <tr>\n",
       "      <td>39</td>\n",
       "      <td>대장 김창수</td>\n",
       "      <td>2017-10-19</td>\n",
       "      <td>381483</td>\n",
       "      <td>2.879121e+09</td>\n",
       "      <td>드라마</td>\n",
       "    </tr>\n",
       "    <tr>\n",
       "      <td>41</td>\n",
       "      <td>싱글라이더</td>\n",
       "      <td>2017-02-22</td>\n",
       "      <td>351276</td>\n",
       "      <td>2.685519e+09</td>\n",
       "      <td>드라마</td>\n",
       "    </tr>\n",
       "    <tr>\n",
       "      <td>48</td>\n",
       "      <td>채비</td>\n",
       "      <td>2017-11-09</td>\n",
       "      <td>177430</td>\n",
       "      <td>1.260480e+09</td>\n",
       "      <td>드라마</td>\n",
       "    </tr>\n",
       "    <tr>\n",
       "      <td>54</td>\n",
       "      <td>눈길</td>\n",
       "      <td>2017-03-01</td>\n",
       "      <td>130440</td>\n",
       "      <td>9.757501e+08</td>\n",
       "      <td>드라마</td>\n",
       "    </tr>\n",
       "    <tr>\n",
       "      <td>55</td>\n",
       "      <td>여교사</td>\n",
       "      <td>2017-01-04</td>\n",
       "      <td>116851</td>\n",
       "      <td>9.471925e+08</td>\n",
       "      <td>드라마</td>\n",
       "    </tr>\n",
       "    <tr>\n",
       "      <td>57</td>\n",
       "      <td>더 테이블</td>\n",
       "      <td>2017-08-24</td>\n",
       "      <td>103054</td>\n",
       "      <td>8.307621e+08</td>\n",
       "      <td>드라마</td>\n",
       "    </tr>\n",
       "    <tr>\n",
       "      <td>61</td>\n",
       "      <td>뷰티풀 투모로우</td>\n",
       "      <td>2017-10-26</td>\n",
       "      <td>63279</td>\n",
       "      <td>5.522737e+08</td>\n",
       "      <td>드라마</td>\n",
       "    </tr>\n",
       "    <tr>\n",
       "      <td>62</td>\n",
       "      <td>밤의 해변에서 혼자</td>\n",
       "      <td>2017-03-23</td>\n",
       "      <td>57056</td>\n",
       "      <td>4.394161e+08</td>\n",
       "      <td>드라마</td>\n",
       "    </tr>\n",
       "    <tr>\n",
       "      <td>63</td>\n",
       "      <td>그래, 가족</td>\n",
       "      <td>2017-02-15</td>\n",
       "      <td>46623</td>\n",
       "      <td>3.502933e+08</td>\n",
       "      <td>드라마</td>\n",
       "    </tr>\n",
       "  </tbody>\n",
       "</table>\n",
       "</div>"
      ],
      "text/plain": [
       "           영화명         개봉일       관객수           매출액   장르\n",
       "0    신과함께-죄와 벌  2017-12-20  14410721  1.160000e+11  드라마\n",
       "1        택시운전사  2017-08-02  12186205  9.585365e+10  드라마\n",
       "3         1987  2017-12-27   7201370  5.793629e+10  드라마\n",
       "10        남한산성  2017-10-03   3849087  3.122508e+10  드라마\n",
       "11    아이 캔 스피크  2017-09-21   3279296  2.552645e+10  드라마\n",
       "16          재심  2017-02-15   2421197  1.926632e+10  드라마\n",
       "17          박열  2017-06-28   2359206  1.809364e+10  드라마\n",
       "23        특별시민  2017-04-26   1362634  1.049477e+10  드라마\n",
       "29         대립군  2017-05-31    837500  6.276963e+09  드라마\n",
       "32          침묵  2017-11-02    494097  3.930219e+09  드라마\n",
       "38        보통사람  2017-03-23    383336  2.956398e+09  드라마\n",
       "39      대장 김창수  2017-10-19    381483  2.879121e+09  드라마\n",
       "41       싱글라이더  2017-02-22    351276  2.685519e+09  드라마\n",
       "48          채비  2017-11-09    177430  1.260480e+09  드라마\n",
       "54          눈길  2017-03-01    130440  9.757501e+08  드라마\n",
       "55         여교사  2017-01-04    116851  9.471925e+08  드라마\n",
       "57       더 테이블  2017-08-24    103054  8.307621e+08  드라마\n",
       "61    뷰티풀 투모로우  2017-10-26     63279  5.522737e+08  드라마\n",
       "62  밤의 해변에서 혼자  2017-03-23     57056  4.394161e+08  드라마\n",
       "63      그래, 가족  2017-02-15     46623  3.502933e+08  드라마"
      ]
     },
     "execution_count": 7,
     "metadata": {},
     "output_type": "execute_result"
    }
   ],
   "source": [
    "df_drama_2017.head(20)"
   ]
  },
  {
   "cell_type": "code",
   "execution_count": 8,
   "metadata": {
    "scrolled": true
   },
   "outputs": [
    {
     "data": {
      "text/plain": [
       "130.7"
      ]
     },
     "execution_count": 8,
     "metadata": {},
     "output_type": "execute_result"
    }
   ],
   "source": [
    "df_romance_2017 = df_2017_won[df_2017_won['장르'] == '로맨스']\n",
    "df_romance_2017 = df_romance_2017[['영화명', '개봉일', '관객수','매출액', '장르']]\n",
    "df_romance_2017_1 = df_romance_2017.head(10)\n",
    "avg_romance_2017 = sum(df_romance_2017_1.index) / len(df_romance_2017_1)\n",
    "avg_romance_2017"
   ]
  },
  {
   "cell_type": "code",
   "execution_count": 9,
   "metadata": {
    "scrolled": true
   },
   "outputs": [
    {
     "data": {
      "text/plain": [
       "62.22222222222222"
      ]
     },
     "execution_count": 9,
     "metadata": {},
     "output_type": "execute_result"
    }
   ],
   "source": [
    "df_animation_2017 = df_2017_won[df_2017_won['장르'] == '애니메이션']\n",
    "df_animation_2017[['영화명', '개봉일', '관객수','매출액', '장르']]\n",
    "df_animation_2017_1 = df_animation_2017.head(10)\n",
    "avg_animation_2017  = sum(df_animation_2017_1.index) / len(df_animation_2017_1)\n",
    "avg_animation_2017"
   ]
  },
  {
   "cell_type": "code",
   "execution_count": 10,
   "metadata": {
    "scrolled": true
   },
   "outputs": [
    {
     "data": {
      "text/plain": [
       "31.0"
      ]
     },
     "execution_count": 10,
     "metadata": {},
     "output_type": "execute_result"
    }
   ],
   "source": [
    "df_action_2017 = df_2017_won[df_2017_won['장르'] == '액션']\n",
    "df_action_2017 = df_action_2017[['영화명', '개봉일', '관객수','매출액', '장르']]\n",
    "df_action_2017_1 = df_action_2017.head(10)\n",
    "avg_action_2017  = sum(df_action_2017_1.index) / len(df_action_2017_1)\n",
    "avg_action_2017"
   ]
  },
  {
   "cell_type": "code",
   "execution_count": 11,
   "metadata": {
    "scrolled": true
   },
   "outputs": [
    {
     "data": {
      "text/plain": [
       "51.0"
      ]
     },
     "execution_count": 11,
     "metadata": {},
     "output_type": "execute_result"
    }
   ],
   "source": [
    "df_mystery_2017 = df_2017_won[df_2017_won['장르'] == '미스터리']\n",
    "df_mystery_2017 = df_mystery_2017[['영화명', '개봉일', '관객수','매출액', '장르']]\n",
    "df_mystery_2017_1 = df_mystery_2017.head(10)\n",
    "avg_mystery_2017 = sum(df_mystery_2017_1.index) / len(df_mystery_2017_1)\n",
    "avg_mystery_2017"
   ]
  },
  {
   "cell_type": "code",
   "execution_count": 12,
   "metadata": {},
   "outputs": [
    {
     "data": {
      "text/plain": [
       "40.2"
      ]
     },
     "execution_count": 12,
     "metadata": {},
     "output_type": "execute_result"
    }
   ],
   "source": [
    "df_crime_2017 = df_2017_won[df_2017_won['장르'] == '범죄']\n",
    "df_crime_2017 = df_crime_2017[['영화명', '개봉일', '관객수','매출액', '장르']]\n",
    "df_crime_2017_1 = df_crime_2017.head(10)\n",
    "avg_crime_2017 = sum(df_crime_2017_1.index) / len(df_crime_2017_1)\n",
    "avg_crime_2017"
   ]
  },
  {
   "cell_type": "code",
   "execution_count": 13,
   "metadata": {},
   "outputs": [
    {
     "data": {
      "text/plain": [
       "52.0"
      ]
     },
     "execution_count": 13,
     "metadata": {},
     "output_type": "execute_result"
    }
   ],
   "source": [
    "df_thriller_2017 = df_2017_won[df_2017_won['장르'] == '스릴러']\n",
    "df_thriller_2017 = df_thriller_2017[['영화명', '개봉일', '관객수','매출액', '장르']]\n",
    "df_thriller_2017_1 = df_thriller_2017.head(10)\n",
    "avg_thriller_2017 = sum(df_thriller_2017_1.index) / len(df_thriller_2017_1)\n",
    "avg_thriller_2017"
   ]
  },
  {
   "cell_type": "code",
   "execution_count": 14,
   "metadata": {},
   "outputs": [
    {
     "data": {
      "text/plain": [
       "드라마       14\n",
       "로맨스      131\n",
       "애니메이션     62\n",
       "액션        31\n",
       "미스터리      51\n",
       "범죄        40\n",
       "스릴러       52\n",
       "dtype: int64"
      ]
     },
     "execution_count": 14,
     "metadata": {},
     "output_type": "execute_result"
    }
   ],
   "source": [
    "movie_rank_2017 = pd.Series([14, 131, 62, 31, 51, 40, 52], index = ['드라마', '로맨스', '애니메이션', '액션', '미스터리', '범죄', '스릴러'])\n",
    "movie_rank_2017"
   ]
  },
  {
   "cell_type": "code",
   "execution_count": 15,
   "metadata": {},
   "outputs": [
    {
     "data": {
      "image/png": "[encoded data removed]",
      "text/plain": [
       "<Figure size 432x288 with 1 Axes>"
      ]
     },
     "metadata": {
      "needs_background": "light"
     },
     "output_type": "display_data"
    }
   ],
   "source": [
    "y = [14, 131, 62, 31, 51, 40, 52]\n",
    "x = ['drama', 'romance', 'animation', 'action', 'mystery', 'crime', 'thriller']\n",
    "plt.bar(x, y, width = 0.6, color = 'blue')\n",
    "plt.title('2017')\n",
    "\n",
    "plt.show()"
   ]
  },
  {
   "cell_type": "markdown",
   "metadata": {},
   "source": [
    "2017년 영화 장르별 평균 등수는 드라마 14등, 로맨스 131등, 애니메이션 62등, 액션 31등, SF 59등, 미스터리 51등, 범죄 40등, 스릴러 52등으로 드라마가 가장 높은 등수를 차지하였습니다"
   ]
  },
  {
   "cell_type": "markdown",
   "metadata": {},
   "source": [
    "# 2018년 영화 분석"
   ]
  },
  {
   "cell_type": "code",
   "execution_count": 16,
   "metadata": {
    "scrolled": true
   },
   "outputs": [
    {
     "data": {
      "text/html": [
       "<div>\n",
       "<style scoped>\n",
       "    .dataframe tbody tr th:only-of-type {\n",
       "        vertical-align: middle;\n",
       "    }\n",
       "\n",
       "    .dataframe tbody tr th {\n",
       "        vertical-align: top;\n",
       "    }\n",
       "\n",
       "    .dataframe thead th {\n",
       "        text-align: right;\n",
       "    }\n",
       "</style>\n",
       "<table border=\"1\" class=\"dataframe\">\n",
       "  <thead>\n",
       "    <tr style=\"text-align: right;\">\n",
       "      <th></th>\n",
       "      <th>영화명</th>\n",
       "      <th>개봉일</th>\n",
       "      <th>관객수</th>\n",
       "      <th>매출액</th>\n",
       "      <th>장르</th>\n",
       "    </tr>\n",
       "  </thead>\n",
       "  <tbody>\n",
       "    <tr>\n",
       "      <td>0</td>\n",
       "      <td>스타박'스  다방</td>\n",
       "      <td>2018-01-11</td>\n",
       "      <td>1026</td>\n",
       "      <td>6.495000e+06</td>\n",
       "      <td>드라마</td>\n",
       "    </tr>\n",
       "    <tr>\n",
       "      <td>1</td>\n",
       "      <td>B급  며느리</td>\n",
       "      <td>2018-01-17</td>\n",
       "      <td>19843</td>\n",
       "      <td>1.543281e+08</td>\n",
       "      <td>다큐멘터리</td>\n",
       "    </tr>\n",
       "    <tr>\n",
       "      <td>2</td>\n",
       "      <td>그것만이  내  세상</td>\n",
       "      <td>2018-01-17</td>\n",
       "      <td>3419339</td>\n",
       "      <td>2.745081e+10</td>\n",
       "      <td>코미디</td>\n",
       "    </tr>\n",
       "    <tr>\n",
       "      <td>3</td>\n",
       "      <td>돌아와요  부산항애(愛)</td>\n",
       "      <td>2018-01-17</td>\n",
       "      <td>5163</td>\n",
       "      <td>3.862230e+07</td>\n",
       "      <td>범죄</td>\n",
       "    </tr>\n",
       "    <tr>\n",
       "      <td>4</td>\n",
       "      <td>젝스키스  에이틴</td>\n",
       "      <td>2018-01-18</td>\n",
       "      <td>50419</td>\n",
       "      <td>3.644055e+08</td>\n",
       "      <td>다큐멘터리</td>\n",
       "    </tr>\n",
       "    <tr>\n",
       "      <td>...</td>\n",
       "      <td>...</td>\n",
       "      <td>...</td>\n",
       "      <td>...</td>\n",
       "      <td>...</td>\n",
       "      <td>...</td>\n",
       "    </tr>\n",
       "    <tr>\n",
       "      <td>196</td>\n",
       "      <td>말모이</td>\n",
       "      <td>2019-01-09</td>\n",
       "      <td>53576</td>\n",
       "      <td>3.045070e+08</td>\n",
       "      <td>드라마</td>\n",
       "    </tr>\n",
       "    <tr>\n",
       "      <td>197</td>\n",
       "      <td>극장판  공룡메카드:  타이니소어의\\n섬</td>\n",
       "      <td>2019-01-10</td>\n",
       "      <td>142</td>\n",
       "      <td>1.278000e+06</td>\n",
       "      <td>애니메이션</td>\n",
       "    </tr>\n",
       "    <tr>\n",
       "      <td>198</td>\n",
       "      <td>그대  이름은  장미</td>\n",
       "      <td>2019-01-16</td>\n",
       "      <td>1184</td>\n",
       "      <td>1.302400e+07</td>\n",
       "      <td>코미디</td>\n",
       "    </tr>\n",
       "    <tr>\n",
       "      <td>199</td>\n",
       "      <td>언더독</td>\n",
       "      <td>2019-01-16</td>\n",
       "      <td>382</td>\n",
       "      <td>3.130000e+06</td>\n",
       "      <td>애니메이션</td>\n",
       "    </tr>\n",
       "    <tr>\n",
       "      <td>200</td>\n",
       "      <td>메이트</td>\n",
       "      <td>2019-01-17</td>\n",
       "      <td>10</td>\n",
       "      <td>4.600000e+04</td>\n",
       "      <td>드라마</td>\n",
       "    </tr>\n",
       "  </tbody>\n",
       "</table>\n",
       "<p>201 rows × 5 columns</p>\n",
       "</div>"
      ],
      "text/plain": [
       "                        영화명         개봉일      관객수           매출액     장르\n",
       "0                 스타박'스  다방  2018-01-11     1026  6.495000e+06    드라마\n",
       "1                   B급  며느리  2018-01-17    19843  1.543281e+08  다큐멘터리\n",
       "2               그것만이  내  세상  2018-01-17  3419339  2.745081e+10    코미디\n",
       "3             돌아와요  부산항애(愛)  2018-01-17     5163  3.862230e+07     범죄\n",
       "4                 젝스키스  에이틴  2018-01-18    50419  3.644055e+08  다큐멘터리\n",
       "..                      ...         ...      ...           ...    ...\n",
       "196                     말모이  2019-01-09    53576  3.045070e+08    드라마\n",
       "197  극장판  공룡메카드:  타이니소어의\\n섬  2019-01-10      142  1.278000e+06  애니메이션\n",
       "198             그대  이름은  장미  2019-01-16     1184  1.302400e+07    코미디\n",
       "199                     언더독  2019-01-16      382  3.130000e+06  애니메이션\n",
       "200                     메이트  2019-01-17       10  4.600000e+04    드라마\n",
       "\n",
       "[201 rows x 5 columns]"
      ]
     },
     "execution_count": 16,
     "metadata": {},
     "output_type": "execute_result"
    }
   ],
   "source": [
    "df_2018[['영화명', '개봉일', '관객수', '매출액', '장르']]"
   ]
  },
  {
   "cell_type": "code",
   "execution_count": 17,
   "metadata": {},
   "outputs": [],
   "source": [
    "df_2018_won = df_2018.sort_values(by = '매출액', ascending = False)\n",
    "df_2018_won = df_2018_won.reset_index(drop = True)"
   ]
  },
  {
   "cell_type": "code",
   "execution_count": 18,
   "metadata": {},
   "outputs": [
    {
     "data": {
      "text/plain": [
       "22.5"
      ]
     },
     "execution_count": 18,
     "metadata": {},
     "output_type": "execute_result"
    }
   ],
   "source": [
    "df_2018_drama = df_2018_won[df_2018_won['장르'] == '드라마']\n",
    "df_2018_drama = df_2018_drama[['영화명', '개봉일', '관객수', '매출액', '장르']]\n",
    "df_2018_drama = df_2018_drama.head(10)\n",
    "sum(df_2018_drama.index)/len(df_2018_drama)"
   ]
  },
  {
   "cell_type": "code",
   "execution_count": 19,
   "metadata": {},
   "outputs": [
    {
     "data": {
      "text/plain": [
       "80.5"
      ]
     },
     "execution_count": 19,
     "metadata": {},
     "output_type": "execute_result"
    }
   ],
   "source": [
    "df_2018_romance = df_2018_won[df_2018_won['장르'] == '로맨스']\n",
    "df_2018_romance = df_2018_romance[['영화명', '개봉일', '관객수', '매출액', '장르']]\n",
    "df_2018_romance = df_2018_romance.head(10)\n",
    "sum(df_2018_romance.index)/len(df_2018_romance)"
   ]
  },
  {
   "cell_type": "code",
   "execution_count": 20,
   "metadata": {},
   "outputs": [
    {
     "data": {
      "text/plain": [
       "65.5"
      ]
     },
     "execution_count": 20,
     "metadata": {},
     "output_type": "execute_result"
    }
   ],
   "source": [
    "df_2018_animation = df_2018_won[df_2018_won['장르'] == '애니메이션']\n",
    "df_2018_animation = df_2018_animation[['영화명', '개봉일', '관객수', '매출액', '장르']]\n",
    "df_2018_animation = df_2018_animation.head(10)\n",
    "sum(df_2018_animation.index)/len(df_2018_animation)"
   ]
  },
  {
   "cell_type": "code",
   "execution_count": 21,
   "metadata": {},
   "outputs": [
    {
     "data": {
      "text/plain": [
       "59.7"
      ]
     },
     "execution_count": 21,
     "metadata": {},
     "output_type": "execute_result"
    }
   ],
   "source": [
    "df_2018_action = df_2018_won[df_2018_won['장르'] == '액션']\n",
    "df_2018_action = df_2018_action[['영화명', '개봉일', '관객수', '매출액', '장르']]\n",
    "df_2018_action = df_2018_action.head(10)\n",
    "sum(df_2018_action.index)/len(df_2018_action)"
   ]
  },
  {
   "cell_type": "code",
   "execution_count": 22,
   "metadata": {},
   "outputs": [
    {
     "data": {
      "text/plain": [
       "123.6"
      ]
     },
     "execution_count": 22,
     "metadata": {},
     "output_type": "execute_result"
    }
   ],
   "source": [
    "df_2018_fantasy = df_2018_won[df_2018_won['장르'] == '판타지']\n",
    "df_2018_fantasy = df_2018_fantasy[['영화명', '개봉일', '관객수', '매출액', '장르']]\n",
    "df_2018_fantasy = df_2018_fantasy.head(10)\n",
    "sum(df_2018_fantasy.index)/len(df_2018_fantasy)"
   ]
  },
  {
   "cell_type": "code",
   "execution_count": 23,
   "metadata": {},
   "outputs": [
    {
     "data": {
      "text/plain": [
       "70.33333333333333"
      ]
     },
     "execution_count": 23,
     "metadata": {},
     "output_type": "execute_result"
    }
   ],
   "source": [
    "df_2018_mystery = df_2018_won[df_2018_won['장르'] == '미스터리']\n",
    "df_2018_mystery = df_2018_mystery[['영화명', '개봉일', '관객수', '매출액', '장르']]\n",
    "df_2018_mystery = df_2018_mystery.head(10)\n",
    "sum(df_2018_mystery.index)/len(df_2018_mystery)"
   ]
  },
  {
   "cell_type": "code",
   "execution_count": 24,
   "metadata": {},
   "outputs": [
    {
     "data": {
      "text/plain": [
       "43.111111111111114"
      ]
     },
     "execution_count": 24,
     "metadata": {},
     "output_type": "execute_result"
    }
   ],
   "source": [
    "df_2018_crime = df_2018_won[df_2018_won['장르'] == '범죄']\n",
    "df_2018_crime = df_2018_crime[['영화명', '개봉일', '관객수', '매출액', '장르']]\n",
    "df_2018_crime = df_2018_crime.head(10)\n",
    "sum(df_2018_crime.index)/len(df_2018_crime)"
   ]
  },
  {
   "cell_type": "code",
   "execution_count": 25,
   "metadata": {
    "scrolled": true
   },
   "outputs": [
    {
     "data": {
      "text/plain": [
       "73.85714285714286"
      ]
     },
     "execution_count": 25,
     "metadata": {},
     "output_type": "execute_result"
    }
   ],
   "source": [
    "df_2018_thriller = df_2018_won[df_2018_won['장르'] == '스릴러']\n",
    "df_2018_thriller = df_2018_thriller[['영화명', '개봉일', '관객수', '매출액', '장르']]\n",
    "df_2018_thriller = df_2018_thriller.head(10)\n",
    "sum(df_2018_thriller.index)/len(df_2018_thriller)"
   ]
  },
  {
   "cell_type": "code",
   "execution_count": 26,
   "metadata": {},
   "outputs": [
    {
     "data": {
      "text/plain": [
       "드라마      23\n",
       "로맨스      81\n",
       "애니메이션    66\n",
       "액션       60\n",
       "미스터리     70\n",
       "범죄       43\n",
       "스릴러      74\n",
       "dtype: int64"
      ]
     },
     "execution_count": 26,
     "metadata": {},
     "output_type": "execute_result"
    }
   ],
   "source": [
    "movie_rank_2018 = pd.Series([23, 81, 66, 60, 70, 43, 74], index = ['드라마', '로맨스', '애니메이션', '액션', '미스터리', '범죄', '스릴러'])\n",
    "movie_rank_2018"
   ]
  },
  {
   "cell_type": "code",
   "execution_count": 27,
   "metadata": {},
   "outputs": [
    {
     "data": {
      "image/png": "[encoded data removed]",
      "text/plain": [
       "<Figure size 432x288 with 1 Axes>"
      ]
     },
     "metadata": {
      "needs_background": "light"
     },
     "output_type": "display_data"
    }
   ],
   "source": [
    "y = [23, 81, 66, 60, 70, 43, 74]\n",
    "x = ['drama', 'romance', 'animation', 'action', 'mystery', 'crime', 'thriller']\n",
    "plt.bar(x, y, width = 0.6, color = 'blue')\n",
    "plt.title('2018')\n",
    "\n",
    "plt.show()"
   ]
  },
  {
   "cell_type": "markdown",
   "metadata": {},
   "source": [
    "2018년 영화 장르별 평균 등수는 드라마 23등, 로맨스 81등, 애니메이션 66등, 액션 60등, SF 124등, 미스터리 70등, 범죄 43등, 스릴러 74등, 가족 112등으로 드라마가 가장 높은 등수를 차지하였습니다"
   ]
  },
  {
   "cell_type": "markdown",
   "metadata": {},
   "source": [
    "# 2019년 영화 분석(2019년 10월 까지)"
   ]
  },
  {
   "cell_type": "code",
   "execution_count": 28,
   "metadata": {
    "scrolled": false
   },
   "outputs": [
    {
     "data": {
      "text/html": [
       "<div>\n",
       "<style scoped>\n",
       "    .dataframe tbody tr th:only-of-type {\n",
       "        vertical-align: middle;\n",
       "    }\n",
       "\n",
       "    .dataframe tbody tr th {\n",
       "        vertical-align: top;\n",
       "    }\n",
       "\n",
       "    .dataframe thead th {\n",
       "        text-align: right;\n",
       "    }\n",
       "</style>\n",
       "<table border=\"1\" class=\"dataframe\">\n",
       "  <thead>\n",
       "    <tr style=\"text-align: right;\">\n",
       "      <th></th>\n",
       "      <th>영화명</th>\n",
       "      <th>개봉일</th>\n",
       "      <th>관객수</th>\n",
       "      <th>매출액</th>\n",
       "      <th>장르</th>\n",
       "    </tr>\n",
       "  </thead>\n",
       "  <tbody>\n",
       "    <tr>\n",
       "      <td>0</td>\n",
       "      <td>언니</td>\n",
       "      <td>2019-01-01</td>\n",
       "      <td>197,134</td>\n",
       "      <td>1,746,373,250</td>\n",
       "      <td>액션</td>\n",
       "    </tr>\n",
       "    <tr>\n",
       "      <td>1</td>\n",
       "      <td>내안의  그놈</td>\n",
       "      <td>2019-01-09</td>\n",
       "      <td>1,901,684</td>\n",
       "      <td>16,293,580,567</td>\n",
       "      <td>판타지</td>\n",
       "    </tr>\n",
       "    <tr>\n",
       "      <td>2</td>\n",
       "      <td>말모이</td>\n",
       "      <td>2019-01-09</td>\n",
       "      <td>2,812,444</td>\n",
       "      <td>23,682,638,520</td>\n",
       "      <td>드라마</td>\n",
       "    </tr>\n",
       "    <tr>\n",
       "      <td>3</td>\n",
       "      <td>극장판   공룡메카드: 타이니소어의  섬</td>\n",
       "      <td>2019-01-10</td>\n",
       "      <td>410,131</td>\n",
       "      <td>3,140,214,420</td>\n",
       "      <td>애니메이션</td>\n",
       "    </tr>\n",
       "    <tr>\n",
       "      <td>4</td>\n",
       "      <td>그대  이름은  장미</td>\n",
       "      <td>2019-01-16</td>\n",
       "      <td>88,054</td>\n",
       "      <td>735,782,970</td>\n",
       "      <td>코미디</td>\n",
       "    </tr>\n",
       "    <tr>\n",
       "      <td>...</td>\n",
       "      <td>...</td>\n",
       "      <td>...</td>\n",
       "      <td>...</td>\n",
       "      <td>...</td>\n",
       "      <td>...</td>\n",
       "    </tr>\n",
       "    <tr>\n",
       "      <td>143</td>\n",
       "      <td>두번할까요</td>\n",
       "      <td>2019-10-17</td>\n",
       "      <td>172,748</td>\n",
       "      <td>1,432,238,620</td>\n",
       "      <td>로맨스</td>\n",
       "    </tr>\n",
       "    <tr>\n",
       "      <td>144</td>\n",
       "      <td>82년생  김지영</td>\n",
       "      <td>2019-10-23</td>\n",
       "      <td>1,816,629</td>\n",
       "      <td>14,665,469,950</td>\n",
       "      <td>드라마</td>\n",
       "    </tr>\n",
       "    <tr>\n",
       "      <td>145</td>\n",
       "      <td>사선의  끝</td>\n",
       "      <td>2019-10-30</td>\n",
       "      <td>30</td>\n",
       "      <td>149,500</td>\n",
       "      <td>드라마</td>\n",
       "    </tr>\n",
       "    <tr>\n",
       "      <td>146</td>\n",
       "      <td>니나  내나</td>\n",
       "      <td>2019-10-30</td>\n",
       "      <td>1,273</td>\n",
       "      <td>9,996,100</td>\n",
       "      <td>드라마</td>\n",
       "    </tr>\n",
       "    <tr>\n",
       "      <td>147</td>\n",
       "      <td>오늘,  우리</td>\n",
       "      <td>2019-10-31</td>\n",
       "      <td>234</td>\n",
       "      <td>1,839,100</td>\n",
       "      <td>드라마</td>\n",
       "    </tr>\n",
       "  </tbody>\n",
       "</table>\n",
       "<p>148 rows × 5 columns</p>\n",
       "</div>"
      ],
      "text/plain": [
       "                        영화명         개봉일        관객수             매출액     장르\n",
       "0                        언니  2019-01-01    197,134   1,746,373,250     액션\n",
       "1                   내안의  그놈  2019-01-09  1,901,684  16,293,580,567    판타지\n",
       "2                       말모이  2019-01-09  2,812,444  23,682,638,520    드라마\n",
       "3    극장판   공룡메카드: 타이니소어의  섬  2019-01-10    410,131   3,140,214,420  애니메이션\n",
       "4               그대  이름은  장미  2019-01-16     88,054     735,782,970    코미디\n",
       "..                      ...         ...        ...             ...    ...\n",
       "143                   두번할까요  2019-10-17    172,748   1,432,238,620    로맨스\n",
       "144               82년생  김지영  2019-10-23  1,816,629  14,665,469,950    드라마\n",
       "145                  사선의  끝  2019-10-30         30         149,500    드라마\n",
       "146                  니나  내나  2019-10-30      1,273       9,996,100    드라마\n",
       "147                 오늘,  우리  2019-10-31        234       1,839,100    드라마\n",
       "\n",
       "[148 rows x 5 columns]"
      ]
     },
     "execution_count": 28,
     "metadata": {},
     "output_type": "execute_result"
    }
   ],
   "source": [
    "df_2019[['영화명', '개봉일', '관객수', '매출액', '장르']]"
   ]
  },
  {
   "cell_type": "code",
   "execution_count": 29,
   "metadata": {},
   "outputs": [],
   "source": [
    "df_2019_won = df_2019.sort_values(by = \"매출액\", ascending = False)\n",
    "df_2019_won = df_2019_won.reset_index(drop=True)"
   ]
  },
  {
   "cell_type": "code",
   "execution_count": 30,
   "metadata": {},
   "outputs": [
    {
     "data": {
      "text/plain": [
       "8.7"
      ]
     },
     "execution_count": 30,
     "metadata": {},
     "output_type": "execute_result"
    }
   ],
   "source": [
    "df_2019_drama = df_2019_won[df_2019_won['장르'] == '드라마']\n",
    "df_2019_drama = df_2019_drama[['영화명', '개봉일', '관객수','매출액', '장르']]\n",
    "df_2019_drama_1 = df_2019_drama.head(10)\n",
    "avg_drama_2019 = sum(df_2019_drama_1.index) / len(df_2019_drama_1)\n",
    "avg_drama_2019"
   ]
  },
  {
   "cell_type": "code",
   "execution_count": 31,
   "metadata": {},
   "outputs": [
    {
     "data": {
      "text/plain": [
       "74.0"
      ]
     },
     "execution_count": 31,
     "metadata": {},
     "output_type": "execute_result"
    }
   ],
   "source": [
    "df_romance_2019 = df_2019_won[df_2019_won['장르'] == '로맨스']\n",
    "df_romance_2019 = df_romance_2019[['영화명', '개봉일', '관객수','매출액', '장르']]\n",
    "df_romance_2019_1 = df_romance_2019.head(10)\n",
    "avg_romance_2019 = sum(df_romance_2019_1.index) / len(df_romance_2019_1)\n",
    "avg_romance_2019"
   ]
  },
  {
   "cell_type": "code",
   "execution_count": 32,
   "metadata": {},
   "outputs": [
    {
     "data": {
      "text/plain": [
       "66.2"
      ]
     },
     "execution_count": 32,
     "metadata": {},
     "output_type": "execute_result"
    }
   ],
   "source": [
    "df_animation_2019 = df_2019_won[df_2019_won['장르'] == '애니메이션']\n",
    "df_animation_2019[['영화명', '개봉일', '관객수','매출액', '장르']]\n",
    "df_animation_2019_1 = df_animation_2019.head(10)\n",
    "avg_animation_2019  = sum(df_animation_2019_1.index) / len(df_animation_2019_1)\n",
    "avg_animation_2019"
   ]
  },
  {
   "cell_type": "code",
   "execution_count": 33,
   "metadata": {},
   "outputs": [
    {
     "data": {
      "text/plain": [
       "55.833333333333336"
      ]
     },
     "execution_count": 33,
     "metadata": {},
     "output_type": "execute_result"
    }
   ],
   "source": [
    "df_action_2019 = df_2019_won[df_2019_won['장르'] == '액션']\n",
    "df_action_2019 = df_action_2019[['영화명', '개봉일', '관객수','매출액', '장르']]\n",
    "df_action_2019_1 = df_action_2019.head(10)\n",
    "avg_action_2019  = sum(df_action_2019_1.index) / len(df_action_2019_1)\n",
    "avg_action_2019"
   ]
  },
  {
   "cell_type": "code",
   "execution_count": 34,
   "metadata": {},
   "outputs": [
    {
     "data": {
      "text/plain": [
       "86.0"
      ]
     },
     "execution_count": 34,
     "metadata": {},
     "output_type": "execute_result"
    }
   ],
   "source": [
    "df_mystery_2019 = df_2019_won[df_2019_won['장르'] == '미스터리']\n",
    "df_mystery_2019 = df_mystery_2019[['영화명', '개봉일', '관객수','매출액', '장르']]\n",
    "df_mystery_2019_1 = df_mystery_2019.head(10)\n",
    "avg_mystery_2019 = sum(df_mystery_2019_1.index) / len(df_mystery_2019_1)\n",
    "avg_mystery_2019"
   ]
  },
  {
   "cell_type": "code",
   "execution_count": 35,
   "metadata": {},
   "outputs": [
    {
     "data": {
      "text/plain": [
       "74.75"
      ]
     },
     "execution_count": 35,
     "metadata": {},
     "output_type": "execute_result"
    }
   ],
   "source": [
    "df_crime_2019 = df_2019_won[df_2019_won['장르'] == '범죄']\n",
    "df_crime_2019 = df_crime_2019[['영화명', '개봉일', '관객수','매출액', '장르']]\n",
    "df_crime_2019_1 = df_crime_2019.head(10)\n",
    "avg_crime_2019 = sum(df_crime_2019_1.index) / len(df_crime_2019_1)\n",
    "avg_crime_2019"
   ]
  },
  {
   "cell_type": "code",
   "execution_count": 36,
   "metadata": {},
   "outputs": [
    {
     "data": {
      "text/plain": [
       "141.0"
      ]
     },
     "execution_count": 36,
     "metadata": {},
     "output_type": "execute_result"
    }
   ],
   "source": [
    "df_thriller_2019 = df_2019_won[df_2019_won['장르'] == '스릴러']\n",
    "df_thriller_2019 = df_thriller_2019[['영화명', '개봉일', '관객수','매출액', '장르']]\n",
    "df_thriller_2019_1 = df_thriller_2019.head(10)\n",
    "avg_thriller_2019 = sum(df_thriller_2019_1.index) / len(df_thriller_2019_1)\n",
    "avg_thriller_2019"
   ]
  },
  {
   "cell_type": "code",
   "execution_count": 37,
   "metadata": {},
   "outputs": [
    {
     "data": {
      "text/plain": [
       "드라마        9\n",
       "로맨스       74\n",
       "애니메이션     66\n",
       "액션        56\n",
       "미스터리      86\n",
       "범죄        74\n",
       "스릴러      141\n",
       "dtype: int64"
      ]
     },
     "execution_count": 37,
     "metadata": {},
     "output_type": "execute_result"
    }
   ],
   "source": [
    "movie_rank_2019 = pd.Series([9, 74, 66, 56, 86, 74, 141], index = ['드라마', '로맨스', '애니메이션', '액션', '미스터리', '범죄', '스릴러'])\n",
    "movie_rank_2019"
   ]
  },
  {
   "cell_type": "code",
   "execution_count": 38,
   "metadata": {},
   "outputs": [
    {
     "data": {
      "image/png": "[encoded data removed]",
      "text/plain": [
       "<Figure size 432x288 with 1 Axes>"
      ]
     },
     "metadata": {
      "needs_background": "light"
     },
     "output_type": "display_data"
    }
   ],
   "source": [
    "y = [9, 74, 66, 55, 86, 74, 141]\n",
    "x = ['drama', 'romance', 'animation', 'action', 'mystery', 'crime', 'thriller']\n",
    "plt.bar(x, y, width = 0.4, color = 'blue')\n",
    "plt.title('2019')\n",
    "\n",
    "plt.show()"
   ]
  },
  {
   "cell_type": "markdown",
   "metadata": {},
   "source": [
    "2019년 영화 장르별 평균 등수는 드라마 9등, 로맨스 74등, 애니메이션 66등, 액션 56등, 미스터리 86등, 범죄 74등, 스릴러 141등으로 드라마가 가장 높은 등수를 차지하였습니다"
   ]
  },
  {
   "cell_type": "markdown",
   "metadata": {},
   "source": [
    "### 2017, 2018, 2019(10월까지)의 영화 장르의 흥행을 분석해본 결과 3년 모두 드라마가 1등을 차지하여 '드라마'라는 영화 장르가 대중성 있는 장르라고 판단하여 영화 장르를 드라마로 정하였습니다"
   ]
  },
  {
   "cell_type": "code",
   "execution_count": 39,
   "metadata": {},
   "outputs": [],
   "source": [
    "df_2017_people = df_2017.sort_values(by = \"관객수\", ascending = False)\n",
    "df_2017_people = df_2017_won.reset_index(drop = True)"
   ]
  },
  {
   "cell_type": "code",
   "execution_count": 40,
   "metadata": {},
   "outputs": [],
   "source": [
    "list = [0, 0, 0, 0]\n",
    "\n",
    "for i in range(0, 101):\n",
    "    month = int(df_2017_people.loc[i]['개봉일'][5])*10 + int(df_2017_people.loc[i]['개봉일'][6])\n",
    "    \n",
    "    if(month>=1 and month<=3):\n",
    "        list[0]+=1\n",
    "        \n",
    "    elif(month>=4 and month<=6):\n",
    "        list[1]+=1\n",
    "\n",
    "    elif(month>=7 and month<=9):\n",
    "        list[2]+=1\n",
    "\n",
    "    else:\n",
    "        list[3]+=1"
   ]
  },
  {
   "cell_type": "code",
   "execution_count": 41,
   "metadata": {},
   "outputs": [
    {
     "data": {
      "text/plain": [
       "[23, 29, 20, 29]"
      ]
     },
     "execution_count": 41,
     "metadata": {},
     "output_type": "execute_result"
    }
   ],
   "source": [
    "list"
   ]
  },
  {
   "cell_type": "code",
   "execution_count": 42,
   "metadata": {},
   "outputs": [
    {
     "data": {
      "image/png": "[encoded data removed]",
      "text/plain": [
       "<Figure size 432x288 with 1 Axes>"
      ]
     },
     "metadata": {
      "needs_background": "light"
     },
     "output_type": "display_data"
    }
   ],
   "source": [
    "y = [12, 14, 8, 7]\n",
    "x = ['1~3', '4~6', '7~9', '10~12']\n",
    "plt.bar(x, y, width = 0.6, color = 'blue')\n",
    "plt.title('2017')\n",
    "\n",
    "plt.show()"
   ]
  },
  {
   "cell_type": "code",
   "execution_count": 51,
   "metadata": {},
   "outputs": [],
   "source": [
    "df_2018_people = df_2018.sort_values(by = \"관객수\", ascending = False)\n",
    "df_2018_people = df_2018_won.reset_index(drop = True)"
   ]
  },
  {
   "cell_type": "code",
   "execution_count": 52,
   "metadata": {},
   "outputs": [],
   "source": [
    "list = [0, 0, 0, 0]\n",
    "\n",
    "for i in range(0, 51):\n",
    "    month = int(df_2018_people.loc[i]['개봉일'][5])*10 + int(df_2018_people.loc[i]['개봉일'][6])\n",
    "    \n",
    "    if(month>=1 and month<=3):\n",
    "        list[0]+=1\n",
    "        \n",
    "    elif(month>=4 and month<=6):\n",
    "        list[1]+=1\n",
    "\n",
    "    elif(month>=7 and month<=9):\n",
    "        list[2]+=1\n",
    "\n",
    "    else:\n",
    "        list[3]+=1"
   ]
  },
  {
   "cell_type": "code",
   "execution_count": 53,
   "metadata": {},
   "outputs": [
    {
     "data": {
      "text/plain": [
       "[13, 10, 15, 13]"
      ]
     },
     "execution_count": 53,
     "metadata": {},
     "output_type": "execute_result"
    }
   ],
   "source": [
    "list"
   ]
  },
  {
   "cell_type": "code",
   "execution_count": 54,
   "metadata": {},
   "outputs": [
    {
     "data": {
      "image/png": "[encoded data removed]",
      "text/plain": [
       "<Figure size 432x288 with 1 Axes>"
      ]
     },
     "metadata": {
      "needs_background": "light"
     },
     "output_type": "display_data"
    }
   ],
   "source": [
    "y = [13, 10, 15, 13]\n",
    "x = ['1~3', '4~6', '7~9', '10~12']\n",
    "plt.bar(x, y, width = 0.6, color = 'blue')\n",
    "plt.title('2018')\n",
    "\n",
    "plt.show()"
   ]
  },
  {
   "cell_type": "code",
   "execution_count": 55,
   "metadata": {},
   "outputs": [],
   "source": [
    "df_2019_people = df_2019.sort_values(by = \"관객수\", ascending = False)\n",
    "df_2019_people = df_2019_won.reset_index(drop = True)"
   ]
  },
  {
   "cell_type": "code",
   "execution_count": 56,
   "metadata": {},
   "outputs": [],
   "source": [
    "list = [0, 0, 0, 0]\n",
    "\n",
    "for i in range(0, 51):\n",
    "    month = int(df_2019_people.loc[i]['개봉일'][5])*10 + int(df_2019_people.loc[i]['개봉일'][6])\n",
    "    \n",
    "    if(month>=1 and month<=3):\n",
    "        list[0]+=1\n",
    "        \n",
    "    elif(month>=4 and month<=6):\n",
    "        list[1]+=1\n",
    "\n",
    "    elif(month>=7 and month<=9):\n",
    "        list[2]+=1\n",
    "\n",
    "    else:\n",
    "        list[3]+=1"
   ]
  },
  {
   "cell_type": "code",
   "execution_count": 57,
   "metadata": {},
   "outputs": [
    {
     "data": {
      "text/plain": [
       "[9, 17, 21, 4]"
      ]
     },
     "execution_count": 57,
     "metadata": {},
     "output_type": "execute_result"
    }
   ],
   "source": [
    "list"
   ]
  },
  {
   "cell_type": "code",
   "execution_count": 58,
   "metadata": {},
   "outputs": [
    {
     "data": {
      "image/png": "[encoded data removed]",
      "text/plain": [
       "<Figure size 432x288 with 1 Axes>"
      ]
     },
     "metadata": {
      "needs_background": "light"
     },
     "output_type": "display_data"
    }
   ],
   "source": [
    "y = [9, 17, 21, 4]\n",
    "x = ['1~3', '4~6', '7~9', '10~12']\n",
    "plt.bar(x, y, width = 0.6, color = 'blue')\n",
    "plt.title('2019')\n",
    "\n",
    "plt.show()"
   ]
  },
  {
   "cell_type": "markdown",
   "metadata": {},
   "source": [
    "### 위의 3개의 그래프는 2017, 2018, 2019(10월까지)의 분기별 흥행 그래프입니다."
   ]
  }
 ],
 "metadata": {
  "kernelspec": {
   "display_name": "Python 3",
   "language": "python",
   "name": "python3"
  },
  "language_info": {
   "codemirror_mode": {
    "name": "ipython",
    "version": 3
   },
   "file_extension": ".py",
   "mimetype": "text/x-python",
   "name": "python",
   "nbconvert_exporter": "python",
   "pygments_lexer": "ipython3",
   "version": "3.7.4"
  }
 },
 "nbformat": 4,
 "nbformat_minor": 2
}
