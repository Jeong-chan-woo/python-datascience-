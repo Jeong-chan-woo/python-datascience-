{
 "cells": [
  {
   "cell_type": "markdown",
   "metadata": {},
   "source": [
    "## 0. 데이터 불러오기, 전체적인 구상 설명"
   ]
  },
  {
   "cell_type": "code",
   "execution_count": 1,
   "metadata": {},
   "outputs": [],
   "source": [
    "import pandas as pd\n",
    "import numpy as np\n",
    "import matplotlib.pyplot as plt"
   ]
  },
  {
   "cell_type": "code",
   "execution_count": 2,
   "metadata": {},
   "outputs": [],
   "source": [
    "df = pd.read_csv('listings_Denvor.csv')"
   ]
  },
  {
   "cell_type": "code",
   "execution_count": 3,
   "metadata": {
    "scrolled": false
   },
   "outputs": [
    {
     "data": {
      "text/html": [
       "<div>\n",
       "<style scoped>\n",
       "    .dataframe tbody tr th:only-of-type {\n",
       "        vertical-align: middle;\n",
       "    }\n",
       "\n",
       "    .dataframe tbody tr th {\n",
       "        vertical-align: top;\n",
       "    }\n",
       "\n",
       "    .dataframe thead th {\n",
       "        text-align: right;\n",
       "    }\n",
       "</style>\n",
       "<table border=\"1\" class=\"dataframe\">\n",
       "  <thead>\n",
       "    <tr style=\"text-align: right;\">\n",
       "      <th></th>\n",
       "      <th>id</th>\n",
       "      <th>name</th>\n",
       "      <th>host_id</th>\n",
       "      <th>host_name</th>\n",
       "      <th>host_since</th>\n",
       "      <th>host_location</th>\n",
       "      <th>host_response_time</th>\n",
       "      <th>host_response_rate</th>\n",
       "      <th>host_is_superhost</th>\n",
       "      <th>neighbourhood_cleansed</th>\n",
       "      <th>...</th>\n",
       "      <th>extra_people</th>\n",
       "      <th>minimum_nights</th>\n",
       "      <th>maximum_nights</th>\n",
       "      <th>availability_365</th>\n",
       "      <th>number_of_reviews</th>\n",
       "      <th>number_of_reviews_ltm</th>\n",
       "      <th>first_review</th>\n",
       "      <th>last_review</th>\n",
       "      <th>review_scores_rating</th>\n",
       "      <th>reviews_per_month</th>\n",
       "    </tr>\n",
       "  </thead>\n",
       "  <tbody>\n",
       "    <tr>\n",
       "      <td>0</td>\n",
       "      <td>360</td>\n",
       "      <td>LoHi Secret garden at the Chickadee Cottage</td>\n",
       "      <td>666</td>\n",
       "      <td>Jennifer &amp; Giovanni</td>\n",
       "      <td>7/8/2008</td>\n",
       "      <td>Denver, Colorado, United States</td>\n",
       "      <td>within an hour</td>\n",
       "      <td>100%</td>\n",
       "      <td>t</td>\n",
       "      <td>Highland</td>\n",
       "      <td>...</td>\n",
       "      <td>$15.00</td>\n",
       "      <td>1</td>\n",
       "      <td>29</td>\n",
       "      <td>319</td>\n",
       "      <td>82</td>\n",
       "      <td>68</td>\n",
       "      <td>8/13/2018</td>\n",
       "      <td>9/20/2019</td>\n",
       "      <td>100.0</td>\n",
       "      <td>5.94</td>\n",
       "    </tr>\n",
       "    <tr>\n",
       "      <td>1</td>\n",
       "      <td>590</td>\n",
       "      <td>Comfortable  - and a great value!</td>\n",
       "      <td>933</td>\n",
       "      <td>Jill</td>\n",
       "      <td>7/21/2008</td>\n",
       "      <td>Denver, Colorado, United States</td>\n",
       "      <td>within an hour</td>\n",
       "      <td>100%</td>\n",
       "      <td>t</td>\n",
       "      <td>North Park Hill</td>\n",
       "      <td>...</td>\n",
       "      <td>$5.00</td>\n",
       "      <td>1</td>\n",
       "      <td>300</td>\n",
       "      <td>64</td>\n",
       "      <td>585</td>\n",
       "      <td>37</td>\n",
       "      <td>3/29/2009</td>\n",
       "      <td>9/29/2019</td>\n",
       "      <td>97.0</td>\n",
       "      <td>4.57</td>\n",
       "    </tr>\n",
       "    <tr>\n",
       "      <td>2</td>\n",
       "      <td>592</td>\n",
       "      <td>private</td>\n",
       "      <td>933</td>\n",
       "      <td>Jill</td>\n",
       "      <td>7/21/2008</td>\n",
       "      <td>Denver, Colorado, United States</td>\n",
       "      <td>within an hour</td>\n",
       "      <td>100%</td>\n",
       "      <td>t</td>\n",
       "      <td>North Park Hill</td>\n",
       "      <td>...</td>\n",
       "      <td>$5.00</td>\n",
       "      <td>30</td>\n",
       "      <td>365</td>\n",
       "      <td>130</td>\n",
       "      <td>176</td>\n",
       "      <td>8</td>\n",
       "      <td>2/21/2009</td>\n",
       "      <td>9/6/2019</td>\n",
       "      <td>97.0</td>\n",
       "      <td>1.36</td>\n",
       "    </tr>\n",
       "    <tr>\n",
       "      <td>3</td>\n",
       "      <td>1940</td>\n",
       "      <td>Baker Studio Close to EVERYTHING</td>\n",
       "      <td>2150</td>\n",
       "      <td>Joanne</td>\n",
       "      <td>8/16/2008</td>\n",
       "      <td>Denver, Colorado, United States</td>\n",
       "      <td>within an hour</td>\n",
       "      <td>100%</td>\n",
       "      <td>t</td>\n",
       "      <td>Baker</td>\n",
       "      <td>...</td>\n",
       "      <td>$100.00</td>\n",
       "      <td>2</td>\n",
       "      <td>120</td>\n",
       "      <td>137</td>\n",
       "      <td>41</td>\n",
       "      <td>19</td>\n",
       "      <td>1/24/2017</td>\n",
       "      <td>9/21/2019</td>\n",
       "      <td>99.0</td>\n",
       "      <td>1.26</td>\n",
       "    </tr>\n",
       "    <tr>\n",
       "      <td>4</td>\n",
       "      <td>2086</td>\n",
       "      <td>Garden Level Condo</td>\n",
       "      <td>2284</td>\n",
       "      <td>Katy</td>\n",
       "      <td>8/19/2008</td>\n",
       "      <td>Denver, Colorado, United States</td>\n",
       "      <td>within an hour</td>\n",
       "      <td>100%</td>\n",
       "      <td>f</td>\n",
       "      <td>Hale</td>\n",
       "      <td>...</td>\n",
       "      <td>$25.00</td>\n",
       "      <td>180</td>\n",
       "      <td>1125</td>\n",
       "      <td>358</td>\n",
       "      <td>12</td>\n",
       "      <td>1</td>\n",
       "      <td>3/11/2018</td>\n",
       "      <td>10/21/2018</td>\n",
       "      <td>96.0</td>\n",
       "      <td>0.63</td>\n",
       "    </tr>\n",
       "  </tbody>\n",
       "</table>\n",
       "<p>5 rows × 38 columns</p>\n",
       "</div>"
      ],
      "text/plain": [
       "     id                                         name  host_id  \\\n",
       "0   360  LoHi Secret garden at the Chickadee Cottage      666   \n",
       "1   590            Comfortable  - and a great value!      933   \n",
       "2   592                                      private      933   \n",
       "3  1940             Baker Studio Close to EVERYTHING     2150   \n",
       "4  2086                           Garden Level Condo     2284   \n",
       "\n",
       "             host_name host_since                    host_location  \\\n",
       "0  Jennifer & Giovanni   7/8/2008  Denver, Colorado, United States   \n",
       "1                 Jill  7/21/2008  Denver, Colorado, United States   \n",
       "2                 Jill  7/21/2008  Denver, Colorado, United States   \n",
       "3               Joanne  8/16/2008  Denver, Colorado, United States   \n",
       "4                 Katy  8/19/2008  Denver, Colorado, United States   \n",
       "\n",
       "  host_response_time host_response_rate host_is_superhost  \\\n",
       "0     within an hour               100%                 t   \n",
       "1     within an hour               100%                 t   \n",
       "2     within an hour               100%                 t   \n",
       "3     within an hour               100%                 t   \n",
       "4     within an hour               100%                 f   \n",
       "\n",
       "  neighbourhood_cleansed  ... extra_people minimum_nights  maximum_nights  \\\n",
       "0               Highland  ...      $15.00               1              29   \n",
       "1        North Park Hill  ...       $5.00               1             300   \n",
       "2        North Park Hill  ...       $5.00              30             365   \n",
       "3                  Baker  ...     $100.00               2             120   \n",
       "4                   Hale  ...      $25.00             180            1125   \n",
       "\n",
       "  availability_365 number_of_reviews number_of_reviews_ltm first_review  \\\n",
       "0              319                82                    68    8/13/2018   \n",
       "1               64               585                    37    3/29/2009   \n",
       "2              130               176                     8    2/21/2009   \n",
       "3              137                41                    19    1/24/2017   \n",
       "4              358                12                     1    3/11/2018   \n",
       "\n",
       "   last_review  review_scores_rating reviews_per_month  \n",
       "0    9/20/2019                 100.0              5.94  \n",
       "1    9/29/2019                  97.0              4.57  \n",
       "2     9/6/2019                  97.0              1.36  \n",
       "3    9/21/2019                  99.0              1.26  \n",
       "4   10/21/2018                  96.0              0.63  \n",
       "\n",
       "[5 rows x 38 columns]"
      ]
     },
     "execution_count": 3,
     "metadata": {},
     "output_type": "execute_result"
    }
   ],
   "source": [
    "df.head()"
   ]
  },
  {
   "cell_type": "markdown",
   "metadata": {},
   "source": [
    "#### missing data를 삭제하고, data cleaning을 진행한 후에,\n",
    "#### accommodates, bathrooms, bedrooms, beds, price, cleaning_fee, extra_people, minimum_nights, maximum_nights를 동적으로 할당 받는다고 가정을 하고(개인적으로 말씀드렸던것 처럼 일반적인 경우를 동적으로 받았다고 가정하고 진행하겠습니다),\n",
    "#### 동적으로 할당 받은 것을 만족하는 것 중에서 host_is_superhost, host_response_time, host_response_rate, availability_365, number_of_reviews, review_scores_rating, reviews_per_month의 데이터를 이용하여 rank를 매기는 것을 최종 목표로 한다.\n",
    "#### Airbnb는 일반인이 제공하는 숙박 업소로 위험성이 존재한다. 아래에서 더 자세히 설명하겠지만 'host_is_superhost'라는 superhost인 host를 0순위로 놓고 고객들에게 안전한 숙박 업소를 추천하는 것을 최우선의 목표로 한다. 고객들을 안전한 property를 원한다."
   ]
  },
  {
   "cell_type": "markdown",
   "metadata": {},
   "source": [
    "## 1. missing data 확인하여 없애기"
   ]
  },
  {
   "cell_type": "code",
   "execution_count": 4,
   "metadata": {},
   "outputs": [
    {
     "data": {
      "text/plain": [
       "4601"
      ]
     },
     "execution_count": 4,
     "metadata": {},
     "output_type": "execute_result"
    }
   ],
   "source": [
    "df.shape[0]"
   ]
  },
  {
   "cell_type": "markdown",
   "metadata": {},
   "source": [
    "#### missing data는 삭제하는 방향으로 가려고 한다. 지금은 4601개의 행이 있는데 missing data를 삭제한 후 다시 한 번 행 개수를 세어 어느 정도의 데이터가 삭제되었는지를 알아보려한다."
   ]
  },
  {
   "cell_type": "code",
   "execution_count": 5,
   "metadata": {},
   "outputs": [
    {
     "data": {
      "text/plain": [
       "id                           0\n",
       "name                         0\n",
       "host_id                      0\n",
       "host_name                    4\n",
       "host_since                   4\n",
       "host_location                9\n",
       "host_response_time         591\n",
       "host_response_rate         591\n",
       "host_is_superhost            4\n",
       "neighbourhood_cleansed       0\n",
       "city                         1\n",
       "state                        1\n",
       "zipcode                     47\n",
       "market                       6\n",
       "smart_location               0\n",
       "country_code                 0\n",
       "country                      0\n",
       "latitude                     0\n",
       "longitude                    0\n",
       "property_type                0\n",
       "room_type                    0\n",
       "accommodates                 0\n",
       "bathrooms                    3\n",
       "bedrooms                     0\n",
       "beds                         0\n",
       "square_feet               4578\n",
       "price                        0\n",
       "cleaning_fee               392\n",
       "extra_people                 0\n",
       "minimum_nights               0\n",
       "maximum_nights               0\n",
       "availability_365             0\n",
       "number_of_reviews            0\n",
       "number_of_reviews_ltm        0\n",
       "first_review               453\n",
       "last_review                453\n",
       "review_scores_rating       474\n",
       "reviews_per_month          453\n",
       "dtype: int64"
      ]
     },
     "execution_count": 5,
     "metadata": {},
     "output_type": "execute_result"
    }
   ],
   "source": [
    "df.isnull().sum()"
   ]
  },
  {
   "cell_type": "markdown",
   "metadata": {},
   "source": [
    "#### 분석에서 중요한 데이터라고 할 수 있는\n",
    "#### host_response_time, host_response_rate의 missing data는 591개\n",
    "#### host_is_superhost는 4개\n",
    "#### bathrooms는 3개\n",
    "#### cleaning_fee는 392개\n",
    "#### first_review, last_review는 453개\n",
    "#### review_scores_rating는 474개\n",
    "#### reviews_per_month 453개의 missing data가 있다.\n",
    "#### 이것들의 데이터가 없으면 분석을 하는데 어려움이 있을거라 판단하고, 예측을 할 수도 없다고 판단하여 삭제하기로 결정하였다.\n",
    "#### 위에 언급한 데이터가 아니더라도 property를 추천해주는 최종 목표에서 보았을 때, 추천을 받은 후에 알아야할 정보들이므로, 또한 위에 언급한 것 이외의 데이터의 missing data는 거의 없으므로 삭제하더라도 무관하다고 판단하여 삭제하기로 결정하였다.\n",
    "#### square_feet의 경우에는 missing data가 4578개이므로 열 전체를 삭제하기로 결정하였다."
   ]
  },
  {
   "cell_type": "code",
   "execution_count": 6,
   "metadata": {},
   "outputs": [],
   "source": [
    "df = df[['id', 'name', 'host_id', 'host_name', 'host_since', 'host_location', 'host_response_time', 'host_response_rate', 'host_is_superhost', 'neighbourhood_cleansed', 'city', 'state', 'zipcode', 'market', 'smart_location', 'country_code', 'country', 'latitude', 'longitude', 'property_type', 'room_type', 'accommodates', 'bathrooms', 'bedrooms', 'beds', 'price', 'cleaning_fee', 'extra_people', 'minimum_nights', 'maximum_nights', 'availability_365', 'number_of_reviews', 'number_of_reviews_ltm', 'first_review', 'last_review', 'review_scores_rating', 'reviews_per_month']].dropna()\n",
    "#위의 코드에서 df[['']]안에 'square_feet'을 넣지 않으므로써 square_feet라는 열 자체를 삭제함."
   ]
  },
  {
   "cell_type": "code",
   "execution_count": 7,
   "metadata": {},
   "outputs": [],
   "source": [
    "df = df.reset_index(drop = True)"
   ]
  },
  {
   "cell_type": "code",
   "execution_count": 8,
   "metadata": {},
   "outputs": [
    {
     "data": {
      "text/plain": [
       "id                        0\n",
       "name                      0\n",
       "host_id                   0\n",
       "host_name                 0\n",
       "host_since                0\n",
       "host_location             0\n",
       "host_response_time        0\n",
       "host_response_rate        0\n",
       "host_is_superhost         0\n",
       "neighbourhood_cleansed    0\n",
       "city                      0\n",
       "state                     0\n",
       "zipcode                   0\n",
       "market                    0\n",
       "smart_location            0\n",
       "country_code              0\n",
       "country                   0\n",
       "latitude                  0\n",
       "longitude                 0\n",
       "property_type             0\n",
       "room_type                 0\n",
       "accommodates              0\n",
       "bathrooms                 0\n",
       "bedrooms                  0\n",
       "beds                      0\n",
       "price                     0\n",
       "cleaning_fee              0\n",
       "extra_people              0\n",
       "minimum_nights            0\n",
       "maximum_nights            0\n",
       "availability_365          0\n",
       "number_of_reviews         0\n",
       "number_of_reviews_ltm     0\n",
       "first_review              0\n",
       "last_review               0\n",
       "review_scores_rating      0\n",
       "reviews_per_month         0\n",
       "dtype: int64"
      ]
     },
     "execution_count": 8,
     "metadata": {},
     "output_type": "execute_result"
    }
   ],
   "source": [
    "df.isnull().sum()"
   ]
  },
  {
   "cell_type": "markdown",
   "metadata": {},
   "source": [
    "#### missing data가 삭제되었는지 확인 완료"
   ]
  },
  {
   "cell_type": "code",
   "execution_count": 9,
   "metadata": {},
   "outputs": [
    {
     "data": {
      "text/plain": [
       "3482"
      ]
     },
     "execution_count": 9,
     "metadata": {},
     "output_type": "execute_result"
    }
   ],
   "source": [
    "df.shape[0]"
   ]
  },
  {
   "cell_type": "code",
   "execution_count": 10,
   "metadata": {},
   "outputs": [
    {
     "data": {
      "text/plain": [
       "24.320799826124755"
      ]
     },
     "execution_count": 10,
     "metadata": {},
     "output_type": "execute_result"
    }
   ],
   "source": [
    "(4601-3482)/4601*100"
   ]
  },
  {
   "cell_type": "code",
   "execution_count": 11,
   "metadata": {},
   "outputs": [
    {
     "data": {
      "text/plain": [
       "75.67920017387524"
      ]
     },
     "execution_count": 11,
     "metadata": {},
     "output_type": "execute_result"
    }
   ],
   "source": [
    "3482/4601*100"
   ]
  },
  {
   "cell_type": "markdown",
   "metadata": {},
   "source": [
    "#### missing data 삭제 후 4601개의 행에서 3482개의 행이 남았고,\n",
    "#### 약 24.3%의 데이터가 삭제 되었지만\n",
    "#### 약 75.7%의 missing data가 없는 온전한 데이터가 보존되었다.\n",
    "#### 결과적으로 missing data를 모두 삭제해도 75% 이상의 데이터가 남아있으므로 이대로 진행해도 된다고 판단하였다."
   ]
  },
  {
   "cell_type": "markdown",
   "metadata": {},
   "source": [
    "## 2. data cleaning (잘못된 데이터 확인해보기)"
   ]
  },
  {
   "cell_type": "code",
   "execution_count": 12,
   "metadata": {},
   "outputs": [],
   "source": [
    "df['host_response_rate'] = df['host_response_rate'].str.replace('%', '')\n",
    "\n",
    "df['price'] = df['price'].str.replace('$', '')\n",
    "df['cleaning_fee'] = df['cleaning_fee'].str.replace('$', '')\n",
    "df['extra_people'] = df['extra_people'].str.replace('$', '')"
   ]
  },
  {
   "cell_type": "code",
   "execution_count": 13,
   "metadata": {},
   "outputs": [],
   "source": [
    "df['price'] = df['price'].str.replace(',', '') #price에는 $1,500.00이라는 큰 단위의 금액이 있어 ','까지 제거해줘야했다.df[['host_response_rate', 'price', 'cleaning_fee', 'extra_people']] = df[['host_response_rate', 'price', 'cleaning_fee', 'extra_people']].apply(pd.to_numeric)"
   ]
  },
  {
   "cell_type": "code",
   "execution_count": 14,
   "metadata": {},
   "outputs": [],
   "source": [
    "df[['host_response_rate', 'price', 'cleaning_fee', 'extra_people']] = df[['host_response_rate', 'price', 'cleaning_fee', 'extra_people']].apply(pd.to_numeric)"
   ]
  },
  {
   "cell_type": "markdown",
   "metadata": {},
   "source": [
    "#### df.describe를 하기 전에 중요한 데이터인 host_response_rate에는 %가 표시 되어있었고, price, cleaning_fee, extra_people이 달러 표시가 되어있어 문자열 취급이 되었는데 분석을 위해 % 표시와 달러 표시를 삭제하고 int형으로 바꿔주었다."
   ]
  },
  {
   "cell_type": "code",
   "execution_count": 15,
   "metadata": {
    "scrolled": true
   },
   "outputs": [
    {
     "data": {
      "text/html": [
       "<div>\n",
       "<style scoped>\n",
       "    .dataframe tbody tr th:only-of-type {\n",
       "        vertical-align: middle;\n",
       "    }\n",
       "\n",
       "    .dataframe tbody tr th {\n",
       "        vertical-align: top;\n",
       "    }\n",
       "\n",
       "    .dataframe thead th {\n",
       "        text-align: right;\n",
       "    }\n",
       "</style>\n",
       "<table border=\"1\" class=\"dataframe\">\n",
       "  <thead>\n",
       "    <tr style=\"text-align: right;\">\n",
       "      <th></th>\n",
       "      <th>id</th>\n",
       "      <th>host_id</th>\n",
       "      <th>host_response_rate</th>\n",
       "      <th>zipcode</th>\n",
       "      <th>latitude</th>\n",
       "      <th>longitude</th>\n",
       "      <th>accommodates</th>\n",
       "      <th>bathrooms</th>\n",
       "      <th>bedrooms</th>\n",
       "      <th>beds</th>\n",
       "      <th>price</th>\n",
       "      <th>cleaning_fee</th>\n",
       "      <th>extra_people</th>\n",
       "      <th>minimum_nights</th>\n",
       "      <th>maximum_nights</th>\n",
       "      <th>availability_365</th>\n",
       "      <th>number_of_reviews</th>\n",
       "      <th>number_of_reviews_ltm</th>\n",
       "      <th>review_scores_rating</th>\n",
       "      <th>reviews_per_month</th>\n",
       "    </tr>\n",
       "  </thead>\n",
       "  <tbody>\n",
       "    <tr>\n",
       "      <td>count</td>\n",
       "      <td>3.482000e+03</td>\n",
       "      <td>3.482000e+03</td>\n",
       "      <td>3482.000000</td>\n",
       "      <td>3482.000000</td>\n",
       "      <td>3482.000000</td>\n",
       "      <td>3482.000000</td>\n",
       "      <td>3482.000000</td>\n",
       "      <td>3482.000000</td>\n",
       "      <td>3482.000000</td>\n",
       "      <td>3482.000000</td>\n",
       "      <td>3482.00000</td>\n",
       "      <td>3482.000000</td>\n",
       "      <td>3482.000000</td>\n",
       "      <td>3482.000000</td>\n",
       "      <td>3482.000000</td>\n",
       "      <td>3482.000000</td>\n",
       "      <td>3482.000000</td>\n",
       "      <td>3482.000000</td>\n",
       "      <td>3482.000000</td>\n",
       "      <td>3482.000000</td>\n",
       "    </tr>\n",
       "    <tr>\n",
       "      <td>mean</td>\n",
       "      <td>2.315015e+07</td>\n",
       "      <td>8.235298e+07</td>\n",
       "      <td>98.329121</td>\n",
       "      <td>80211.171166</td>\n",
       "      <td>39.741316</td>\n",
       "      <td>-104.976321</td>\n",
       "      <td>4.409822</td>\n",
       "      <td>1.459075</td>\n",
       "      <td>1.714532</td>\n",
       "      <td>2.211947</td>\n",
       "      <td>167.01436</td>\n",
       "      <td>77.091327</td>\n",
       "      <td>13.947731</td>\n",
       "      <td>5.057438</td>\n",
       "      <td>561.655945</td>\n",
       "      <td>142.740666</td>\n",
       "      <td>61.224009</td>\n",
       "      <td>28.606261</td>\n",
       "      <td>96.862723</td>\n",
       "      <td>3.282338</td>\n",
       "    </tr>\n",
       "    <tr>\n",
       "      <td>std</td>\n",
       "      <td>9.998237e+06</td>\n",
       "      <td>8.229631e+07</td>\n",
       "      <td>7.093516</td>\n",
       "      <td>16.718911</td>\n",
       "      <td>0.031366</td>\n",
       "      <td>0.057048</td>\n",
       "      <td>2.850895</td>\n",
       "      <td>0.881424</td>\n",
       "      <td>1.119959</td>\n",
       "      <td>1.629728</td>\n",
       "      <td>415.21232</td>\n",
       "      <td>64.109611</td>\n",
       "      <td>22.279856</td>\n",
       "      <td>12.519178</td>\n",
       "      <td>534.541562</td>\n",
       "      <td>119.111530</td>\n",
       "      <td>77.194121</td>\n",
       "      <td>27.907423</td>\n",
       "      <td>4.961570</td>\n",
       "      <td>2.566483</td>\n",
       "    </tr>\n",
       "    <tr>\n",
       "      <td>min</td>\n",
       "      <td>3.600000e+02</td>\n",
       "      <td>6.150000e+02</td>\n",
       "      <td>0.000000</td>\n",
       "      <td>80010.000000</td>\n",
       "      <td>39.617620</td>\n",
       "      <td>-105.109860</td>\n",
       "      <td>1.000000</td>\n",
       "      <td>0.000000</td>\n",
       "      <td>0.000000</td>\n",
       "      <td>0.000000</td>\n",
       "      <td>10.00000</td>\n",
       "      <td>0.000000</td>\n",
       "      <td>0.000000</td>\n",
       "      <td>1.000000</td>\n",
       "      <td>1.000000</td>\n",
       "      <td>0.000000</td>\n",
       "      <td>1.000000</td>\n",
       "      <td>0.000000</td>\n",
       "      <td>20.000000</td>\n",
       "      <td>0.020000</td>\n",
       "    </tr>\n",
       "    <tr>\n",
       "      <td>25%</td>\n",
       "      <td>1.624795e+07</td>\n",
       "      <td>1.590203e+07</td>\n",
       "      <td>100.000000</td>\n",
       "      <td>80205.000000</td>\n",
       "      <td>39.728655</td>\n",
       "      <td>-105.012232</td>\n",
       "      <td>2.000000</td>\n",
       "      <td>1.000000</td>\n",
       "      <td>1.000000</td>\n",
       "      <td>1.000000</td>\n",
       "      <td>75.00000</td>\n",
       "      <td>35.000000</td>\n",
       "      <td>0.000000</td>\n",
       "      <td>1.000000</td>\n",
       "      <td>28.000000</td>\n",
       "      <td>47.250000</td>\n",
       "      <td>11.000000</td>\n",
       "      <td>6.000000</td>\n",
       "      <td>96.000000</td>\n",
       "      <td>1.200000</td>\n",
       "    </tr>\n",
       "    <tr>\n",
       "      <td>50%</td>\n",
       "      <td>2.402601e+07</td>\n",
       "      <td>4.778579e+07</td>\n",
       "      <td>100.000000</td>\n",
       "      <td>80210.000000</td>\n",
       "      <td>39.748990</td>\n",
       "      <td>-104.982665</td>\n",
       "      <td>4.000000</td>\n",
       "      <td>1.000000</td>\n",
       "      <td>1.000000</td>\n",
       "      <td>2.000000</td>\n",
       "      <td>104.00000</td>\n",
       "      <td>60.000000</td>\n",
       "      <td>10.000000</td>\n",
       "      <td>2.000000</td>\n",
       "      <td>365.000000</td>\n",
       "      <td>109.000000</td>\n",
       "      <td>35.000000</td>\n",
       "      <td>20.000000</td>\n",
       "      <td>98.000000</td>\n",
       "      <td>2.780000</td>\n",
       "    </tr>\n",
       "    <tr>\n",
       "      <td>75%</td>\n",
       "      <td>3.158760e+07</td>\n",
       "      <td>1.417035e+08</td>\n",
       "      <td>100.000000</td>\n",
       "      <td>80218.000000</td>\n",
       "      <td>39.762145</td>\n",
       "      <td>-104.959457</td>\n",
       "      <td>6.000000</td>\n",
       "      <td>2.000000</td>\n",
       "      <td>2.000000</td>\n",
       "      <td>3.000000</td>\n",
       "      <td>160.75000</td>\n",
       "      <td>100.000000</td>\n",
       "      <td>20.000000</td>\n",
       "      <td>2.000000</td>\n",
       "      <td>1125.000000</td>\n",
       "      <td>249.000000</td>\n",
       "      <td>81.000000</td>\n",
       "      <td>43.000000</td>\n",
       "      <td>100.000000</td>\n",
       "      <td>4.800000</td>\n",
       "    </tr>\n",
       "    <tr>\n",
       "      <td>max</td>\n",
       "      <td>3.890536e+07</td>\n",
       "      <td>2.935359e+08</td>\n",
       "      <td>100.000000</td>\n",
       "      <td>80249.000000</td>\n",
       "      <td>39.813180</td>\n",
       "      <td>-104.735070</td>\n",
       "      <td>18.000000</td>\n",
       "      <td>17.000000</td>\n",
       "      <td>9.000000</td>\n",
       "      <td>14.000000</td>\n",
       "      <td>9999.00000</td>\n",
       "      <td>700.000000</td>\n",
       "      <td>300.000000</td>\n",
       "      <td>365.000000</td>\n",
       "      <td>1825.000000</td>\n",
       "      <td>365.000000</td>\n",
       "      <td>799.000000</td>\n",
       "      <td>211.000000</td>\n",
       "      <td>100.000000</td>\n",
       "      <td>18.530000</td>\n",
       "    </tr>\n",
       "  </tbody>\n",
       "</table>\n",
       "</div>"
      ],
      "text/plain": [
       "                 id       host_id  host_response_rate       zipcode  \\\n",
       "count  3.482000e+03  3.482000e+03         3482.000000   3482.000000   \n",
       "mean   2.315015e+07  8.235298e+07           98.329121  80211.171166   \n",
       "std    9.998237e+06  8.229631e+07            7.093516     16.718911   \n",
       "min    3.600000e+02  6.150000e+02            0.000000  80010.000000   \n",
       "25%    1.624795e+07  1.590203e+07          100.000000  80205.000000   \n",
       "50%    2.402601e+07  4.778579e+07          100.000000  80210.000000   \n",
       "75%    3.158760e+07  1.417035e+08          100.000000  80218.000000   \n",
       "max    3.890536e+07  2.935359e+08          100.000000  80249.000000   \n",
       "\n",
       "          latitude    longitude  accommodates    bathrooms     bedrooms  \\\n",
       "count  3482.000000  3482.000000   3482.000000  3482.000000  3482.000000   \n",
       "mean     39.741316  -104.976321      4.409822     1.459075     1.714532   \n",
       "std       0.031366     0.057048      2.850895     0.881424     1.119959   \n",
       "min      39.617620  -105.109860      1.000000     0.000000     0.000000   \n",
       "25%      39.728655  -105.012232      2.000000     1.000000     1.000000   \n",
       "50%      39.748990  -104.982665      4.000000     1.000000     1.000000   \n",
       "75%      39.762145  -104.959457      6.000000     2.000000     2.000000   \n",
       "max      39.813180  -104.735070     18.000000    17.000000     9.000000   \n",
       "\n",
       "              beds       price  cleaning_fee  extra_people  minimum_nights  \\\n",
       "count  3482.000000  3482.00000   3482.000000   3482.000000     3482.000000   \n",
       "mean      2.211947   167.01436     77.091327     13.947731        5.057438   \n",
       "std       1.629728   415.21232     64.109611     22.279856       12.519178   \n",
       "min       0.000000    10.00000      0.000000      0.000000        1.000000   \n",
       "25%       1.000000    75.00000     35.000000      0.000000        1.000000   \n",
       "50%       2.000000   104.00000     60.000000     10.000000        2.000000   \n",
       "75%       3.000000   160.75000    100.000000     20.000000        2.000000   \n",
       "max      14.000000  9999.00000    700.000000    300.000000      365.000000   \n",
       "\n",
       "       maximum_nights  availability_365  number_of_reviews  \\\n",
       "count     3482.000000       3482.000000        3482.000000   \n",
       "mean       561.655945        142.740666          61.224009   \n",
       "std        534.541562        119.111530          77.194121   \n",
       "min          1.000000          0.000000           1.000000   \n",
       "25%         28.000000         47.250000          11.000000   \n",
       "50%        365.000000        109.000000          35.000000   \n",
       "75%       1125.000000        249.000000          81.000000   \n",
       "max       1825.000000        365.000000         799.000000   \n",
       "\n",
       "       number_of_reviews_ltm  review_scores_rating  reviews_per_month  \n",
       "count            3482.000000           3482.000000        3482.000000  \n",
       "mean               28.606261             96.862723           3.282338  \n",
       "std                27.907423              4.961570           2.566483  \n",
       "min                 0.000000             20.000000           0.020000  \n",
       "25%                 6.000000             96.000000           1.200000  \n",
       "50%                20.000000             98.000000           2.780000  \n",
       "75%                43.000000            100.000000           4.800000  \n",
       "max               211.000000            100.000000          18.530000  "
      ]
     },
     "execution_count": 15,
     "metadata": {},
     "output_type": "execute_result"
    }
   ],
   "source": [
    "df.describe() #숫자밖에 안 보임, 문자는 따로 찾아야함"
   ]
  },
  {
   "cell_type": "markdown",
   "metadata": {},
   "source": [
    "### 1. bathrooms, bedrooms의 min이 0인 것은 더 조사할 필요성 있음\n",
    "### 2. price, cleaning_fee, extra_people의 max값은 더 조사할 필요성 있음\n",
    "### 3. cleaning_fee, extra_people의 min값이 0인 것은 더 조사할 필요성 있음\n",
    "### 4. number_of_reviews의 max 더 조사할 필요성 있음\n",
    "\n",
    "#### id, host_id 이상 없음\n",
    "#### host_response_rate 이상 없음\n",
    "#### zipcode, latitude, longitude의 min값과 max값 이상 없음\n",
    "#### accommodates 이상 없음\n",
    "#### bathrooms max가 17개, bedrooms max가 9개인 것은 아주 넓은 방으로 예상됨 -> 이상 없음\n",
    "#### minimum_nights, maximum_nights의 max는 장기 투숙인 것으로 예상됨 -> 이상 없음\n",
    "#### availability_365 min값 0, max값 365 -> 이상 없음\n",
    "#### review_scores_rating, reviews_per_month 이상 없음"
   ]
  },
  {
   "cell_type": "code",
   "execution_count": 16,
   "metadata": {},
   "outputs": [
    {
     "data": {
      "text/plain": [
       "1.0     2315\n",
       "2.0      478\n",
       "1.5      224\n",
       "2.5      186\n",
       "3.0      112\n",
       "3.5      101\n",
       "4.0       30\n",
       "4.5       15\n",
       "5.0        7\n",
       "5.5        3\n",
       "0.5        2\n",
       "17.0       2\n",
       "7.0        2\n",
       "6.5        1\n",
       "6.0        1\n",
       "10.5       1\n",
       "8.0        1\n",
       "0.0        1\n",
       "Name: bathrooms, dtype: int64"
      ]
     },
     "execution_count": 16,
     "metadata": {},
     "output_type": "execute_result"
    }
   ],
   "source": [
    "df['bathrooms'].value_counts()"
   ]
  },
  {
   "cell_type": "code",
   "execution_count": 17,
   "metadata": {},
   "outputs": [
    {
     "name": "stdout",
     "output_type": "stream",
     "text": [
      "bedrooms = 0\n",
      "beds = 1\n",
      "price = 67.0\n"
     ]
    }
   ],
   "source": [
    "df_bathrooms = df[df['bathrooms']==0]\n",
    "\n",
    "print('bedrooms =', df_bathrooms.iloc[0]['bedrooms'])\n",
    "print('beds =', df_bathrooms.iloc[0]['beds'])\n",
    "print('price =', df_bathrooms.iloc[0]['price'])"
   ]
  },
  {
   "cell_type": "code",
   "execution_count": 18,
   "metadata": {},
   "outputs": [],
   "source": [
    "df = df[df.bathrooms != 0]\n",
    "\n",
    "df = df.reset_index(drop = True)"
   ]
  },
  {
   "cell_type": "code",
   "execution_count": 19,
   "metadata": {},
   "outputs": [
    {
     "data": {
      "text/plain": [
       "1.0     2315\n",
       "2.0      478\n",
       "1.5      224\n",
       "2.5      186\n",
       "3.0      112\n",
       "3.5      101\n",
       "4.0       30\n",
       "4.5       15\n",
       "5.0        7\n",
       "5.5        3\n",
       "0.5        2\n",
       "17.0       2\n",
       "7.0        2\n",
       "8.0        1\n",
       "6.0        1\n",
       "10.5       1\n",
       "6.5        1\n",
       "Name: bathrooms, dtype: int64"
      ]
     },
     "execution_count": 19,
     "metadata": {},
     "output_type": "execute_result"
    }
   ],
   "source": [
    "df['bathrooms'].value_counts()"
   ]
  },
  {
   "cell_type": "code",
   "execution_count": 20,
   "metadata": {},
   "outputs": [
    {
     "data": {
      "text/plain": [
       "3481"
      ]
     },
     "execution_count": 20,
     "metadata": {},
     "output_type": "execute_result"
    }
   ],
   "source": [
    "df.shape[0]"
   ]
  },
  {
   "cell_type": "markdown",
   "metadata": {},
   "source": [
    "#### 0.5개인 것은 소변기, 좌변기만 있는 것을 의미한다고 한다.\n",
    "#### bathrooms에서 0개인 값을 가지는 데이터는 딱 1개이다. 조사를 더 해보니 bathroom이 0개임과 동시에 bedroom도 0개이고, 침대는 1개이다. 그런데 price는 67달러이다. price의 min값이 10달러인데 bathroom과 bedroom이 0개인 곳이 67달러가 된다는 것은 납득하기는 어렵다.\n",
    "#### 그래서 bathrooms이 0인 값을 잘못된 값이라고 판단하였고 bathrooms이 0인 값의 행을 삭제하였다.\n",
    "#### 삭제 후 다시 한 번 df['bathrooms'].value_counts()를 해보니 0이 삭제된 것을 확인할 수 있었고, df.shape[0]으로 행 개수를 확인해보니 3482개 에서 3481개 정확히 bathrooms이 0개인 행 딱 1개가 삭제되었다는 것을 확인하였다."
   ]
  },
  {
   "cell_type": "code",
   "execution_count": 21,
   "metadata": {},
   "outputs": [
    {
     "data": {
      "text/plain": [
       "1    1717\n",
       "2     944\n",
       "3     401\n",
       "0     164\n",
       "4     158\n",
       "5      69\n",
       "6      19\n",
       "8       6\n",
       "7       2\n",
       "9       1\n",
       "Name: bedrooms, dtype: int64"
      ]
     },
     "execution_count": 21,
     "metadata": {},
     "output_type": "execute_result"
    }
   ],
   "source": [
    "df['bedrooms'].value_counts()"
   ]
  },
  {
   "cell_type": "markdown",
   "metadata": {},
   "source": [
    "#### bedrooms이 0개인 값은 164개로 생각보다 많았다. bedroom은 제공되지 않고 거실만 제공되는 경우라고 생각하여 이상 없음이라고 판단하였다."
   ]
  },
  {
   "cell_type": "code",
   "execution_count": 22,
   "metadata": {},
   "outputs": [
    {
     "data": {
      "image/png": "[encoded data removed]",
      "text/plain": [
       "<Figure size 432x288 with 1 Axes>"
      ]
     },
     "metadata": {
      "needs_background": "light"
     },
     "output_type": "display_data"
    }
   ],
   "source": [
    "price = df['price'].value_counts()\n",
    "\n",
    "plt.grid()\n",
    "plt.scatter(x=price.index, y=price.values)\n",
    "\n",
    "plt.show()"
   ]
  },
  {
   "cell_type": "markdown",
   "metadata": {},
   "source": [
    "#### 가로축은 price값, 세로축은 각 price값에 해당하는 수이다.\n",
    "#### 대체적으로 평균값인 167달러에 쏠려있고, 의심되었던 price의 max값을 위의 그래프로 조사해본 결과 10000달러에 가까운 금액은 딱 1개의 행만 그런 것도 아니고, 장기투숙과 아파트를 통채로 빌린 경우인 것으로 생각되어 이상 없음으로 판단하였다."
   ]
  },
  {
   "cell_type": "code",
   "execution_count": 23,
   "metadata": {},
   "outputs": [
    {
     "data": {
      "image/png": "[encoded data removed]",
      "text/plain": [
       "<Figure size 432x288 with 1 Axes>"
      ]
     },
     "metadata": {
      "needs_background": "light"
     },
     "output_type": "display_data"
    }
   ],
   "source": [
    "cleaning_fee = df['cleaning_fee'].value_counts()\n",
    "\n",
    "plt.grid()\n",
    "plt.scatter(x=cleaning_fee.index, y=cleaning_fee.values)\n",
    "\n",
    "plt.show()"
   ]
  },
  {
   "cell_type": "markdown",
   "metadata": {},
   "source": [
    "#### 가로축은 cleaning_fee값, 세로축은 각 cleaning_fee값에 해당하는 수이다.\n",
    "#### cleaning_fee에서는 max값과 min값이 0인 것을 더 조사하는 것을 목표로 했다.\n",
    "#### 500달러를 넘어가는 max값은 그래프상으로 아주 작은 숫자들이 구성되어있어 거의 바닥을 깔고 있다. 아주 좋은 집의 장기투숙일 것으로 예상되어 이상 없음으로 판단하였다.\n",
    "#### cleaning_fee에서 값이 0인 것은 150개 정도였다. 생각보다 많은 수치였고, 서비스 차원에서 무료로 해주는 것이라고 생각하여 이상 없음으로 판단하였다."
   ]
  },
  {
   "cell_type": "code",
   "execution_count": 24,
   "metadata": {},
   "outputs": [
    {
     "data": {
      "image/png": "[encoded data removed]",
      "text/plain": [
       "<Figure size 432x288 with 1 Axes>"
      ]
     },
     "metadata": {
      "needs_background": "light"
     },
     "output_type": "display_data"
    }
   ],
   "source": [
    "extra_people = df['extra_people'].value_counts()\n",
    "\n",
    "plt.grid()\n",
    "plt.scatter(x=extra_people.index, y=extra_people.values)\n",
    "\n",
    "plt.show()"
   ]
  },
  {
   "cell_type": "markdown",
   "metadata": {},
   "source": [
    "#### 가로축은 extra_people값, 세로축은 각 extra_people값에 해당하는 수이다\n",
    "#### extra_people에서는 max값과 min값이 0인 것을 더 조사하는 것을 목표로 했다.\n",
    "#### 150달러를 넘어가는 max값의 경우 그래프상으로도 아주 낮게 깔려 있고, 좋은 집의 경우, 장기 투숙일 경우 이럴 수도 있다고 생각되어 이상 없음으로 판단하였다.\n",
    "#### 0달러의 경우를 의심했었는데 압도적으로 많은 수치인 1500개를 넘어가고 있다. 3481개의 데이터에서 1500개가 넘어가는 데이터를 잘못된 데이터라고 판단하여 삭제하기도 힘들고, 경쟁에서 살아남기 위한 목적으로 추가 금액을 받지 않는다고 생각되어 이상 없음으로 판단하였다."
   ]
  },
  {
   "cell_type": "code",
   "execution_count": 25,
   "metadata": {
    "scrolled": true
   },
   "outputs": [
    {
     "data": {
      "image/png": "[encoded data removed]",
      "text/plain": [
       "<Figure size 432x288 with 1 Axes>"
      ]
     },
     "metadata": {
      "needs_background": "light"
     },
     "output_type": "display_data"
    }
   ],
   "source": [
    "number_of_reviews = df['number_of_reviews'].value_counts()\n",
    "\n",
    "plt.grid()\n",
    "plt.scatter(x=number_of_reviews.index, y=number_of_reviews.values)\n",
    "\n",
    "plt.show()"
   ]
  },
  {
   "cell_type": "code",
   "execution_count": 26,
   "metadata": {},
   "outputs": [
    {
     "name": "stdout",
     "output_type": "stream",
     "text": [
      "host_since = 5/19/2012\n"
     ]
    }
   ],
   "source": [
    "df_number_of_reviews = df[df['number_of_reviews']==799] #max값이 799라는 것은 df.describe()을 통해서 알았다.\n",
    "\n",
    "print('host_since =', df_number_of_reviews.iloc[0]['host_since'])"
   ]
  },
  {
   "cell_type": "markdown",
   "metadata": {},
   "source": [
    "#### number_of_reviews에서 max값을 의심했었는데, 2012년부터 7년동안(꽤 오랫동안, 리뷰 수가 799개일 정도의 기간동안) 운영하고 있고, 인기가 매우 많은 것이었다고 생각되어 이상 없음으로 판단하였다."
   ]
  },
  {
   "cell_type": "code",
   "execution_count": 27,
   "metadata": {
    "scrolled": true
   },
   "outputs": [
    {
     "data": {
      "text/plain": [
       "Comfy beds in City Center! Park n' walk everywhere           10\n",
       "Urban Apartment in Downtown Denver                            3\n",
       "Inspiration Point                                             2\n",
       "?????? of Downtown Denver ?????? 420 Balcony|92 WalkScore     2\n",
       "Denver Carriage House                                         2\n",
       "                                                             ..\n",
       "Majestic Mansion | Luxury Experience <1mi Downtown            1\n",
       "Modern Rooftop Centrally Located!!!!                          1\n",
       "Beautiful Denver Home Perfect for Large Groups                1\n",
       "Chic, Trendy Home with a Fire Pit in Berkeley                 1\n",
       "Your Winter Escape Awaits. Great location, 420 ok!            1\n",
       "Name: name, Length: 3460, dtype: int64"
      ]
     },
     "execution_count": 27,
     "metadata": {},
     "output_type": "execute_result"
    }
   ],
   "source": [
    "df['name'].value_counts() #원래는 print(df['name'].value_counts().to_string())으로 스크롤을 빠르게 내려가며 체크했지만 깃허브에서는 스크롤이 제공되지 않아 너무 많은 데이터때문에 전체적인 분석을 보는게 불편하여 깃허브에서는 이렇게 올림"
   ]
  },
  {
   "cell_type": "markdown",
   "metadata": {},
   "source": [
    "#### 대충 봐도 '??????'가 붙어있거나 '??The Lily-Pad??' 이런게 붙어있거나 오류가 있는 부분이 많았다. 이것을 하나씩 수정하기는 힘들고 name에 따른 id가 부여되어 있어서 name을 몰라도 id로 찾을 수 있으니 어쩔 수 없이 수정하지 않더라도 나중에 문제가 되는 부분은 없을거라 판단하여 그대로 두기로 결정하였다. "
   ]
  },
  {
   "cell_type": "code",
   "execution_count": 28,
   "metadata": {},
   "outputs": [
    {
     "data": {
      "text/plain": [
       "Loftium             85\n",
       "Michael             45\n",
       "David               36\n",
       "Stay Alfred         32\n",
       "Evolve              30\n",
       "                    ..\n",
       "Chuck And Jordan     1\n",
       "Frank  &  Karen      1\n",
       "German               1\n",
       "Cam And Emily        1\n",
       "Nikki & James        1\n",
       "Name: host_name, Length: 1335, dtype: int64"
      ]
     },
     "execution_count": 28,
     "metadata": {},
     "output_type": "execute_result"
    }
   ],
   "source": [
    "df['host_name'].value_counts() #원래는 print(df['host_name'].value_counts().to_string())으로 스크롤을 빠르게 내려가며 체크했지만 깃허브에서는 스크롤이 제공되지 않아 너무 많은 데이터때문에 전체적인 분석을 보는게 불편하여 깃허브에서는 이렇게 올림"
   ]
  },
  {
   "cell_type": "code",
   "execution_count": 29,
   "metadata": {},
   "outputs": [],
   "source": [
    "df['host_name'] = df['host_name'].str.replace('+', '&')"
   ]
  },
  {
   "cell_type": "code",
   "execution_count": 30,
   "metadata": {},
   "outputs": [
    {
     "data": {
      "text/plain": [
       "Loftium          85\n",
       "Michael          45\n",
       "David            36\n",
       "Stay Alfred      32\n",
       "Evolve           30\n",
       "                 ..\n",
       "Blair             1\n",
       "Ari & Garrett     1\n",
       "Jason & Pearl     1\n",
       "Jessica & Jen     1\n",
       "Marisabe          1\n",
       "Name: host_name, Length: 1335, dtype: int64"
      ]
     },
     "execution_count": 30,
     "metadata": {},
     "output_type": "execute_result"
    }
   ],
   "source": [
    "df['host_name'].value_counts() #원래는 print(df['host_name'].value_counts().to_string())으로 스크롤을 빠르게 내려가며 체크했지만 깃허브에서는 스크롤이 제공되지 않아 너무 많은 데이터때문에 전체적인 분석을 보는게 불편하여 깃허브에서는 이렇게 올림"
   ]
  },
  {
   "cell_type": "markdown",
   "metadata": {},
   "source": [
    "#### hostname에서 공동으로 운영하는 경우 '&' 또는 '+'를 붙여주는 것을 확인했는데 통일성을 위하여 '+'를 '&'로 바꿔주어 '&'로 통일하였다. 그 후에 제대로 고쳐졌는지 한 번 더 확인한 결과 제대로 고쳐진 것을 확인하였다."
   ]
  },
  {
   "cell_type": "code",
   "execution_count": 31,
   "metadata": {},
   "outputs": [
    {
     "data": {
      "text/plain": [
       "12/4/2018    86\n",
       "10/8/2018    28\n",
       "9/20/2017    26\n",
       "2/4/2013     19\n",
       "1/22/2016    19\n",
       "             ..\n",
       "6/5/2011      1\n",
       "7/25/2014     1\n",
       "7/9/2019      1\n",
       "9/2/2019      1\n",
       "8/24/2016     1\n",
       "Name: host_since, Length: 1668, dtype: int64"
      ]
     },
     "execution_count": 31,
     "metadata": {},
     "output_type": "execute_result"
    }
   ],
   "source": [
    "df['host_since'].value_counts() #원래는 print(df['host_since'].value_counts().to_string())으로 스크롤을 빠르게 내려가며 체크했지만 깃허브에서는 스크롤이 제공되지 않아 너무 많은 데이터때문에 전체적인 분석을 보는게 불편하여 깃허브에서는 이렇게 올림"
   ]
  },
  {
   "cell_type": "markdown",
   "metadata": {},
   "source": [
    "#### 이상 없음"
   ]
  },
  {
   "cell_type": "code",
   "execution_count": 32,
   "metadata": {
    "scrolled": true
   },
   "outputs": [
    {
     "data": {
      "text/plain": [
       "Denver, Colorado, United States                    2767\n",
       "US                                                  243\n",
       "Seattle, Washington, United States                   88\n",
       "United States                                        55\n",
       "Spokane, Washington, United States                   32\n",
       "                                                   ... \n",
       "Watsonville, California, United States                1\n",
       "Lone Tree, Colorado, United States                    1\n",
       "Denver, New York, United States                       1\n",
       "Washington, District of Columbia, United States       1\n",
       "Minneapolis, Minnesota, United States                 1\n",
       "Name: host_location, Length: 113, dtype: int64"
      ]
     },
     "execution_count": 32,
     "metadata": {},
     "output_type": "execute_result"
    }
   ],
   "source": [
    "df['host_location'].value_counts() #원래는 print(df['host_location'].value_counts().to_string())으로 스크롤을 빠르게 내려가며 체크했지만 깃허브에서는 스크롤이 제공되지 않아 너무 많은 데이터때문에 전체적인 분석을 보는게 불편하여 깃허브에서는 이렇게 올림"
   ]
  },
  {
   "cell_type": "code",
   "execution_count": 33,
   "metadata": {},
   "outputs": [],
   "source": [
    "df['host_location'] = df['host_location'].str.replace('US', 'United States')"
   ]
  },
  {
   "cell_type": "code",
   "execution_count": 34,
   "metadata": {},
   "outputs": [
    {
     "data": {
      "text/plain": [
       "Denver, Colorado, United States                    2767\n",
       "United States                                       298\n",
       "Seattle, Washington, United States                   88\n",
       "Spokane, Washington, United States                   32\n",
       "Boulder, Colorado, United States                     24\n",
       "                                                   ... \n",
       "Watsonville, California, United States                1\n",
       "Lone Tree, Colorado, United States                    1\n",
       "Denver, New York, United States                       1\n",
       "Washington, District of Columbia, United States       1\n",
       "Monument, Colorado, United States                     1\n",
       "Name: host_location, Length: 112, dtype: int64"
      ]
     },
     "execution_count": 34,
     "metadata": {},
     "output_type": "execute_result"
    }
   ],
   "source": [
    "df['host_location'].value_counts()"
   ]
  },
  {
   "cell_type": "markdown",
   "metadata": {},
   "source": [
    "#### host_location에서 'US'가 243개, 'United States'가 55개가 있다. 'United States'의 약자가 'US'인데 데이터 통일이 안 되어있다.\n",
    "#### 다른 데이터들에서는 예를 들어 'Denver, Colorado, United States'처럼 약자가 아닌 풀네임을 쓰므로 'US'를 전부 'United States'로 바꾸기로 결정하였고,\n",
    "#### 바꾼 후에 다시 한 번 확인해보니 'United States'가 298(243+55)개가 정확히 들어가 있었다."
   ]
  },
  {
   "cell_type": "code",
   "execution_count": 35,
   "metadata": {},
   "outputs": [
    {
     "data": {
      "text/plain": [
       "within an hour        3004\n",
       "within a few hours     334\n",
       "within a day           131\n",
       "a few days or more      12\n",
       "Name: host_response_time, dtype: int64"
      ]
     },
     "execution_count": 35,
     "metadata": {},
     "output_type": "execute_result"
    }
   ],
   "source": [
    "df['host_response_time'].value_counts()"
   ]
  },
  {
   "cell_type": "markdown",
   "metadata": {},
   "source": [
    "#### 이상 없음"
   ]
  },
  {
   "cell_type": "code",
   "execution_count": 36,
   "metadata": {},
   "outputs": [
    {
     "data": {
      "text/plain": [
       "t    2035\n",
       "f    1446\n",
       "Name: host_is_superhost, dtype: int64"
      ]
     },
     "execution_count": 36,
     "metadata": {},
     "output_type": "execute_result"
    }
   ],
   "source": [
    "df['host_is_superhost'].value_counts()"
   ]
  },
  {
   "cell_type": "markdown",
   "metadata": {},
   "source": [
    "#### 이상 없음"
   ]
  },
  {
   "cell_type": "code",
   "execution_count": 37,
   "metadata": {
    "scrolled": true
   },
   "outputs": [
    {
     "data": {
      "text/plain": [
       "Five Points     288\n",
       "Highland        224\n",
       "Sunnyside       127\n",
       "Capitol Hill    126\n",
       "Speer           113\n",
       "               ... \n",
       "Indian Creek      4\n",
       "Kennedy           3\n",
       "Fort Logan        3\n",
       "Sun Valley        2\n",
       "Auraria           1\n",
       "Name: neighbourhood_cleansed, Length: 78, dtype: int64"
      ]
     },
     "execution_count": 37,
     "metadata": {},
     "output_type": "execute_result"
    }
   ],
   "source": [
    "df['neighbourhood_cleansed'].value_counts() #원래는 print(df['neighbourhood_cleansed'].value_counts().to_string())으로 스크롤을 빠르게 내려가며 체크했지만 깃허브에서는 스크롤이 제공되지 않아 너무 많은 데이터때문에 전체적인 분석을 보는게 불편하여 깃허브에서는 이렇게 올림"
   ]
  },
  {
   "cell_type": "markdown",
   "metadata": {},
   "source": [
    "#### 이상 없음"
   ]
  },
  {
   "cell_type": "code",
   "execution_count": 38,
   "metadata": {},
   "outputs": [
    {
     "data": {
      "text/plain": [
       "Denver               3444\n",
       "Englewood               9\n",
       "Aurora                  9\n",
       "Wheat Ridge             8\n",
       "Lakewood                6\n",
       "Littleton               3\n",
       "Stapleton, Denver       1\n",
       "Denver                  1\n",
       "Name: city, dtype: int64"
      ]
     },
     "execution_count": 38,
     "metadata": {},
     "output_type": "execute_result"
    }
   ],
   "source": [
    "df['city'].value_counts()"
   ]
  },
  {
   "cell_type": "markdown",
   "metadata": {},
   "source": [
    "#### Denver이 맨 위의 값에 3444개가 있는데, 맨 아래에 1개의 값이 있다. 똑같은 Denver인데 왜 3444개와 1로 나누어지는지는 모르겠다. 어찌되었든간에 Denver가 쪼개졌다고해서 분석에 지장이 있는 것도 아니고, 추천 시스템에 띄워질 때는 똑같이 Denver로 출력될 것이니 상관이 없다고 판단하여 그대로 두기로 했다.\n",
    "#### 라고 생각하였지만 Denver 뒤에 한 칸을 뛰어써서 그랬다는 것을 알게되었다.(아래에서 나올 'smart_location'에서 이 사실을 알게되었다)"
   ]
  },
  {
   "cell_type": "code",
   "execution_count": 39,
   "metadata": {},
   "outputs": [],
   "source": [
    "df['city'] = df['city'].str.replace('Denver ', 'Denver')"
   ]
  },
  {
   "cell_type": "code",
   "execution_count": 40,
   "metadata": {},
   "outputs": [
    {
     "data": {
      "text/plain": [
       "Denver               3445\n",
       "Englewood               9\n",
       "Aurora                  9\n",
       "Wheat Ridge             8\n",
       "Lakewood                6\n",
       "Littleton               3\n",
       "Stapleton, Denver       1\n",
       "Name: city, dtype: int64"
      ]
     },
     "execution_count": 40,
     "metadata": {},
     "output_type": "execute_result"
    }
   ],
   "source": [
    "df['city'].value_counts()"
   ]
  },
  {
   "cell_type": "markdown",
   "metadata": {},
   "source": [
    "#### 한 칸 뛰어쓰기 된 부분을 찾아서 올바르게 고쳐주었다.\n",
    "#### df['city'].value_counts()로 확인해보니 Denverdl 3445(3444+1)로 확인 되었다."
   ]
  },
  {
   "cell_type": "code",
   "execution_count": 41,
   "metadata": {},
   "outputs": [
    {
     "data": {
      "text/plain": [
       "CO    3481\n",
       "Name: state, dtype: int64"
      ]
     },
     "execution_count": 41,
     "metadata": {},
     "output_type": "execute_result"
    }
   ],
   "source": [
    "df['state'].value_counts()"
   ]
  },
  {
   "cell_type": "markdown",
   "metadata": {},
   "source": [
    "#### 이상 없음"
   ]
  },
  {
   "cell_type": "code",
   "execution_count": 42,
   "metadata": {},
   "outputs": [
    {
     "data": {
      "text/plain": [
       "Denver    3480\n",
       "Austin       1\n",
       "Name: market, dtype: int64"
      ]
     },
     "execution_count": 42,
     "metadata": {},
     "output_type": "execute_result"
    }
   ],
   "source": [
    "df['market'].value_counts()"
   ]
  },
  {
   "cell_type": "markdown",
   "metadata": {},
   "source": [
    "#### Austin이 1개이긴 하지만, Denver을 Austin으로 잘못 기록한 것이라고는 생각되지 않을만큼 스펠링이 너무 다르고 실제로 Austin이라는 도시가 있다. 따라서 이상 없음으로 판단하였다."
   ]
  },
  {
   "cell_type": "code",
   "execution_count": 43,
   "metadata": {},
   "outputs": [
    {
     "data": {
      "text/plain": [
       "Denver, CO               3444\n",
       "Englewood, CO               9\n",
       "Aurora, CO                  9\n",
       "Wheat Ridge, CO             8\n",
       "Lakewood, CO                6\n",
       "Littleton, CO               3\n",
       "Denver , CO                 1\n",
       "Stapleton, Denver, CO       1\n",
       "Name: smart_location, dtype: int64"
      ]
     },
     "execution_count": 43,
     "metadata": {},
     "output_type": "execute_result"
    }
   ],
   "source": [
    "df['smart_location'].value_counts()"
   ]
  },
  {
   "cell_type": "markdown",
   "metadata": {},
   "source": [
    "#### 맨 위에 'Denver, CO'과 맨 아래에 'Denver, CO'은 같은 값인데 뛰어쓰기가 한 칸이 되어있어 다른 값으로 count가 되었다.(여기서 city에서 Denver이 왜 2개로 나뉘었는지 이유를 알게 되었다.)"
   ]
  },
  {
   "cell_type": "code",
   "execution_count": 44,
   "metadata": {},
   "outputs": [],
   "source": [
    "df['smart_location'] = df['smart_location'].str.replace('Denver , CO', 'Denver, CO')"
   ]
  },
  {
   "cell_type": "code",
   "execution_count": 45,
   "metadata": {},
   "outputs": [
    {
     "data": {
      "text/plain": [
       "Denver, CO               3445\n",
       "Englewood, CO               9\n",
       "Aurora, CO                  9\n",
       "Wheat Ridge, CO             8\n",
       "Lakewood, CO                6\n",
       "Littleton, CO               3\n",
       "Stapleton, Denver, CO       1\n",
       "Name: smart_location, dtype: int64"
      ]
     },
     "execution_count": 45,
     "metadata": {},
     "output_type": "execute_result"
    }
   ],
   "source": [
    "df['smart_location'].value_counts()"
   ]
  },
  {
   "cell_type": "markdown",
   "metadata": {},
   "source": [
    "#### 뛰어쓰기 된 것을 바르게 고쳐주고 확인해보니 'Denver, CO'가 3445(3444+1)이 된 것을 확인할 수 있었다."
   ]
  },
  {
   "cell_type": "code",
   "execution_count": 46,
   "metadata": {
    "scrolled": true
   },
   "outputs": [
    {
     "data": {
      "text/plain": [
       "US    3481\n",
       "Name: country_code, dtype: int64"
      ]
     },
     "execution_count": 46,
     "metadata": {},
     "output_type": "execute_result"
    }
   ],
   "source": [
    "df['country_code'].value_counts()"
   ]
  },
  {
   "cell_type": "markdown",
   "metadata": {},
   "source": [
    "#### 이상 없음"
   ]
  },
  {
   "cell_type": "code",
   "execution_count": 47,
   "metadata": {},
   "outputs": [
    {
     "data": {
      "text/plain": [
       "United States    3481\n",
       "Name: country, dtype: int64"
      ]
     },
     "execution_count": 47,
     "metadata": {},
     "output_type": "execute_result"
    }
   ],
   "source": [
    "df['country'].value_counts()"
   ]
  },
  {
   "cell_type": "markdown",
   "metadata": {},
   "source": [
    "#### 이상 없음"
   ]
  },
  {
   "cell_type": "code",
   "execution_count": 48,
   "metadata": {},
   "outputs": [
    {
     "data": {
      "text/plain": [
       "House                 1365\n",
       "Apartment              536\n",
       "Townhouse              440\n",
       "Guest suite            380\n",
       "Condominium            273\n",
       "Bungalow               159\n",
       "Guesthouse             158\n",
       "Loft                    84\n",
       "Bed and breakfast       23\n",
       "Hostel                  15\n",
       "Cottage                 13\n",
       "Camper/RV                8\n",
       "Other                    6\n",
       "Aparthotel               6\n",
       "Serviced apartment       6\n",
       "Tiny house               4\n",
       "Villa                    3\n",
       "Castle                   2\n",
       "Name: property_type, dtype: int64"
      ]
     },
     "execution_count": 48,
     "metadata": {},
     "output_type": "execute_result"
    }
   ],
   "source": [
    "df['property_type'].value_counts()"
   ]
  },
  {
   "cell_type": "markdown",
   "metadata": {},
   "source": [
    "#### 'Other'이라는 부분이 걸리지만 하나씩 찾아서 바꿔줄 수도 없고, 어차피 추천 시스템에서 원하는 property_type을 입력 받을 때(동적으로 받는다고 가정하고 진행한다고 앞에서 언급함) 걸러지는 것이니 삭제할 필요까지는 없다고 판단하였다."
   ]
  },
  {
   "cell_type": "code",
   "execution_count": 49,
   "metadata": {},
   "outputs": [
    {
     "data": {
      "text/plain": [
       "Entire home/apt    2627\n",
       "Private room        780\n",
       "Shared room          43\n",
       "Hotel room           31\n",
       "Name: room_type, dtype: int64"
      ]
     },
     "execution_count": 49,
     "metadata": {},
     "output_type": "execute_result"
    }
   ],
   "source": [
    "df['room_type'].value_counts()"
   ]
  },
  {
   "cell_type": "markdown",
   "metadata": {},
   "source": [
    "#### 이상 없음"
   ]
  },
  {
   "cell_type": "code",
   "execution_count": 50,
   "metadata": {},
   "outputs": [
    {
     "data": {
      "text/plain": [
       "9/2/2019     22\n",
       "9/15/2019    21\n",
       "4/21/2019    17\n",
       "1/1/2019     14\n",
       "7/7/2019     14\n",
       "             ..\n",
       "5/7/2019      1\n",
       "6/19/2018     1\n",
       "5/13/2017     1\n",
       "6/2/2016      1\n",
       "2/22/2016     1\n",
       "Name: first_review, Length: 1324, dtype: int64"
      ]
     },
     "execution_count": 50,
     "metadata": {},
     "output_type": "execute_result"
    }
   ],
   "source": [
    "df['first_review'].value_counts() #원래는 print(df['first_review'].value_counts().to_string())으로 스크롤을 빠르게 내려가며 체크했지만 깃허브에서는 스크롤이 제공되지 않아 너무 많은 데이터때문에 전체적인 분석을 보는게 불편하여 깃허브에서는 이렇게 올림"
   ]
  },
  {
   "cell_type": "markdown",
   "metadata": {},
   "source": [
    "#### 이상 없음"
   ]
  },
  {
   "cell_type": "code",
   "execution_count": 51,
   "metadata": {},
   "outputs": [
    {
     "data": {
      "text/plain": [
       "9/22/2019     246\n",
       "9/23/2019     208\n",
       "9/15/2019     199\n",
       "9/16/2019     163\n",
       "9/26/2019     151\n",
       "             ... \n",
       "10/26/2018      1\n",
       "5/29/2019       1\n",
       "3/26/2017       1\n",
       "7/8/2018        1\n",
       "12/26/2018      1\n",
       "Name: last_review, Length: 290, dtype: int64"
      ]
     },
     "execution_count": 51,
     "metadata": {},
     "output_type": "execute_result"
    }
   ],
   "source": [
    "df['last_review'].value_counts() #원래는 print(df['last_review'].value_counts().to_string())으로 스크롤을 빠르게 내려가며 체크했지만 깃허브에서는 스크롤이 제공되지 않아 너무 많은 데이터때문에 전체적인 분석을 보는게 불편하여 깃허브에서는 이렇게 올림"
   ]
  },
  {
   "cell_type": "markdown",
   "metadata": {},
   "source": [
    "#### 이상 없음"
   ]
  },
  {
   "cell_type": "markdown",
   "metadata": {},
   "source": [
    "## 3. 몇가지 흥미로운 findings 설명하기"
   ]
  },
  {
   "cell_type": "markdown",
   "metadata": {},
   "source": [
    "### 3-(1). 여러개의 property를 갖고 있는 개인을 찾기(독점하는 사람이 있는지) - (교수님이 주신 예시)"
   ]
  },
  {
   "cell_type": "code",
   "execution_count": 52,
   "metadata": {
    "scrolled": true
   },
   "outputs": [
    {
     "data": {
      "text/plain": [
       "229095817    85\n",
       "151394248    24\n",
       "219524979    19\n",
       "4962900      18\n",
       "25229782     14\n",
       "             ..\n",
       "45172079      1\n",
       "87038528      1\n",
       "7961148       1\n",
       "48448059      1\n",
       "271862184     1\n",
       "Name: host_id, Length: 2583, dtype: int64"
      ]
     },
     "execution_count": 52,
     "metadata": {},
     "output_type": "execute_result"
    }
   ],
   "source": [
    "df['host_id'].value_counts()"
   ]
  },
  {
   "cell_type": "code",
   "execution_count": 53,
   "metadata": {},
   "outputs": [
    {
     "name": "stdout",
     "output_type": "stream",
     "text": [
      "host_name = Loftium\n"
     ]
    }
   ],
   "source": [
    "df_host_id = df[df['host_id']==229095817]\n",
    "\n",
    "print('host_name =', df_host_id.iloc[0]['host_name'])"
   ]
  },
  {
   "cell_type": "code",
   "execution_count": 54,
   "metadata": {},
   "outputs": [
    {
     "data": {
      "text/plain": [
       "Loftium          85\n",
       "Michael          45\n",
       "David            36\n",
       "Stay Alfred      32\n",
       "Evolve           30\n",
       "                 ..\n",
       "Blair             1\n",
       "Ari & Garrett     1\n",
       "Jason & Pearl     1\n",
       "Jessica & Jen     1\n",
       "Marisabe          1\n",
       "Name: host_name, Length: 1335, dtype: int64"
      ]
     },
     "execution_count": 54,
     "metadata": {},
     "output_type": "execute_result"
    }
   ],
   "source": [
    "df['host_name'].value_counts()"
   ]
  },
  {
   "cell_type": "markdown",
   "metadata": {},
   "source": [
    "#### 동명이인이 있을 수 있으니 host_id로 접근하였다.\n",
    "#### Loftium이라는 사람이 85개의 property를 가지고 있으므로써 압도적으로 독점을 하는 사람이라는 것을 알 수 있다.\n",
    "#### 더 나아가서 갑자기 독점하고 있는 사람과 이름이 같은 동명이인이 있을까?라는 궁금증이 생겼다. host_name으로 value_counts를 해보니 Loftium이 host_id와 똑같이 85개로 독점자의 동명이인은 없었다."
   ]
  },
  {
   "cell_type": "markdown",
   "metadata": {},
   "source": [
    "### 3-(2). 가장 비싼, 저렴한 property 찾기 - (교수님이 주신 예시)"
   ]
  },
  {
   "cell_type": "code",
   "execution_count": 55,
   "metadata": {
    "scrolled": false
   },
   "outputs": [
    {
     "data": {
      "text/html": [
       "<div>\n",
       "<style scoped>\n",
       "    .dataframe tbody tr th:only-of-type {\n",
       "        vertical-align: middle;\n",
       "    }\n",
       "\n",
       "    .dataframe tbody tr th {\n",
       "        vertical-align: top;\n",
       "    }\n",
       "\n",
       "    .dataframe thead th {\n",
       "        text-align: right;\n",
       "    }\n",
       "</style>\n",
       "<table border=\"1\" class=\"dataframe\">\n",
       "  <thead>\n",
       "    <tr style=\"text-align: right;\">\n",
       "      <th></th>\n",
       "      <th>id</th>\n",
       "      <th>host_id</th>\n",
       "      <th>host_response_rate</th>\n",
       "      <th>zipcode</th>\n",
       "      <th>latitude</th>\n",
       "      <th>longitude</th>\n",
       "      <th>accommodates</th>\n",
       "      <th>bathrooms</th>\n",
       "      <th>bedrooms</th>\n",
       "      <th>beds</th>\n",
       "      <th>price</th>\n",
       "      <th>cleaning_fee</th>\n",
       "      <th>extra_people</th>\n",
       "      <th>minimum_nights</th>\n",
       "      <th>maximum_nights</th>\n",
       "      <th>availability_365</th>\n",
       "      <th>number_of_reviews</th>\n",
       "      <th>number_of_reviews_ltm</th>\n",
       "      <th>review_scores_rating</th>\n",
       "      <th>reviews_per_month</th>\n",
       "    </tr>\n",
       "  </thead>\n",
       "  <tbody>\n",
       "    <tr>\n",
       "      <td>count</td>\n",
       "      <td>3.481000e+03</td>\n",
       "      <td>3.481000e+03</td>\n",
       "      <td>3481.000000</td>\n",
       "      <td>3481.000000</td>\n",
       "      <td>3481.000000</td>\n",
       "      <td>3481.000000</td>\n",
       "      <td>3481.000000</td>\n",
       "      <td>3481.000000</td>\n",
       "      <td>3481.000000</td>\n",
       "      <td>3481.000000</td>\n",
       "      <td>3481.000000</td>\n",
       "      <td>3481.000000</td>\n",
       "      <td>3481.000000</td>\n",
       "      <td>3481.000000</td>\n",
       "      <td>3481.000000</td>\n",
       "      <td>3481.000000</td>\n",
       "      <td>3481.000000</td>\n",
       "      <td>3481.000000</td>\n",
       "      <td>3481.000000</td>\n",
       "      <td>3481.000000</td>\n",
       "    </tr>\n",
       "    <tr>\n",
       "      <td>mean</td>\n",
       "      <td>2.314601e+07</td>\n",
       "      <td>8.235274e+07</td>\n",
       "      <td>98.328641</td>\n",
       "      <td>80211.167768</td>\n",
       "      <td>39.741323</td>\n",
       "      <td>-104.976317</td>\n",
       "      <td>4.410514</td>\n",
       "      <td>1.459494</td>\n",
       "      <td>1.715024</td>\n",
       "      <td>2.212295</td>\n",
       "      <td>167.043091</td>\n",
       "      <td>77.112037</td>\n",
       "      <td>13.950302</td>\n",
       "      <td>5.058604</td>\n",
       "      <td>561.815283</td>\n",
       "      <td>142.734272</td>\n",
       "      <td>61.239874</td>\n",
       "      <td>28.612755</td>\n",
       "      <td>96.861821</td>\n",
       "      <td>3.282180</td>\n",
       "    </tr>\n",
       "    <tr>\n",
       "      <td>std</td>\n",
       "      <td>9.996686e+06</td>\n",
       "      <td>8.230814e+07</td>\n",
       "      <td>7.094478</td>\n",
       "      <td>16.720110</td>\n",
       "      <td>0.031367</td>\n",
       "      <td>0.057056</td>\n",
       "      <td>2.851012</td>\n",
       "      <td>0.881204</td>\n",
       "      <td>1.119742</td>\n",
       "      <td>1.629833</td>\n",
       "      <td>415.268511</td>\n",
       "      <td>64.107171</td>\n",
       "      <td>22.282540</td>\n",
       "      <td>12.520788</td>\n",
       "      <td>534.535649</td>\n",
       "      <td>119.128045</td>\n",
       "      <td>77.199534</td>\n",
       "      <td>27.908801</td>\n",
       "      <td>4.961997</td>\n",
       "      <td>2.566835</td>\n",
       "    </tr>\n",
       "    <tr>\n",
       "      <td>min</td>\n",
       "      <td>3.600000e+02</td>\n",
       "      <td>6.150000e+02</td>\n",
       "      <td>0.000000</td>\n",
       "      <td>80010.000000</td>\n",
       "      <td>39.617620</td>\n",
       "      <td>-105.109860</td>\n",
       "      <td>1.000000</td>\n",
       "      <td>0.500000</td>\n",
       "      <td>0.000000</td>\n",
       "      <td>0.000000</td>\n",
       "      <td>10.000000</td>\n",
       "      <td>0.000000</td>\n",
       "      <td>0.000000</td>\n",
       "      <td>1.000000</td>\n",
       "      <td>1.000000</td>\n",
       "      <td>0.000000</td>\n",
       "      <td>1.000000</td>\n",
       "      <td>0.000000</td>\n",
       "      <td>20.000000</td>\n",
       "      <td>0.020000</td>\n",
       "    </tr>\n",
       "    <tr>\n",
       "      <td>25%</td>\n",
       "      <td>1.624448e+07</td>\n",
       "      <td>1.589901e+07</td>\n",
       "      <td>100.000000</td>\n",
       "      <td>80205.000000</td>\n",
       "      <td>39.728670</td>\n",
       "      <td>-105.012240</td>\n",
       "      <td>2.000000</td>\n",
       "      <td>1.000000</td>\n",
       "      <td>1.000000</td>\n",
       "      <td>1.000000</td>\n",
       "      <td>75.000000</td>\n",
       "      <td>35.000000</td>\n",
       "      <td>0.000000</td>\n",
       "      <td>1.000000</td>\n",
       "      <td>28.000000</td>\n",
       "      <td>47.000000</td>\n",
       "      <td>11.000000</td>\n",
       "      <td>6.000000</td>\n",
       "      <td>96.000000</td>\n",
       "      <td>1.200000</td>\n",
       "    </tr>\n",
       "    <tr>\n",
       "      <td>50%</td>\n",
       "      <td>2.401764e+07</td>\n",
       "      <td>4.773906e+07</td>\n",
       "      <td>100.000000</td>\n",
       "      <td>80210.000000</td>\n",
       "      <td>39.749000</td>\n",
       "      <td>-104.982660</td>\n",
       "      <td>4.000000</td>\n",
       "      <td>1.000000</td>\n",
       "      <td>1.000000</td>\n",
       "      <td>2.000000</td>\n",
       "      <td>104.000000</td>\n",
       "      <td>60.000000</td>\n",
       "      <td>10.000000</td>\n",
       "      <td>2.000000</td>\n",
       "      <td>365.000000</td>\n",
       "      <td>109.000000</td>\n",
       "      <td>35.000000</td>\n",
       "      <td>20.000000</td>\n",
       "      <td>98.000000</td>\n",
       "      <td>2.780000</td>\n",
       "    </tr>\n",
       "    <tr>\n",
       "      <td>75%</td>\n",
       "      <td>3.158660e+07</td>\n",
       "      <td>1.418714e+08</td>\n",
       "      <td>100.000000</td>\n",
       "      <td>80218.000000</td>\n",
       "      <td>39.762150</td>\n",
       "      <td>-104.959340</td>\n",
       "      <td>6.000000</td>\n",
       "      <td>2.000000</td>\n",
       "      <td>2.000000</td>\n",
       "      <td>3.000000</td>\n",
       "      <td>161.000000</td>\n",
       "      <td>100.000000</td>\n",
       "      <td>20.000000</td>\n",
       "      <td>2.000000</td>\n",
       "      <td>1125.000000</td>\n",
       "      <td>249.000000</td>\n",
       "      <td>81.000000</td>\n",
       "      <td>43.000000</td>\n",
       "      <td>100.000000</td>\n",
       "      <td>4.800000</td>\n",
       "    </tr>\n",
       "    <tr>\n",
       "      <td>max</td>\n",
       "      <td>3.890536e+07</td>\n",
       "      <td>2.935359e+08</td>\n",
       "      <td>100.000000</td>\n",
       "      <td>80249.000000</td>\n",
       "      <td>39.813180</td>\n",
       "      <td>-104.735070</td>\n",
       "      <td>18.000000</td>\n",
       "      <td>17.000000</td>\n",
       "      <td>9.000000</td>\n",
       "      <td>14.000000</td>\n",
       "      <td>9999.000000</td>\n",
       "      <td>700.000000</td>\n",
       "      <td>300.000000</td>\n",
       "      <td>365.000000</td>\n",
       "      <td>1825.000000</td>\n",
       "      <td>365.000000</td>\n",
       "      <td>799.000000</td>\n",
       "      <td>211.000000</td>\n",
       "      <td>100.000000</td>\n",
       "      <td>18.530000</td>\n",
       "    </tr>\n",
       "  </tbody>\n",
       "</table>\n",
       "</div>"
      ],
      "text/plain": [
       "                 id       host_id  host_response_rate       zipcode  \\\n",
       "count  3.481000e+03  3.481000e+03         3481.000000   3481.000000   \n",
       "mean   2.314601e+07  8.235274e+07           98.328641  80211.167768   \n",
       "std    9.996686e+06  8.230814e+07            7.094478     16.720110   \n",
       "min    3.600000e+02  6.150000e+02            0.000000  80010.000000   \n",
       "25%    1.624448e+07  1.589901e+07          100.000000  80205.000000   \n",
       "50%    2.401764e+07  4.773906e+07          100.000000  80210.000000   \n",
       "75%    3.158660e+07  1.418714e+08          100.000000  80218.000000   \n",
       "max    3.890536e+07  2.935359e+08          100.000000  80249.000000   \n",
       "\n",
       "          latitude    longitude  accommodates    bathrooms     bedrooms  \\\n",
       "count  3481.000000  3481.000000   3481.000000  3481.000000  3481.000000   \n",
       "mean     39.741323  -104.976317      4.410514     1.459494     1.715024   \n",
       "std       0.031367     0.057056      2.851012     0.881204     1.119742   \n",
       "min      39.617620  -105.109860      1.000000     0.500000     0.000000   \n",
       "25%      39.728670  -105.012240      2.000000     1.000000     1.000000   \n",
       "50%      39.749000  -104.982660      4.000000     1.000000     1.000000   \n",
       "75%      39.762150  -104.959340      6.000000     2.000000     2.000000   \n",
       "max      39.813180  -104.735070     18.000000    17.000000     9.000000   \n",
       "\n",
       "              beds        price  cleaning_fee  extra_people  minimum_nights  \\\n",
       "count  3481.000000  3481.000000   3481.000000   3481.000000     3481.000000   \n",
       "mean      2.212295   167.043091     77.112037     13.950302        5.058604   \n",
       "std       1.629833   415.268511     64.107171     22.282540       12.520788   \n",
       "min       0.000000    10.000000      0.000000      0.000000        1.000000   \n",
       "25%       1.000000    75.000000     35.000000      0.000000        1.000000   \n",
       "50%       2.000000   104.000000     60.000000     10.000000        2.000000   \n",
       "75%       3.000000   161.000000    100.000000     20.000000        2.000000   \n",
       "max      14.000000  9999.000000    700.000000    300.000000      365.000000   \n",
       "\n",
       "       maximum_nights  availability_365  number_of_reviews  \\\n",
       "count     3481.000000       3481.000000        3481.000000   \n",
       "mean       561.815283        142.734272          61.239874   \n",
       "std        534.535649        119.128045          77.199534   \n",
       "min          1.000000          0.000000           1.000000   \n",
       "25%         28.000000         47.000000          11.000000   \n",
       "50%        365.000000        109.000000          35.000000   \n",
       "75%       1125.000000        249.000000          81.000000   \n",
       "max       1825.000000        365.000000         799.000000   \n",
       "\n",
       "       number_of_reviews_ltm  review_scores_rating  reviews_per_month  \n",
       "count            3481.000000           3481.000000        3481.000000  \n",
       "mean               28.612755             96.861821           3.282180  \n",
       "std                27.908801              4.961997           2.566835  \n",
       "min                 0.000000             20.000000           0.020000  \n",
       "25%                 6.000000             96.000000           1.200000  \n",
       "50%                20.000000             98.000000           2.780000  \n",
       "75%                43.000000            100.000000           4.800000  \n",
       "max               211.000000            100.000000          18.530000  "
      ]
     },
     "execution_count": 55,
     "metadata": {},
     "output_type": "execute_result"
    }
   ],
   "source": [
    "df.describe()"
   ]
  },
  {
   "cell_type": "markdown",
   "metadata": {},
   "source": [
    "#### 가장 비싼 property는 9999달러, 매우 비싼 아파트 같은 것을 통채로 빌린 것으로 예상된다.\n",
    "#### 가장 저렴한 property는 10달러이다."
   ]
  },
  {
   "cell_type": "markdown",
   "metadata": {},
   "source": [
    "### 3-(3) superhost는 어떻게 되는가? 추적해보기"
   ]
  },
  {
   "cell_type": "code",
   "execution_count": 56,
   "metadata": {
    "scrolled": true
   },
   "outputs": [
    {
     "data": {
      "text/html": [
       "<div>\n",
       "<style scoped>\n",
       "    .dataframe tbody tr th:only-of-type {\n",
       "        vertical-align: middle;\n",
       "    }\n",
       "\n",
       "    .dataframe tbody tr th {\n",
       "        vertical-align: top;\n",
       "    }\n",
       "\n",
       "    .dataframe thead th {\n",
       "        text-align: right;\n",
       "    }\n",
       "</style>\n",
       "<table border=\"1\" class=\"dataframe\">\n",
       "  <thead>\n",
       "    <tr style=\"text-align: right;\">\n",
       "      <th></th>\n",
       "      <th>host_response_rate</th>\n",
       "      <th>number_of_reviews</th>\n",
       "      <th>review_scores_rating</th>\n",
       "      <th>reviews_per_month</th>\n",
       "    </tr>\n",
       "  </thead>\n",
       "  <tbody>\n",
       "    <tr>\n",
       "      <td>count</td>\n",
       "      <td>2035.000000</td>\n",
       "      <td>2035.000000</td>\n",
       "      <td>2035.000000</td>\n",
       "      <td>2035.00000</td>\n",
       "    </tr>\n",
       "    <tr>\n",
       "      <td>mean</td>\n",
       "      <td>99.055037</td>\n",
       "      <td>82.391646</td>\n",
       "      <td>97.904177</td>\n",
       "      <td>3.70829</td>\n",
       "    </tr>\n",
       "    <tr>\n",
       "      <td>std</td>\n",
       "      <td>4.733499</td>\n",
       "      <td>84.894732</td>\n",
       "      <td>2.826020</td>\n",
       "      <td>2.53854</td>\n",
       "    </tr>\n",
       "    <tr>\n",
       "      <td>min</td>\n",
       "      <td>0.000000</td>\n",
       "      <td>1.000000</td>\n",
       "      <td>20.000000</td>\n",
       "      <td>0.02000</td>\n",
       "    </tr>\n",
       "    <tr>\n",
       "      <td>25%</td>\n",
       "      <td>100.000000</td>\n",
       "      <td>27.000000</td>\n",
       "      <td>97.000000</td>\n",
       "      <td>1.70000</td>\n",
       "    </tr>\n",
       "    <tr>\n",
       "      <td>50%</td>\n",
       "      <td>100.000000</td>\n",
       "      <td>56.000000</td>\n",
       "      <td>98.000000</td>\n",
       "      <td>3.35000</td>\n",
       "    </tr>\n",
       "    <tr>\n",
       "      <td>75%</td>\n",
       "      <td>100.000000</td>\n",
       "      <td>108.000000</td>\n",
       "      <td>99.000000</td>\n",
       "      <td>5.25000</td>\n",
       "    </tr>\n",
       "    <tr>\n",
       "      <td>max</td>\n",
       "      <td>100.000000</td>\n",
       "      <td>799.000000</td>\n",
       "      <td>100.000000</td>\n",
       "      <td>17.91000</td>\n",
       "    </tr>\n",
       "  </tbody>\n",
       "</table>\n",
       "</div>"
      ],
      "text/plain": [
       "       host_response_rate  number_of_reviews  review_scores_rating  \\\n",
       "count         2035.000000        2035.000000           2035.000000   \n",
       "mean            99.055037          82.391646             97.904177   \n",
       "std              4.733499          84.894732              2.826020   \n",
       "min              0.000000           1.000000             20.000000   \n",
       "25%            100.000000          27.000000             97.000000   \n",
       "50%            100.000000          56.000000             98.000000   \n",
       "75%            100.000000         108.000000             99.000000   \n",
       "max            100.000000         799.000000            100.000000   \n",
       "\n",
       "       reviews_per_month  \n",
       "count         2035.00000  \n",
       "mean             3.70829  \n",
       "std              2.53854  \n",
       "min              0.02000  \n",
       "25%              1.70000  \n",
       "50%              3.35000  \n",
       "75%              5.25000  \n",
       "max             17.91000  "
      ]
     },
     "execution_count": 56,
     "metadata": {},
     "output_type": "execute_result"
    }
   ],
   "source": [
    "df_superhost = df.loc[df['host_is_superhost']=='t']\n",
    "\n",
    "df_superhost = df_superhost[['host_since', 'host_response_time', 'host_response_rate', 'number_of_reviews', 'review_scores_rating', 'reviews_per_month']]\n",
    "\n",
    "df_superhost.describe()"
   ]
  },
  {
   "cell_type": "code",
   "execution_count": 57,
   "metadata": {
    "scrolled": true
   },
   "outputs": [
    {
     "data": {
      "text/html": [
       "<div>\n",
       "<style scoped>\n",
       "    .dataframe tbody tr th:only-of-type {\n",
       "        vertical-align: middle;\n",
       "    }\n",
       "\n",
       "    .dataframe tbody tr th {\n",
       "        vertical-align: top;\n",
       "    }\n",
       "\n",
       "    .dataframe thead th {\n",
       "        text-align: right;\n",
       "    }\n",
       "</style>\n",
       "<table border=\"1\" class=\"dataframe\">\n",
       "  <thead>\n",
       "    <tr style=\"text-align: right;\">\n",
       "      <th></th>\n",
       "      <th>host_response_rate</th>\n",
       "      <th>number_of_reviews</th>\n",
       "      <th>review_scores_rating</th>\n",
       "      <th>reviews_per_month</th>\n",
       "    </tr>\n",
       "  </thead>\n",
       "  <tbody>\n",
       "    <tr>\n",
       "      <td>count</td>\n",
       "      <td>1446.000000</td>\n",
       "      <td>1446.000000</td>\n",
       "      <td>1446.000000</td>\n",
       "      <td>1446.000000</td>\n",
       "    </tr>\n",
       "    <tr>\n",
       "      <td>mean</td>\n",
       "      <td>97.306362</td>\n",
       "      <td>31.472337</td>\n",
       "      <td>95.394882</td>\n",
       "      <td>2.682503</td>\n",
       "    </tr>\n",
       "    <tr>\n",
       "      <td>std</td>\n",
       "      <td>9.374754</td>\n",
       "      <td>51.877927</td>\n",
       "      <td>6.661126</td>\n",
       "      <td>2.486156</td>\n",
       "    </tr>\n",
       "    <tr>\n",
       "      <td>min</td>\n",
       "      <td>0.000000</td>\n",
       "      <td>1.000000</td>\n",
       "      <td>20.000000</td>\n",
       "      <td>0.020000</td>\n",
       "    </tr>\n",
       "    <tr>\n",
       "      <td>25%</td>\n",
       "      <td>100.000000</td>\n",
       "      <td>5.000000</td>\n",
       "      <td>93.000000</td>\n",
       "      <td>0.770000</td>\n",
       "    </tr>\n",
       "    <tr>\n",
       "      <td>50%</td>\n",
       "      <td>100.000000</td>\n",
       "      <td>14.000000</td>\n",
       "      <td>97.000000</td>\n",
       "      <td>2.000000</td>\n",
       "    </tr>\n",
       "    <tr>\n",
       "      <td>75%</td>\n",
       "      <td>100.000000</td>\n",
       "      <td>37.000000</td>\n",
       "      <td>100.000000</td>\n",
       "      <td>4.000000</td>\n",
       "    </tr>\n",
       "    <tr>\n",
       "      <td>max</td>\n",
       "      <td>100.000000</td>\n",
       "      <td>798.000000</td>\n",
       "      <td>100.000000</td>\n",
       "      <td>18.530000</td>\n",
       "    </tr>\n",
       "  </tbody>\n",
       "</table>\n",
       "</div>"
      ],
      "text/plain": [
       "       host_response_rate  number_of_reviews  review_scores_rating  \\\n",
       "count         1446.000000        1446.000000           1446.000000   \n",
       "mean            97.306362          31.472337             95.394882   \n",
       "std              9.374754          51.877927              6.661126   \n",
       "min              0.000000           1.000000             20.000000   \n",
       "25%            100.000000           5.000000             93.000000   \n",
       "50%            100.000000          14.000000             97.000000   \n",
       "75%            100.000000          37.000000            100.000000   \n",
       "max            100.000000         798.000000            100.000000   \n",
       "\n",
       "       reviews_per_month  \n",
       "count        1446.000000  \n",
       "mean            2.682503  \n",
       "std             2.486156  \n",
       "min             0.020000  \n",
       "25%             0.770000  \n",
       "50%             2.000000  \n",
       "75%             4.000000  \n",
       "max            18.530000  "
      ]
     },
     "execution_count": 57,
     "metadata": {},
     "output_type": "execute_result"
    }
   ],
   "source": [
    "df_no_superhost = df.loc[df['host_is_superhost']=='f']\n",
    "\n",
    "df_no_superhost = df_no_superhost[['host_since', 'host_response_time', 'host_response_rate', 'number_of_reviews', 'review_scores_rating', 'reviews_per_month']]\n",
    "\n",
    "df_no_superhost.describe()"
   ]
  },
  {
   "cell_type": "markdown",
   "metadata": {},
   "source": [
    "#### superhost는 어떻게 되는지를 추적하려고 superhost인 사람과 아닌 사람을 구분하여 host를 판단할 수 있는 columns들로만 describe를 해보았더니 평균값에서 가장 확실하게 차이가 나는 것은 number_of_reviews였다.\n",
    "#### superhost인 host는 리뷰 수가 평균 약 82개, superhost가 아닌 host는 리뷰 수가 약 31개로 많은 차이를 보였다. 그렇지만 superhost의 최소 리뷰 수는 1개로 superhost를 정하는 절대적인 기준은 아닌 것 같다."
   ]
  },
  {
   "cell_type": "markdown",
   "metadata": {},
   "source": [
    "## 4. 숙박할 곳을 찾고 있는 고객에게 좋은 property 추천해기"
   ]
  },
  {
   "cell_type": "markdown",
   "metadata": {},
   "source": [
    "#### *host_is_superhost*, host_response_time, host_response_rate, property_type, room_type, accommmodates, bathrooms, bedrooms, beds, price, cleaning_fee, extra_people, minimum_night, maximum_night, availability_365, number_of_reviews, review_scores_rating, reviews_per_month를 활용하여 추천 시스템을 만들어보겠다.\n",
    "#### host_since에서 최근에 시작한 업소를 우선순위로 할지, 오랫동안 운영한 업소를 우선순위로 할지 고민을 많이했다. 최근에 시작한 업소는 시설면에서는 좋은 것이고, 오랫동안 운영한 업소는 그만큼 잘해왔다는 점에서 위험성이 줄어든다. 고객의 안전을 최우선으로 생각하기 때문에 나는 오랫동안 운영한 업소를 우선순위로 두고 싶었는데 날짜를 조작하는 것이 매우 힘들어 추천 화면에 host_since를 띄워주어 고객에게 보여주는 방법을 선택하였다.\n",
    "#### Airbnb라는 일반인이 제공하는 공유 숙박 업소의 위험성을 해결해주는 superhost를 최우선으로 두고 한다.\n",
    "#### 각 columns 별로 우선순위를 정해 rank 추천 시스템을 만든다.\n",
    "#### Denver가 있는 콜로라도는 스키, 록키산맥, 자연경관 등으로 유명하다. 관광하는 사람들이 많을 것이라고 생각하여 관광객을 주고객층으로 하고 시작하겠다."
   ]
  },
  {
   "cell_type": "code",
   "execution_count": 58,
   "metadata": {},
   "outputs": [],
   "source": [
    "property_type = 'House' #property_type은 House를\n",
    "room_tpye = 'Entire home/apt' #room_type은 Entire home/apt를\n",
    "accommodates = 6 #6명에서(extra people은 없다)\n",
    "bathrooms = 1 #화장실 1개에\n",
    "bedrooms = 2 #침실 2개에\n",
    "beds = 3 #침대 3개에\n",
    "price_max = 300 #숙박 비용이 200달러를 넘지 않고\n",
    "cleaning_fee_max = 70 #청소 비용이 70달러를 넘지 않고\n",
    "night = 3 #3일동안 지낼 수 있는 property를 원하는 고객이 동적으로 입력을 받았다고 가정하고 시작한다."
   ]
  },
  {
   "cell_type": "code",
   "execution_count": 59,
   "metadata": {},
   "outputs": [],
   "source": [
    "df_recommend = df.loc[(df['property_type']==property_type) & (df['room_type']==room_tpye) & (df['accommodates']==accommodates) & (df['bathrooms']==bathrooms) & (df['bedrooms']==bedrooms) & (df['beds']==beds) & (df['price']<=price_max) & (df['cleaning_fee']<=cleaning_fee_max) & (df['minimum_nights']<=night) & (df['maximum_nights']>=night)]"
   ]
  },
  {
   "cell_type": "code",
   "execution_count": 60,
   "metadata": {},
   "outputs": [],
   "source": [
    "df_recommend = df_recommend.loc[(df_recommend['host_is_superhost']=='t')]"
   ]
  },
  {
   "cell_type": "markdown",
   "metadata": {},
   "source": [
    "### Airbnb는 hotels.com과는 다른 성격을 띤다. Airbnb는 일반인이 제공하는 숙박 업소라는 점인데 사실 이게 굉장히 위험할 수도 있다. 모르는 사람의 집에서 숙박하는 것이기 때문에 꺼림찍하기도 하고 위험성도 따른다. 고객들에게 이러한 점을 깔끔하게 해결해주어야하는데 그게 바로 columns에 있는 'host_is_superhost'이다. Airbnb의 알고리즘에 따라 믿음직한 host에게 주어지는 것이 superhost이다. 그래서 나는 고객들에게 추천할 때 superhost인 데이터 중에서(superhost가 아니라면 추천창에 띄우지 않는다) 여러가지 우선순위들을 고려해서 추천해주겠다. 고객들은 안전을 최우선으로 생각한다."
   ]
  },
  {
   "cell_type": "code",
   "execution_count": 61,
   "metadata": {},
   "outputs": [],
   "source": [
    "df_recommend = df_recommend.reset_index(drop = True)"
   ]
  },
  {
   "cell_type": "code",
   "execution_count": 62,
   "metadata": {},
   "outputs": [],
   "source": [
    "df['host_response_time'] = df['host_response_time'].str.replace('within an hour', '3')\n",
    "df['host_response_time'] = df['host_response_time'].str.replace('within a few hours', '2')\n",
    "df['host_response_time'] = df['host_response_time'].str.replace('within a day', '1')\n",
    "df['host_response_time'] = df['host_response_time'].str.replace('a few days or more', '0')\n",
    "\n",
    "df[['host_response_time']] = df[['host_response_time']].apply(pd.to_numeric)"
   ]
  },
  {
   "cell_type": "markdown",
   "metadata": {},
   "source": [
    "#### within an hour->within a few hours->within a day->a few days or more순으로 3, 2, 1, 0의 값이 지정된다. 숫자가 크면 그만큼 빨리 답장을 해준다는 것으로 해석이 쉽게 가능해지고, 이렇게 하면 정렬할 때 편리해지므로 이렇게 하겠다."
   ]
  },
  {
   "cell_type": "code",
   "execution_count": 63,
   "metadata": {
    "scrolled": true
   },
   "outputs": [],
   "source": [
    "df_recommend = df_recommend.sort_values(by = ['review_scores_rating', 'host_response_time', 'host_response_rate', 'reviews_per_month', 'number_of_reviews'], ascending = False)\n",
    "\n",
    "df_recommend = df_recommend[df_recommend.availability_365 != 0]\n",
    "\n",
    "df_recommend = df_recommend.reset_index(drop = True)"
   ]
  },
  {
   "cell_type": "markdown",
   "metadata": {},
   "source": [
    "#### 우선순위는 Airbnb라는 개인이 운영하는 숙박 업소라는 위험성 부분에서(superhost로 걸러졌지만) 리뷰 점수가 가장 중요하다고 생각하여 1순위로 review_scores_rating\n",
    "#### 2순위로는 응답 시간이 중요하다고 생각하여 host_response_time\n",
    "#### 3순위로는 응답 시간 다음으로 중요한, 결론적으로 응답을 한 비율을 알 수 있는 host_response_rate\n",
    "#### 4순위로는 host가 마음을 다잡고(?) 최근부터 좋게 바뀌어서(?) 최근 1달동안의 리뷰 개수가 많으면 4순위의 자격을 얻을 수 있다는 판단으로(물론 리뷰의 개수가 많기만 하면 안 된다는 것은 알고 있지만 1순위에 review_scores_rating을 지정했기 때문에) reviews_per_month\n",
    "#### 5순위로는 총 리뷰의 개수로 우선순위를 정하고 고객에게 추천하도록 하였다.\n",
    "#### first_review와 last_review도 고민해보았으나 날짜 데이터를 만지는 것이 매우 힘들어 어쩔 수 없이 추천 화면에 띄워 고객에게 보이게끔하여 고객이 판단하도록 하였다.\n",
    "#### 마지막으로 availability_365는 숫자가 클수록 여유가 있다는 것인데 0이면 남아있는 property가 없으니 0인 경우는 제외하고 추천 창을 띄워주었다."
   ]
  },
  {
   "cell_type": "code",
   "execution_count": 64,
   "metadata": {},
   "outputs": [],
   "source": [
    "df_recommend = df_recommend[['id', 'name', 'host_id', 'host_name', 'host_since', 'host_location', 'neighbourhood_cleansed', 'city', 'state', 'zipcode', 'market', 'smart_location', 'country', 'latitude', 'longitude', 'availability_365', 'first_review', 'last_review']]"
   ]
  },
  {
   "cell_type": "code",
   "execution_count": 65,
   "metadata": {},
   "outputs": [
    {
     "data": {
      "text/html": [
       "<div>\n",
       "<style scoped>\n",
       "    .dataframe tbody tr th:only-of-type {\n",
       "        vertical-align: middle;\n",
       "    }\n",
       "\n",
       "    .dataframe tbody tr th {\n",
       "        vertical-align: top;\n",
       "    }\n",
       "\n",
       "    .dataframe thead th {\n",
       "        text-align: right;\n",
       "    }\n",
       "</style>\n",
       "<table border=\"1\" class=\"dataframe\">\n",
       "  <thead>\n",
       "    <tr style=\"text-align: right;\">\n",
       "      <th></th>\n",
       "      <th>id</th>\n",
       "      <th>name</th>\n",
       "      <th>host_id</th>\n",
       "      <th>host_name</th>\n",
       "      <th>host_since</th>\n",
       "      <th>host_location</th>\n",
       "      <th>neighbourhood_cleansed</th>\n",
       "      <th>city</th>\n",
       "      <th>state</th>\n",
       "      <th>zipcode</th>\n",
       "      <th>market</th>\n",
       "      <th>smart_location</th>\n",
       "      <th>country</th>\n",
       "      <th>latitude</th>\n",
       "      <th>longitude</th>\n",
       "      <th>availability_365</th>\n",
       "      <th>first_review</th>\n",
       "      <th>last_review</th>\n",
       "    </tr>\n",
       "  </thead>\n",
       "  <tbody>\n",
       "    <tr>\n",
       "      <td>0</td>\n",
       "      <td>21139434</td>\n",
       "      <td>Capitol Hill Gem near Downtown Denver</td>\n",
       "      <td>152508204</td>\n",
       "      <td>Michael</td>\n",
       "      <td>9/28/2017</td>\n",
       "      <td>Denver, Colorado, United States</td>\n",
       "      <td>Cheesman Park</td>\n",
       "      <td>Denver</td>\n",
       "      <td>CO</td>\n",
       "      <td>80206.0</td>\n",
       "      <td>Denver</td>\n",
       "      <td>Denver, CO</td>\n",
       "      <td>United States</td>\n",
       "      <td>39.73796</td>\n",
       "      <td>-104.96131</td>\n",
       "      <td>144</td>\n",
       "      <td>1/2/2018</td>\n",
       "      <td>9/25/2019</td>\n",
       "    </tr>\n",
       "    <tr>\n",
       "      <td>1</td>\n",
       "      <td>2119667</td>\n",
       "      <td>Reclaimed Retreat With a Glamping Tent in the ...</td>\n",
       "      <td>10535707</td>\n",
       "      <td>Nicole</td>\n",
       "      <td>12/9/2013</td>\n",
       "      <td>Denver, Colorado, United States</td>\n",
       "      <td>Lincoln Park</td>\n",
       "      <td>Denver</td>\n",
       "      <td>CO</td>\n",
       "      <td>80204.0</td>\n",
       "      <td>Denver</td>\n",
       "      <td>Denver, CO</td>\n",
       "      <td>United States</td>\n",
       "      <td>39.73410</td>\n",
       "      <td>-105.00069</td>\n",
       "      <td>316</td>\n",
       "      <td>1/21/2014</td>\n",
       "      <td>9/28/2019</td>\n",
       "    </tr>\n",
       "    <tr>\n",
       "      <td>2</td>\n",
       "      <td>20198585</td>\n",
       "      <td>Renovated Home near Downtown Denver</td>\n",
       "      <td>25663208</td>\n",
       "      <td>Julio</td>\n",
       "      <td>1/5/2015</td>\n",
       "      <td>Denver, Colorado, United States</td>\n",
       "      <td>Clayton</td>\n",
       "      <td>Denver</td>\n",
       "      <td>CO</td>\n",
       "      <td>80205.0</td>\n",
       "      <td>Denver</td>\n",
       "      <td>Denver, CO</td>\n",
       "      <td>United States</td>\n",
       "      <td>39.76973</td>\n",
       "      <td>-104.94417</td>\n",
       "      <td>72</td>\n",
       "      <td>3/11/2019</td>\n",
       "      <td>9/29/2019</td>\n",
       "    </tr>\n",
       "    <tr>\n",
       "      <td>3</td>\n",
       "      <td>26476974</td>\n",
       "      <td>A Denver Home As Fresh as the Colorado Air</td>\n",
       "      <td>106458559</td>\n",
       "      <td>Cameron</td>\n",
       "      <td>12/7/2016</td>\n",
       "      <td>Denver, Colorado, United States</td>\n",
       "      <td>Ruby Hill</td>\n",
       "      <td>Denver</td>\n",
       "      <td>CO</td>\n",
       "      <td>80219.0</td>\n",
       "      <td>Denver</td>\n",
       "      <td>Denver, CO</td>\n",
       "      <td>United States</td>\n",
       "      <td>39.68339</td>\n",
       "      <td>-105.02152</td>\n",
       "      <td>140</td>\n",
       "      <td>7/15/2018</td>\n",
       "      <td>9/29/2019</td>\n",
       "    </tr>\n",
       "    <tr>\n",
       "      <td>4</td>\n",
       "      <td>11240044</td>\n",
       "      <td>House Downtown Denver ??The Lily-Pad??</td>\n",
       "      <td>42241906</td>\n",
       "      <td>Greg</td>\n",
       "      <td>8/22/2015</td>\n",
       "      <td>Eugene, Oregon, United States</td>\n",
       "      <td>Elyria Swansea</td>\n",
       "      <td>Denver</td>\n",
       "      <td>CO</td>\n",
       "      <td>80216.0</td>\n",
       "      <td>Denver</td>\n",
       "      <td>Denver, CO</td>\n",
       "      <td>United States</td>\n",
       "      <td>39.77854</td>\n",
       "      <td>-104.94893</td>\n",
       "      <td>82</td>\n",
       "      <td>5/29/2017</td>\n",
       "      <td>9/15/2019</td>\n",
       "    </tr>\n",
       "    <tr>\n",
       "      <td>5</td>\n",
       "      <td>11713844</td>\n",
       "      <td>Franklin Oasis- Uptown Victorian Sleeps 6!</td>\n",
       "      <td>62275890</td>\n",
       "      <td>Denver Getaway</td>\n",
       "      <td>3/9/2016</td>\n",
       "      <td>Denver, Colorado, United States</td>\n",
       "      <td>City Park West</td>\n",
       "      <td>Denver</td>\n",
       "      <td>CO</td>\n",
       "      <td>80218.0</td>\n",
       "      <td>Denver</td>\n",
       "      <td>Denver, CO</td>\n",
       "      <td>United States</td>\n",
       "      <td>39.74276</td>\n",
       "      <td>-104.96717</td>\n",
       "      <td>68</td>\n",
       "      <td>4/17/2016</td>\n",
       "      <td>9/23/2019</td>\n",
       "    </tr>\n",
       "  </tbody>\n",
       "</table>\n",
       "</div>"
      ],
      "text/plain": [
       "         id                                               name    host_id  \\\n",
       "0  21139434              Capitol Hill Gem near Downtown Denver  152508204   \n",
       "1   2119667  Reclaimed Retreat With a Glamping Tent in the ...   10535707   \n",
       "2  20198585                Renovated Home near Downtown Denver   25663208   \n",
       "3  26476974         A Denver Home As Fresh as the Colorado Air  106458559   \n",
       "4  11240044           House Downtown Denver ??The Lily-Pad??   42241906   \n",
       "5  11713844         Franklin Oasis- Uptown Victorian Sleeps 6!   62275890   \n",
       "\n",
       "        host_name host_since                    host_location  \\\n",
       "0         Michael  9/28/2017  Denver, Colorado, United States   \n",
       "1          Nicole  12/9/2013  Denver, Colorado, United States   \n",
       "2           Julio   1/5/2015  Denver, Colorado, United States   \n",
       "3         Cameron  12/7/2016  Denver, Colorado, United States   \n",
       "4            Greg  8/22/2015    Eugene, Oregon, United States   \n",
       "5  Denver Getaway   3/9/2016  Denver, Colorado, United States   \n",
       "\n",
       "  neighbourhood_cleansed    city state  zipcode  market smart_location  \\\n",
       "0          Cheesman Park  Denver    CO  80206.0  Denver     Denver, CO   \n",
       "1           Lincoln Park  Denver    CO  80204.0  Denver     Denver, CO   \n",
       "2                Clayton  Denver    CO  80205.0  Denver     Denver, CO   \n",
       "3              Ruby Hill  Denver    CO  80219.0  Denver     Denver, CO   \n",
       "4         Elyria Swansea  Denver    CO  80216.0  Denver     Denver, CO   \n",
       "5         City Park West  Denver    CO  80218.0  Denver     Denver, CO   \n",
       "\n",
       "         country  latitude  longitude  availability_365 first_review  \\\n",
       "0  United States  39.73796 -104.96131               144     1/2/2018   \n",
       "1  United States  39.73410 -105.00069               316    1/21/2014   \n",
       "2  United States  39.76973 -104.94417                72    3/11/2019   \n",
       "3  United States  39.68339 -105.02152               140    7/15/2018   \n",
       "4  United States  39.77854 -104.94893                82    5/29/2017   \n",
       "5  United States  39.74276 -104.96717                68    4/17/2016   \n",
       "\n",
       "  last_review  \n",
       "0   9/25/2019  \n",
       "1   9/28/2019  \n",
       "2   9/29/2019  \n",
       "3   9/29/2019  \n",
       "4   9/15/2019  \n",
       "5   9/23/2019  "
      ]
     },
     "execution_count": 65,
     "metadata": {},
     "output_type": "execute_result"
    }
   ],
   "source": [
    "df_recommend\n",
    "#superhost이고, 우선순위가 고려된 추천 property. 맨 위에서부터 1순위, 2순위...로 시작한다."
   ]
  },
  {
   "cell_type": "markdown",
   "metadata": {},
   "source": [
    "#### 이것이 최종적인 고객이 요구하는 조건에 맞는, superhost이면서 내가 정한 우선순위에 따른 property의 rank이고, availability_365를 고객에게 확인 시켜줌으로써 이 property가 얼마나 여유 있는 숙박 업소인지를 알려준다."
   ]
  }
 ],
 "metadata": {
  "kernelspec": {
   "display_name": "Python 3",
   "language": "python",
   "name": "python3"
  },
  "language_info": {
   "codemirror_mode": {
    "name": "ipython",
    "version": 3
   },
   "file_extension": ".py",
   "mimetype": "text/x-python",
   "name": "python",
   "nbconvert_exporter": "python",
   "pygments_lexer": "ipython3",
   "version": "3.7.4"
  }
 },
 "nbformat": 4,
 "nbformat_minor": 2
}
